{
 "cells": [
  {
   "cell_type": "markdown",
   "id": "291da849-c657-4059-ad34-72dae713b911",
   "metadata": {},
   "source": [
    "# Aplicando PyMFE ao conjunto de dados escolhidos"
   ]
  },
  {
   "cell_type": "markdown",
   "id": "b38bcd33-1379-4660-aa99-6c2843739238",
   "metadata": {},
   "source": [
    "## Instalação de pacotes necessários"
   ]
  },
  {
   "cell_type": "code",
   "execution_count": 81,
   "id": "ffbb760c-b0b3-45c9-ba80-a252cb71b321",
   "metadata": {},
   "outputs": [],
   "source": [
    "!pip install -Uq pymfe"
   ]
  },
  {
   "cell_type": "markdown",
   "id": "ceb79829-c2c6-4bb6-824c-d599a3357fde",
   "metadata": {},
   "source": [
    "## Imports"
   ]
  },
  {
   "cell_type": "code",
   "execution_count": 15,
   "id": "a6399030-8200-48ef-b3d4-dc06a59d1623",
   "metadata": {},
   "outputs": [],
   "source": [
    "import os\n",
    "\n",
    "import openml\n",
    "import pandas as pd\n",
    "from pymfe.mfe import MFE\n",
    "from tqdm.notebook import tqdm\n",
    "\n",
    "from config import dataset_ids"
   ]
  },
  {
   "cell_type": "markdown",
   "id": "dbfed9dd-7e08-457e-b555-b1fc444942ff",
   "metadata": {},
   "source": [
    "## Recuperando dados"
   ]
  },
  {
   "cell_type": "code",
   "execution_count": 5,
   "id": "557e3e20-7302-49f7-b170-f80f1d904114",
   "metadata": {},
   "outputs": [],
   "source": [
    "%%capture output\n",
    "datasets = openml.datasets.get_datasets(dataset_ids, download_data=True, download_qualities=True)"
   ]
  },
  {
   "cell_type": "markdown",
   "id": "d6abfa8d-2801-49c7-8ac7-f8735a01e730",
   "metadata": {},
   "source": [
    "## Extraindo MetaFeatures dos Conjuntos de Dados"
   ]
  },
  {
   "cell_type": "code",
   "execution_count": 18,
   "id": "6290225e-6fb2-440f-83b3-8102877083ab",
   "metadata": {},
   "outputs": [],
   "source": [
    "def get_mf_df(dataset: openml.datasets.dataset.OpenMLDataset) -> pd.DataFrame:\n",
    "    \n",
    "    X, y, *_ = dataset.get_data(target=dataset.default_target_attribute)\n",
    "    \n",
    "    extractor = MFE(groups='all')\n",
    "    extractor.fit(X.to_numpy(), y.to_numpy(), suppress_warnings=True)\n",
    "    result = extractor.extract(suppress_warnings=True)\n",
    "    \n",
    "    colunas = ['openml_id'] + result[0]\n",
    "    dados = [[dataset.dataset_id] + result[1]]\n",
    "\n",
    "    file_path = 'metafeatures.csv'\n",
    "    pd.DataFrame(columns=colunas, data=dados).to_csv(file_path,\n",
    "                                                     mode='a',\n",
    "                                                     header=not os.path.exists(file_path),\n",
    "                                                     index=False)\n",
    "    \n",
    "    return "
   ]
  },
  {
   "cell_type": "code",
   "execution_count": null,
   "id": "ab1d94eb-ec1e-48ec-881d-adbed9c39990",
   "metadata": {
    "editable": true,
    "scrolled": true,
    "slideshow": {
     "slide_type": ""
    },
    "tags": []
   },
   "outputs": [
    {
     "data": {
      "application/vnd.jupyter.widget-view+json": {
       "model_id": "0c209c9b84e849b1905bc3d760785665",
       "version_major": 2,
       "version_minor": 0
      },
      "text/plain": [
       "  0%|          | 0/71 [00:00<?, ?it/s]"
      ]
     },
     "metadata": {},
     "output_type": "display_data"
    },
    {
     "name": "stderr",
     "output_type": "stream",
     "text": [
      "/home/gabriel/UnB/PIBIC/Experiments/venv/lib/python3.11/site-packages/openml/datasets/dataset.py:454: FutureWarning: factorize with argument that is not not a Series, Index, ExtensionArray, or np.ndarray is deprecated and will raise in a future version.\n",
      "  pd.factorize(type_)[0]\n"
     ]
    }
   ],
   "source": [
    "for d in tqdm(datasets):\n",
    "    get_mf_df(d)"
   ]
  },
  {
   "cell_type": "code",
   "execution_count": 48,
   "id": "aa3166f5-d5a3-4230-a9bb-45e00845ea9f",
   "metadata": {},
   "outputs": [],
   "source": [
    "df = pd.DataFrame(columns=ft[0], data=[ft[1]] )"
   ]
  },
  {
   "cell_type": "code",
   "execution_count": 49,
   "id": "e322d24c-aa15-4f26-9330-4e2b9517f9a1",
   "metadata": {},
   "outputs": [],
   "source": [
    "df.to_csv('metafeatures.csv')"
   ]
  },
  {
   "cell_type": "code",
   "execution_count": null,
   "id": "fb531f28-9ce4-4893-885e-d0fb907e2eca",
   "metadata": {},
   "outputs": [],
   "source": []
  }
 ],
 "metadata": {
  "kernelspec": {
   "display_name": "local-env",
   "language": "python",
   "name": "local-env"
  },
  "language_info": {
   "codemirror_mode": {
    "name": "ipython",
    "version": 3
   },
   "file_extension": ".py",
   "mimetype": "text/x-python",
   "name": "python",
   "nbconvert_exporter": "python",
   "pygments_lexer": "ipython3",
   "version": "3.11.6"
  }
 },
 "nbformat": 4,
 "nbformat_minor": 5
}
