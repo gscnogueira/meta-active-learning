{
 "cells": [
  {
   "cell_type": "markdown",
   "id": "db56b580-a704-4de5-84c7-c6256cac4783",
   "metadata": {},
   "source": [
    "# Extração de Informações de instance hardness dos conjuntos de dados (PyHard)"
   ]
  },
  {
   "cell_type": "markdown",
   "id": "2d406457-5f2d-4a59-b986-b90f7ec7477d",
   "metadata": {},
   "source": [
    "## Instalação de Pacotes"
   ]
  },
  {
   "cell_type": "code",
   "execution_count": 1,
   "id": "abe41bde-c333-4e61-b66e-e08ad93ef5c8",
   "metadata": {},
   "outputs": [],
   "source": [
    "!pip install -qqU pyhard"
   ]
  },
  {
   "cell_type": "markdown",
   "id": "4ab8cc9f-fdf0-4eff-afa0-237ed7d00fe3",
   "metadata": {},
   "source": [
    "## Imports"
   ]
  },
  {
   "cell_type": "code",
   "execution_count": 8,
   "id": "ae0a3188-915e-4959-964c-e4e61f72f46c",
   "metadata": {},
   "outputs": [],
   "source": [
    "import os\n",
    "import yaml\n",
    "import shutil\n",
    "\n",
    "import pyhard\n",
    "from tqdm.notebook import tqdm\n",
    "\n",
    "from config import DATASETS_PATH, PYHARD_DIR"
   ]
  },
  {
   "cell_type": "markdown",
   "id": "aefa71fc-4ddb-4d80-a665-1c824516e7ba",
   "metadata": {},
   "source": [
    "## Recuperando conjuntos de dados"
   ]
  },
  {
   "cell_type": "code",
   "execution_count": 3,
   "id": "639a4e24-befe-4732-8b4a-ff599ebd7d2a",
   "metadata": {},
   "outputs": [],
   "source": [
    "dataset_files = [os.path.join('..', DATASETS_PATH, file) for file in os.listdir(DATASETS_PATH) if file.endswith('.csv')]"
   ]
  },
  {
   "cell_type": "code",
   "execution_count": 4,
   "id": "4b333411-f702-4a1d-8bf0-c11cda86d293",
   "metadata": {},
   "outputs": [
    {
     "name": "stdout",
     "output_type": "stream",
     "text": [
      "70 datasets disponíveis\n"
     ]
    }
   ],
   "source": [
    "print(f'{len(dataset_files)} datasets disponíveis')"
   ]
  },
  {
   "cell_type": "markdown",
   "id": "177e499a-dfdb-44ba-b4bf-b61d803b1e97",
   "metadata": {},
   "source": [
    "## Aplicando o PyHard aos datasets"
   ]
  },
  {
   "cell_type": "code",
   "execution_count": 5,
   "id": "cc99716e-ca6a-4eb1-bdec-f554eb77a79e",
   "metadata": {},
   "outputs": [
    {
     "name": "stdout",
     "output_type": "stream",
     "text": [
      "\u001b[32mSuccess! Config files generated.\u001b[0m\n",
      "CPU times: user 150 ms, sys: 12.5 ms, total: 163 ms\n",
      "Wall time: 6.91 s\n"
     ]
    }
   ],
   "source": [
    "%%time\n",
    "!pyhard init"
   ]
  },
  {
   "cell_type": "markdown",
   "id": "ec7e2959-8f56-4492-bcf5-d1fe03544909",
   "metadata": {},
   "source": [
    "Criando ambiêntes para datasets:"
   ]
  },
  {
   "cell_type": "code",
   "execution_count": 6,
   "id": "c8ab1ee5-b2d4-4b51-98f9-75b8ec30d3d8",
   "metadata": {},
   "outputs": [],
   "source": [
    "def apply_pyhard(dataset_path: str) -> None:\n",
    "    \n",
    "    prev_cwd = os.getcwd()\n",
    "\n",
    "    dataset_id = os.path.splitext(os.path.basename(dataset_path))[0]\n",
    "    dataset_env = os.path.join(PYHARD_DIR,dataset_id)\n",
    "    try:\n",
    "        os.mkdir(dataset_env)\n",
    "    except FileExistsError:\n",
    "        pass\n",
    "        \n",
    "    shutil.copy('config.yaml', dataset_env)\n",
    "    shutil.copy('options.json', dataset_env)\n",
    "\n",
    "    try:\n",
    "        # muda para contexto do dataset\n",
    "        os.chdir(dataset_env)\n",
    "    \n",
    "        with open(os.path.join('config.yaml'), 'r') as f:\n",
    "            yaml_config = yaml.safe_load(f)\n",
    "        \n",
    "        with open(os.path.join('config.yaml'), 'w') as f:\n",
    "            yaml_config['general']['datafile'] = dataset_path\n",
    "            yaml.dump(yaml_config, f, default_flow_style=False)\n",
    "\n",
    "        os.system('pyhard  run')\n",
    "    finally:\n",
    "        # restaura_cwd\n",
    "        os.chdir(prev_cwd)\n",
    "        \n",
    "    \n"
   ]
  },
  {
   "cell_type": "code",
   "execution_count": null,
   "id": "f38852f9-394b-4770-9ff7-2847ae538713",
   "metadata": {
    "scrolled": true
   },
   "outputs": [
    {
     "data": {
      "application/vnd.jupyter.widget-view+json": {
       "model_id": "f6d3f05f711c467cab58d11026c03432",
       "version_major": 2,
       "version_minor": 0
      },
      "text/plain": [
       "  0%|          | 0/70 [00:00<?, ?it/s]"
      ]
     },
     "metadata": {},
     "output_type": "display_data"
    },
    {
     "name": "stderr",
     "output_type": "stream",
     "text": [
      "\u001b[38;21m[INFO] 2024-02-20 11:27:03,261 - Configuration file: '/home/gabrielscn/meta-active-learning/pyhard/1535/config.yaml'\u001b[0m\n",
      "\u001b[38;21m[INFO] 2024-02-20 11:27:03,266 - Reading input dataset: '/home/gabrielscn/meta-active-learning/datasets/1535.csv'\u001b[0m\n",
      "\u001b[38;21m[INFO] 2024-02-20 11:27:03,274 - Type of problem: 'classification'\u001b[0m\n",
      "\u001b[33;21m[WARNING] 2024-02-20 11:27:03,276 - Classes are unbalanced (imbalance ratio > 1.5). This may change the way the results are interpreted.\u001b[0m\n",
      "\u001b[38;21m[INFO] 2024-02-20 11:27:03,277 - Seed=0\u001b[0m\n",
      "\u001b[38;21m[INFO] 2024-02-20 11:27:03,277 - Building metadata.\u001b[0m\n",
      "\u001b[38;21m[INFO] 2024-02-20 11:27:22,640 - Calculating measure 'CL'\u001b[0m\n",
      "\u001b[38;21m[INFO] 2024-02-20 11:27:22,644 - Calculating measure 'CLD'\u001b[0m\n",
      "\u001b[38;21m[INFO] 2024-02-20 11:27:22,648 - Calculating measure 'DCP'\u001b[0m\n",
      "\u001b[38;21m[INFO] 2024-02-20 11:27:33,966 - Calculating measure 'F1'\u001b[0m\n",
      "\u001b[38;21m[INFO] 2024-02-20 11:27:33,997 - Calculating measure 'Harmfulness'\u001b[0m\n",
      "\u001b[38;21m[INFO] 2024-02-20 11:27:34,665 - Calculating measure 'LSC'\u001b[0m\n",
      "\u001b[38;21m[INFO] 2024-02-20 11:27:43,041 - Calculating measure 'LSR'\u001b[0m\n",
      "\u001b[38;21m[INFO] 2024-02-20 11:27:51,420 - Calculating measure 'N1'\u001b[0m\n",
      "\u001b[38;21m[INFO] 2024-02-20 11:28:21,419 - Calculating measure 'N2'\u001b[0m\n",
      "\u001b[38;21m[INFO] 2024-02-20 11:28:34,413 - Calculating measure 'TD_P'\u001b[0m\n",
      "\u001b[38;21m[INFO] 2024-02-20 11:28:36,664 - Calculating measure 'TD_U'\u001b[0m\n",
      "\u001b[38;21m[INFO] 2024-02-20 11:28:39,540 - Calculating measure 'Usefulness'\u001b[0m\n",
      "\u001b[38;21m[INFO] 2024-02-20 11:28:40,131 - Calculating measure 'kDN'\u001b[0m\n",
      "\u001b[38;21m[INFO] 2024-02-20 11:28:43,290 - Hyper parameter optimization enabled\u001b[0m\n",
      "\u001b[38;21m[INFO] 2024-02-20 11:28:43,291 - Assessing performance of classifier 'bagging'\u001b[0m\n",
      "\u001b[38;21m[INFO] 2024-02-20 11:28:43,292 - Estimating instance performance...\u001b[0m\n",
      "\u001b[38;21m[INFO] 2024-02-20 11:28:43,294 - Evaluating testing fold #1\u001b[0m\n",
      "\u001b[38;21m[INFO] 2024-02-20 11:28:43,294 - Over-sampling training fold with SMOTE\u001b[0m\n",
      "\u001b[38;21m[INFO] 2024-02-20 11:28:43,311 - Optimizing classifier hyper-parameters\u001b[0m\n"
     ]
    },
    {
     "name": "stdout",
     "output_type": "stream",
     "text": [
      "100%|██████████| 10/10 [00:32<00:00,  3.23s/trial, best loss: -0.9287926846201825]\n"
     ]
    },
    {
     "name": "stderr",
     "output_type": "stream",
     "text": [
      "\u001b[38;21m[INFO] 2024-02-20 11:29:15,575 - Calibrating probabilities\u001b[0m\n",
      "\u001b[38;21m[INFO] 2024-02-20 11:29:21,383 - Test fold mean accuracy: 0.8303303303303303\u001b[0m\n",
      "\u001b[38;21m[INFO] 2024-02-20 11:29:21,384 - Evaluating testing fold #2\u001b[0m\n",
      "\u001b[38;21m[INFO] 2024-02-20 11:29:21,388 - Over-sampling training fold with SMOTE\u001b[0m\n",
      "\u001b[38;21m[INFO] 2024-02-20 11:29:21,439 - Optimizing classifier hyper-parameters\u001b[0m\n"
     ]
    },
    {
     "name": "stdout",
     "output_type": "stream",
     "text": [
      "100%|██████████| 10/10 [00:29<00:00,  2.99s/trial, best loss: -0.9367886442689777]\n"
     ]
    },
    {
     "name": "stderr",
     "output_type": "stream",
     "text": [
      "\u001b[38;21m[INFO] 2024-02-20 11:29:51,311 - Calibrating probabilities\u001b[0m\n",
      "\u001b[38;21m[INFO] 2024-02-20 11:29:56,913 - Test fold mean accuracy: 0.8363363363363363\u001b[0m\n",
      "\u001b[38;21m[INFO] 2024-02-20 11:29:56,915 - Evaluating testing fold #3\u001b[0m\n",
      "\u001b[38;21m[INFO] 2024-02-20 11:29:56,915 - Over-sampling training fold with SMOTE\u001b[0m\n",
      "\u001b[38;21m[INFO] 2024-02-20 11:29:56,933 - Optimizing classifier hyper-parameters\u001b[0m\n"
     ]
    },
    {
     "name": "stdout",
     "output_type": "stream",
     "text": [
      "100%|██████████| 10/10 [00:31<00:00,  3.19s/trial, best loss: -0.9351737984426632]\n"
     ]
    },
    {
     "name": "stderr",
     "output_type": "stream",
     "text": [
      "\u001b[38;21m[INFO] 2024-02-20 11:30:28,849 - Calibrating probabilities\u001b[0m\n",
      "\u001b[38;21m[INFO] 2024-02-20 11:30:33,043 - Test fold mean accuracy: 0.8468468468468469\u001b[0m\n",
      "\u001b[38;21m[INFO] 2024-02-20 11:30:33,044 - Evaluating testing fold #4\u001b[0m\n",
      "\u001b[38;21m[INFO] 2024-02-20 11:30:33,045 - Over-sampling training fold with SMOTE\u001b[0m\n",
      "\u001b[38;21m[INFO] 2024-02-20 11:30:33,064 - Optimizing classifier hyper-parameters\u001b[0m\n"
     ]
    },
    {
     "name": "stdout",
     "output_type": "stream",
     "text": [
      "100%|██████████| 10/10 [00:30<00:00,  3.06s/trial, best loss: -0.9323177083333333]\n"
     ]
    },
    {
     "name": "stderr",
     "output_type": "stream",
     "text": [
      "\u001b[38;21m[INFO] 2024-02-20 11:31:03,695 - Calibrating probabilities\u001b[0m\n",
      "\u001b[38;21m[INFO] 2024-02-20 11:31:10,883 - Test fold mean accuracy: 0.8663663663663663\u001b[0m\n",
      "\u001b[38;21m[INFO] 2024-02-20 11:31:10,884 - Evaluating testing fold #5\u001b[0m\n",
      "\u001b[38;21m[INFO] 2024-02-20 11:31:10,884 - Over-sampling training fold with SMOTE\u001b[0m\n",
      "\u001b[38;21m[INFO] 2024-02-20 11:31:10,903 - Optimizing classifier hyper-parameters\u001b[0m\n"
     ]
    },
    {
     "name": "stdout",
     "output_type": "stream",
     "text": [
      "100%|██████████| 10/10 [00:30<00:00,  3.03s/trial, best loss: -0.9288186876218708]\n"
     ]
    },
    {
     "name": "stderr",
     "output_type": "stream",
     "text": [
      "\u001b[38;21m[INFO] 2024-02-20 11:31:41,233 - Calibrating probabilities\u001b[0m\n",
      "\u001b[38;21m[INFO] 2024-02-20 11:31:47,336 - Test fold mean accuracy: 0.8237356034051077\u001b[0m\n",
      "\u001b[38;21m[INFO] 2024-02-20 11:31:47,336 - Iteration 1/1 completed.\u001b[0m\n",
      "\u001b[38;21m[INFO] 2024-02-20 11:31:47,338 - Mean accuracy on test instances (iteration #1): 0.8407\u001b[0m\n",
      "\u001b[38;21m[INFO] 2024-02-20 11:31:47,342 - Assessing performance of classifier 'gradient_boosting'\u001b[0m\n",
      "\u001b[38;21m[INFO] 2024-02-20 11:31:47,344 - Estimating instance performance...\u001b[0m\n",
      "\u001b[38;21m[INFO] 2024-02-20 11:31:47,345 - Evaluating testing fold #1\u001b[0m\n",
      "\u001b[38;21m[INFO] 2024-02-20 11:31:47,345 - Over-sampling training fold with SMOTE\u001b[0m\n",
      "\u001b[38;21m[INFO] 2024-02-20 11:31:47,362 - Optimizing classifier hyper-parameters\u001b[0m\n"
     ]
    },
    {
     "name": "stdout",
     "output_type": "stream",
     "text": [
      " 10%|█         | 1/10 [02:29<22:26, 149.61s/trial, best loss: -0.6036461454550772]\n"
     ]
    },
    {
     "name": "stderr",
     "output_type": "stream",
     "text": [
      "\u001b[38;21m[INFO] 2024-02-20 11:34:16,978 - Calibrating probabilities\u001b[0m\n",
      "\u001b[38;21m[INFO] 2024-02-20 11:38:05,606 - Test fold mean accuracy: 0.7502502502502503\u001b[0m\n",
      "\u001b[38;21m[INFO] 2024-02-20 11:38:05,607 - Evaluating testing fold #2\u001b[0m\n",
      "\u001b[38;21m[INFO] 2024-02-20 11:38:05,607 - Over-sampling training fold with SMOTE\u001b[0m\n",
      "\u001b[38;21m[INFO] 2024-02-20 11:38:05,637 - Optimizing classifier hyper-parameters\u001b[0m\n"
     ]
    },
    {
     "name": "stdout",
     "output_type": "stream",
     "text": [
      " 10%|█         | 1/10 [02:31<22:42, 151.38s/trial, best loss: -0.6166688080783645]\n"
     ]
    },
    {
     "name": "stderr",
     "output_type": "stream",
     "text": [
      "\u001b[38;21m[INFO] 2024-02-20 11:40:37,017 - Calibrating probabilities\u001b[0m\n",
      "\u001b[38;21m[INFO] 2024-02-20 11:44:27,397 - Test fold mean accuracy: 0.7692692692692693\u001b[0m\n",
      "\u001b[38;21m[INFO] 2024-02-20 11:44:27,398 - Evaluating testing fold #3\u001b[0m\n",
      "\u001b[38;21m[INFO] 2024-02-20 11:44:27,399 - Over-sampling training fold with SMOTE\u001b[0m\n",
      "\u001b[38;21m[INFO] 2024-02-20 11:44:27,428 - Optimizing classifier hyper-parameters\u001b[0m\n"
     ]
    },
    {
     "name": "stdout",
     "output_type": "stream",
     "text": [
      " 10%|█         | 1/10 [02:31<22:47, 151.98s/trial, best loss: -0.6197420991442237]\n"
     ]
    },
    {
     "name": "stderr",
     "output_type": "stream",
     "text": [
      "\u001b[38;21m[INFO] 2024-02-20 11:46:59,411 - Calibrating probabilities\u001b[0m\n",
      "\u001b[38;21m[INFO] 2024-02-20 11:50:48,516 - Test fold mean accuracy: 0.7717717717717718\u001b[0m\n",
      "\u001b[38;21m[INFO] 2024-02-20 11:50:48,517 - Evaluating testing fold #4\u001b[0m\n",
      "\u001b[38;21m[INFO] 2024-02-20 11:50:48,517 - Over-sampling training fold with SMOTE\u001b[0m\n",
      "\u001b[38;21m[INFO] 2024-02-20 11:50:48,545 - Optimizing classifier hyper-parameters\u001b[0m\n"
     ]
    },
    {
     "name": "stdout",
     "output_type": "stream",
     "text": [
      " 10%|█         | 1/10 [02:31<22:43, 151.55s/trial, best loss: -0.6076302083333333]\n"
     ]
    },
    {
     "name": "stderr",
     "output_type": "stream",
     "text": [
      "\u001b[38;21m[INFO] 2024-02-20 11:53:20,097 - Calibrating probabilities\u001b[0m\n",
      "\u001b[38;21m[INFO] 2024-02-20 11:57:10,246 - Test fold mean accuracy: 0.7917917917917918\u001b[0m\n",
      "\u001b[38;21m[INFO] 2024-02-20 11:57:10,246 - Evaluating testing fold #5\u001b[0m\n",
      "\u001b[38;21m[INFO] 2024-02-20 11:57:10,247 - Over-sampling training fold with SMOTE\u001b[0m\n",
      "\u001b[38;21m[INFO] 2024-02-20 11:57:10,267 - Optimizing classifier hyper-parameters\u001b[0m\n"
     ]
    },
    {
     "name": "stdout",
     "output_type": "stream",
     "text": [
      " 10%|█         | 1/10 [02:33<23:00, 153.44s/trial, best loss: -0.6258627372887354]\n"
     ]
    },
    {
     "name": "stderr",
     "output_type": "stream",
     "text": [
      "\u001b[38;21m[INFO] 2024-02-20 11:59:43,707 - Calibrating probabilities\u001b[0m\n",
      "\u001b[38;21m[INFO] 2024-02-20 12:03:34,105 - Test fold mean accuracy: 0.758137205808713\u001b[0m\n",
      "\u001b[38;21m[INFO] 2024-02-20 12:03:34,105 - Iteration 1/1 completed.\u001b[0m\n",
      "\u001b[38;21m[INFO] 2024-02-20 12:03:34,105 - Mean accuracy on test instances (iteration #1): 0.7682\u001b[0m\n",
      "\u001b[38;21m[INFO] 2024-02-20 12:03:34,107 - Assessing performance of classifier 'logistic_regression'\u001b[0m\n",
      "\u001b[38;21m[INFO] 2024-02-20 12:03:34,108 - Estimating instance performance...\u001b[0m\n",
      "\u001b[38;21m[INFO] 2024-02-20 12:03:34,109 - Evaluating testing fold #1\u001b[0m\n",
      "\u001b[38;21m[INFO] 2024-02-20 12:03:34,110 - Over-sampling training fold with SMOTE\u001b[0m\n",
      "\u001b[38;21m[INFO] 2024-02-20 12:03:34,125 - Optimizing classifier hyper-parameters\u001b[0m\n"
     ]
    },
    {
     "name": "stdout",
     "output_type": "stream",
     "text": [
      "100%|██████████| 10/10 [00:01<00:00,  6.66trial/s, best loss: -0.3972912324345481]\n"
     ]
    },
    {
     "name": "stderr",
     "output_type": "stream",
     "text": [
      "\u001b[38;21m[INFO] 2024-02-20 12:03:35,628 - Calibrating probabilities\u001b[0m\n",
      "\u001b[38;21m[INFO] 2024-02-20 12:03:36,129 - Test fold mean accuracy: 0.8413413413413413\u001b[0m\n",
      "\u001b[38;21m[INFO] 2024-02-20 12:03:36,130 - Evaluating testing fold #2\u001b[0m\n",
      "\u001b[38;21m[INFO] 2024-02-20 12:03:36,130 - Over-sampling training fold with SMOTE\u001b[0m\n",
      "\u001b[38;21m[INFO] 2024-02-20 12:03:36,168 - Optimizing classifier hyper-parameters\u001b[0m\n"
     ]
    },
    {
     "name": "stdout",
     "output_type": "stream",
     "text": [
      "100%|██████████| 10/10 [00:01<00:00,  6.14trial/s, best loss: -0.4056516594182435]\n"
     ]
    },
    {
     "name": "stderr",
     "output_type": "stream",
     "text": [
      "\u001b[38;21m[INFO] 2024-02-20 12:03:37,800 - Calibrating probabilities\u001b[0m\n",
      "\u001b[38;21m[INFO] 2024-02-20 12:03:38,332 - Test fold mean accuracy: 0.8408408408408409\u001b[0m\n",
      "\u001b[38;21m[INFO] 2024-02-20 12:03:38,333 - Evaluating testing fold #3\u001b[0m\n",
      "\u001b[38;21m[INFO] 2024-02-20 12:03:38,333 - Over-sampling training fold with SMOTE\u001b[0m\n",
      "\u001b[38;21m[INFO] 2024-02-20 12:03:38,371 - Optimizing classifier hyper-parameters\u001b[0m\n"
     ]
    },
    {
     "name": "stdout",
     "output_type": "stream",
     "text": [
      "100%|██████████| 10/10 [00:01<00:00,  5.34trial/s, best loss: -0.4095062350692598]\n"
     ]
    },
    {
     "name": "stderr",
     "output_type": "stream",
     "text": [
      "\u001b[38;21m[INFO] 2024-02-20 12:03:40,247 - Calibrating probabilities\u001b[0m\n",
      "\u001b[38;21m[INFO] 2024-02-20 12:03:40,700 - Test fold mean accuracy: 0.8733733733733734\u001b[0m\n",
      "\u001b[38;21m[INFO] 2024-02-20 12:03:40,700 - Evaluating testing fold #4\u001b[0m\n",
      "\u001b[38;21m[INFO] 2024-02-20 12:03:40,701 - Over-sampling training fold with SMOTE\u001b[0m\n",
      "\u001b[38;21m[INFO] 2024-02-20 12:03:40,739 - Optimizing classifier hyper-parameters\u001b[0m\n"
     ]
    },
    {
     "name": "stdout",
     "output_type": "stream",
     "text": [
      "100%|██████████| 10/10 [00:01<00:00,  5.38trial/s, best loss: -0.4328385416666667]\n"
     ]
    },
    {
     "name": "stderr",
     "output_type": "stream",
     "text": [
      "\u001b[38;21m[INFO] 2024-02-20 12:03:42,600 - Calibrating probabilities\u001b[0m\n",
      "\u001b[38;21m[INFO] 2024-02-20 12:03:43,150 - Test fold mean accuracy: 0.8613613613613613\u001b[0m\n",
      "\u001b[38;21m[INFO] 2024-02-20 12:03:43,150 - Evaluating testing fold #5\u001b[0m\n",
      "\u001b[38;21m[INFO] 2024-02-20 12:03:43,151 - Over-sampling training fold with SMOTE\u001b[0m\n",
      "\u001b[38;21m[INFO] 2024-02-20 12:03:43,189 - Optimizing classifier hyper-parameters\u001b[0m\n"
     ]
    },
    {
     "name": "stdout",
     "output_type": "stream",
     "text": [
      "100%|██████████| 10/10 [00:01<00:00,  5.17trial/s, best loss: -0.3854405668958802]\n"
     ]
    },
    {
     "name": "stderr",
     "output_type": "stream",
     "text": [
      "\u001b[38;21m[INFO] 2024-02-20 12:03:45,126 - Calibrating probabilities\u001b[0m\n",
      "\u001b[38;21m[INFO] 2024-02-20 12:03:45,546 - Test fold mean accuracy: 0.8392588883324987\u001b[0m\n",
      "\u001b[38;21m[INFO] 2024-02-20 12:03:45,547 - Iteration 1/1 completed.\u001b[0m\n",
      "\u001b[38;21m[INFO] 2024-02-20 12:03:45,547 - Mean accuracy on test instances (iteration #1): 0.8512\u001b[0m\n",
      "\u001b[38;21m[INFO] 2024-02-20 12:03:45,549 - Assessing performance of classifier 'mlp'\u001b[0m\n",
      "\u001b[38;21m[INFO] 2024-02-20 12:03:45,551 - Estimating instance performance...\u001b[0m\n",
      "\u001b[38;21m[INFO] 2024-02-20 12:03:45,554 - Evaluating testing fold #1\u001b[0m\n",
      "\u001b[38;21m[INFO] 2024-02-20 12:03:45,554 - Over-sampling training fold with SMOTE\u001b[0m\n",
      "\u001b[38;21m[INFO] 2024-02-20 12:03:45,592 - Optimizing classifier hyper-parameters\u001b[0m\n"
     ]
    },
    {
     "name": "stdout",
     "output_type": "stream",
     "text": [
      " 20%|██        | 2/10 [01:57<07:51, 58.92s/trial, best loss: -0.7539520685925077]\n"
     ]
    },
    {
     "name": "stderr",
     "output_type": "stream",
     "text": [
      "\u001b[38;21m[INFO] 2024-02-20 12:05:43,442 - Calibrating probabilities\u001b[0m\n",
      "\u001b[38;21m[INFO] 2024-02-20 12:07:15,678 - Test fold mean accuracy: 0.7062062062062062\u001b[0m\n",
      "\u001b[38;21m[INFO] 2024-02-20 12:07:15,679 - Evaluating testing fold #2\u001b[0m\n",
      "\u001b[38;21m[INFO] 2024-02-20 12:07:15,680 - Over-sampling training fold with SMOTE\u001b[0m\n",
      "\u001b[38;21m[INFO] 2024-02-20 12:07:15,720 - Optimizing classifier hyper-parameters\u001b[0m\n"
     ]
    },
    {
     "name": "stdout",
     "output_type": "stream",
     "text": [
      " 20%|██        | 2/10 [01:35<06:20, 47.56s/trial, best loss: -0.7727044655725243]\n"
     ]
    },
    {
     "name": "stderr",
     "output_type": "stream",
     "text": [
      "\u001b[38;21m[INFO] 2024-02-20 12:08:50,838 - Calibrating probabilities\u001b[0m\n",
      "\u001b[38;21m[INFO] 2024-02-20 12:10:01,080 - Test fold mean accuracy: 0.7172172172172172\u001b[0m\n",
      "\u001b[38;21m[INFO] 2024-02-20 12:10:01,081 - Evaluating testing fold #3\u001b[0m\n",
      "\u001b[38;21m[INFO] 2024-02-20 12:10:01,082 - Over-sampling training fold with SMOTE\u001b[0m\n",
      "\u001b[38;21m[INFO] 2024-02-20 12:10:01,124 - Optimizing classifier hyper-parameters\u001b[0m\n"
     ]
    },
    {
     "name": "stdout",
     "output_type": "stream",
     "text": [
      " 20%|██        | 2/10 [01:35<06:21, 47.65s/trial, best loss: -0.7734338662532333]\n"
     ]
    },
    {
     "name": "stderr",
     "output_type": "stream",
     "text": [
      "\u001b[38;21m[INFO] 2024-02-20 12:11:36,431 - Calibrating probabilities\u001b[0m\n",
      "\u001b[38;21m[INFO] 2024-02-20 12:12:50,640 - Test fold mean accuracy: 0.7412412412412412\u001b[0m\n",
      "\u001b[38;21m[INFO] 2024-02-20 12:12:50,640 - Evaluating testing fold #4\u001b[0m\n",
      "\u001b[38;21m[INFO] 2024-02-20 12:12:50,641 - Over-sampling training fold with SMOTE\u001b[0m\n",
      "\u001b[38;21m[INFO] 2024-02-20 12:12:50,682 - Optimizing classifier hyper-parameters\u001b[0m\n"
     ]
    },
    {
     "name": "stdout",
     "output_type": "stream",
     "text": [
      " 20%|██        | 2/10 [01:37<06:29, 48.72s/trial, best loss: -0.756171875]\n"
     ]
    },
    {
     "name": "stderr",
     "output_type": "stream",
     "text": [
      "\u001b[38;21m[INFO] 2024-02-20 12:14:28,125 - Calibrating probabilities\u001b[0m\n",
      "\u001b[38;21m[INFO] 2024-02-20 12:15:42,304 - Test fold mean accuracy: 0.7727727727727728\u001b[0m\n",
      "\u001b[38;21m[INFO] 2024-02-20 12:15:42,305 - Evaluating testing fold #5\u001b[0m\n",
      "\u001b[38;21m[INFO] 2024-02-20 12:15:42,305 - Over-sampling training fold with SMOTE\u001b[0m\n",
      "\u001b[38;21m[INFO] 2024-02-20 12:15:42,347 - Optimizing classifier hyper-parameters\u001b[0m\n"
     ]
    },
    {
     "name": "stdout",
     "output_type": "stream",
     "text": [
      " 20%|██        | 2/10 [01:36<06:27, 48.43s/trial, best loss: -0.7528578688748112]\n"
     ]
    },
    {
     "name": "stderr",
     "output_type": "stream",
     "text": [
      "\u001b[38;21m[INFO] 2024-02-20 12:17:19,219 - Calibrating probabilities\u001b[0m\n",
      "\u001b[38;21m[INFO] 2024-02-20 12:18:34,170 - Test fold mean accuracy: 0.7050575863795694\u001b[0m\n",
      "\u001b[38;21m[INFO] 2024-02-20 12:18:34,171 - Iteration 1/1 completed.\u001b[0m\n",
      "\u001b[38;21m[INFO] 2024-02-20 12:18:34,171 - Mean accuracy on test instances (iteration #1): 0.7285\u001b[0m\n",
      "\u001b[38;21m[INFO] 2024-02-20 12:18:34,173 - Assessing performance of classifier 'random_forest'\u001b[0m\n",
      "\u001b[38;21m[INFO] 2024-02-20 12:18:34,176 - Estimating instance performance...\u001b[0m\n",
      "\u001b[38;21m[INFO] 2024-02-20 12:18:34,178 - Evaluating testing fold #1\u001b[0m\n",
      "\u001b[38;21m[INFO] 2024-02-20 12:18:34,179 - Over-sampling training fold with SMOTE\u001b[0m\n",
      "\u001b[38;21m[INFO] 2024-02-20 12:18:34,221 - Optimizing classifier hyper-parameters\u001b[0m\n"
     ]
    },
    {
     "name": "stdout",
     "output_type": "stream",
     "text": [
      "100%|██████████| 10/10 [00:21<00:00,  2.13s/trial, best loss: -0.9292614854890124]\n"
     ]
    },
    {
     "name": "stderr",
     "output_type": "stream",
     "text": [
      "\u001b[38;21m[INFO] 2024-02-20 12:18:55,497 - Calibrating probabilities\u001b[0m\n",
      "\u001b[38;21m[INFO] 2024-02-20 12:19:00,209 - Test fold mean accuracy: 0.8333333333333334\u001b[0m\n",
      "\u001b[38;21m[INFO] 2024-02-20 12:19:00,209 - Evaluating testing fold #2\u001b[0m\n",
      "\u001b[38;21m[INFO] 2024-02-20 12:19:00,212 - Over-sampling training fold with SMOTE\u001b[0m\n",
      "\u001b[38;21m[INFO] 2024-02-20 12:19:00,231 - Optimizing classifier hyper-parameters\u001b[0m\n"
     ]
    },
    {
     "name": "stdout",
     "output_type": "stream",
     "text": [
      "100%|██████████| 10/10 [00:21<00:00,  2.13s/trial, best loss: -0.9339757027121953]\n"
     ]
    },
    {
     "name": "stderr",
     "output_type": "stream",
     "text": [
      "\u001b[38;21m[INFO] 2024-02-20 12:19:21,581 - Calibrating probabilities\u001b[0m\n",
      "\u001b[38;21m[INFO] 2024-02-20 12:19:25,597 - Test fold mean accuracy: 0.8483483483483484\u001b[0m\n",
      "\u001b[38;21m[INFO] 2024-02-20 12:19:25,598 - Evaluating testing fold #3\u001b[0m\n",
      "\u001b[38;21m[INFO] 2024-02-20 12:19:25,598 - Over-sampling training fold with SMOTE\u001b[0m\n",
      "\u001b[38;21m[INFO] 2024-02-20 12:19:25,632 - Optimizing classifier hyper-parameters\u001b[0m\n"
     ]
    },
    {
     "name": "stdout",
     "output_type": "stream",
     "text": [
      "100%|██████████| 10/10 [00:21<00:00,  2.15s/trial, best loss: -0.9346528185969755]\n"
     ]
    },
    {
     "name": "stderr",
     "output_type": "stream",
     "text": [
      "\u001b[38;21m[INFO] 2024-02-20 12:19:47,158 - Calibrating probabilities\u001b[0m\n",
      "\u001b[38;21m[INFO] 2024-02-20 12:19:52,247 - Test fold mean accuracy: 0.8583583583583584\u001b[0m\n",
      "\u001b[38;21m[INFO] 2024-02-20 12:19:52,248 - Evaluating testing fold #4\u001b[0m\n",
      "\u001b[38;21m[INFO] 2024-02-20 12:19:52,249 - Over-sampling training fold with SMOTE\u001b[0m\n",
      "\u001b[38;21m[INFO] 2024-02-20 12:19:52,289 - Optimizing classifier hyper-parameters\u001b[0m\n"
     ]
    },
    {
     "name": "stdout",
     "output_type": "stream",
     "text": [
      "100%|██████████| 10/10 [00:21<00:00,  2.15s/trial, best loss: -0.9323437499999999]\n"
     ]
    },
    {
     "name": "stderr",
     "output_type": "stream",
     "text": [
      "\u001b[38;21m[INFO] 2024-02-20 12:20:13,828 - Calibrating probabilities\u001b[0m\n",
      "\u001b[38;21m[INFO] 2024-02-20 12:20:18,207 - Test fold mean accuracy: 0.8773773773773774\u001b[0m\n",
      "\u001b[38;21m[INFO] 2024-02-20 12:20:18,209 - Evaluating testing fold #5\u001b[0m\n",
      "\u001b[38;21m[INFO] 2024-02-20 12:20:18,210 - Over-sampling training fold with SMOTE\u001b[0m\n",
      "\u001b[38;21m[INFO] 2024-02-20 12:20:18,230 - Optimizing classifier hyper-parameters\u001b[0m\n"
     ]
    },
    {
     "name": "stdout",
     "output_type": "stream",
     "text": [
      "100%|██████████| 10/10 [00:21<00:00,  2.15s/trial, best loss: -0.9277768357845487]\n"
     ]
    },
    {
     "name": "stderr",
     "output_type": "stream",
     "text": [
      "\u001b[38;21m[INFO] 2024-02-20 12:20:39,702 - Calibrating probabilities\u001b[0m\n",
      "\u001b[38;21m[INFO] 2024-02-20 12:20:44,579 - Test fold mean accuracy: 0.8322483725588382\u001b[0m\n",
      "\u001b[38;21m[INFO] 2024-02-20 12:20:44,579 - Iteration 1/1 completed.\u001b[0m\n",
      "\u001b[38;21m[INFO] 2024-02-20 12:20:44,580 - Mean accuracy on test instances (iteration #1): 0.8499\u001b[0m\n",
      "\u001b[38;21m[INFO] 2024-02-20 12:20:44,581 - Assessing performance of classifier 'svc_linear'\u001b[0m\n",
      "\u001b[38;21m[INFO] 2024-02-20 12:20:44,586 - Estimating instance performance...\u001b[0m\n",
      "\u001b[38;21m[INFO] 2024-02-20 12:20:44,590 - Evaluating testing fold #1\u001b[0m\n",
      "\u001b[38;21m[INFO] 2024-02-20 12:20:44,591 - Over-sampling training fold with SMOTE\u001b[0m\n",
      "\u001b[38;21m[INFO] 2024-02-20 12:20:44,628 - Optimizing classifier hyper-parameters\u001b[0m\n"
     ]
    },
    {
     "name": "stdout",
     "output_type": "stream",
     "text": [
      "100%|██████████| 10/10 [00:00<00:00, 10.29trial/s, best loss: -0.383487401220085] \n"
     ]
    },
    {
     "name": "stderr",
     "output_type": "stream",
     "text": [
      "\u001b[38;21m[INFO] 2024-02-20 12:20:45,603 - Calibrating probabilities\u001b[0m\n",
      "\u001b[38;21m[INFO] 2024-02-20 12:20:46,078 - Test fold mean accuracy: 0.8293293293293293\u001b[0m\n",
      "\u001b[38;21m[INFO] 2024-02-20 12:20:46,079 - Evaluating testing fold #2\u001b[0m\n",
      "\u001b[38;21m[INFO] 2024-02-20 12:20:46,079 - Over-sampling training fold with SMOTE\u001b[0m\n",
      "\u001b[38;21m[INFO] 2024-02-20 12:20:46,116 - Optimizing classifier hyper-parameters\u001b[0m\n"
     ]
    },
    {
     "name": "stdout",
     "output_type": "stream",
     "text": [
      "100%|██████████| 10/10 [00:01<00:00,  9.58trial/s, best loss: -0.3877847625283502]\n"
     ]
    },
    {
     "name": "stderr",
     "output_type": "stream",
     "text": [
      "\u001b[38;21m[INFO] 2024-02-20 12:20:47,163 - Calibrating probabilities\u001b[0m\n",
      "\u001b[38;21m[INFO] 2024-02-20 12:20:47,746 - Test fold mean accuracy: 0.8188188188188188\u001b[0m\n",
      "\u001b[38;21m[INFO] 2024-02-20 12:20:47,747 - Evaluating testing fold #3\u001b[0m\n",
      "\u001b[38;21m[INFO] 2024-02-20 12:20:47,747 - Over-sampling training fold with SMOTE\u001b[0m\n",
      "\u001b[38;21m[INFO] 2024-02-20 12:20:47,786 - Optimizing classifier hyper-parameters\u001b[0m\n"
     ]
    },
    {
     "name": "stdout",
     "output_type": "stream",
     "text": [
      "100%|██████████| 10/10 [00:01<00:00,  9.08trial/s, best loss: -0.3853625762056548]\n"
     ]
    },
    {
     "name": "stderr",
     "output_type": "stream",
     "text": [
      "\u001b[38;21m[INFO] 2024-02-20 12:20:48,890 - Calibrating probabilities\u001b[0m\n",
      "\u001b[38;21m[INFO] 2024-02-20 12:20:49,238 - Test fold mean accuracy: 0.8548548548548549\u001b[0m\n",
      "\u001b[38;21m[INFO] 2024-02-20 12:20:49,238 - Evaluating testing fold #4\u001b[0m\n",
      "\u001b[38;21m[INFO] 2024-02-20 12:20:49,239 - Over-sampling training fold with SMOTE\u001b[0m\n",
      "\u001b[38;21m[INFO] 2024-02-20 12:20:49,268 - Optimizing classifier hyper-parameters\u001b[0m\n"
     ]
    },
    {
     "name": "stdout",
     "output_type": "stream",
     "text": [
      "100%|██████████| 10/10 [00:00<00:00, 10.04trial/s, best loss: -0.41049479166666664]\n"
     ]
    },
    {
     "name": "stderr",
     "output_type": "stream",
     "text": [
      "\u001b[38;21m[INFO] 2024-02-20 12:20:50,267 - Calibrating probabilities\u001b[0m\n",
      "\u001b[38;21m[INFO] 2024-02-20 12:20:50,654 - Test fold mean accuracy: 0.8498498498498499\u001b[0m\n",
      "\u001b[38;21m[INFO] 2024-02-20 12:20:50,655 - Evaluating testing fold #5\u001b[0m\n",
      "\u001b[38;21m[INFO] 2024-02-20 12:20:50,655 - Over-sampling training fold with SMOTE\u001b[0m\n",
      "\u001b[38;21m[INFO] 2024-02-20 12:20:50,693 - Optimizing classifier hyper-parameters\u001b[0m\n"
     ]
    },
    {
     "name": "stdout",
     "output_type": "stream",
     "text": [
      "100%|██████████| 10/10 [00:01<00:00,  9.54trial/s, best loss: -0.3759604357634223]\n"
     ]
    },
    {
     "name": "stderr",
     "output_type": "stream",
     "text": [
      "\u001b[38;21m[INFO] 2024-02-20 12:20:51,745 - Calibrating probabilities\u001b[0m\n",
      "\u001b[38;21m[INFO] 2024-02-20 12:20:52,083 - Test fold mean accuracy: 0.8367551326990486\u001b[0m\n",
      "\u001b[38;21m[INFO] 2024-02-20 12:20:52,083 - Iteration 1/1 completed.\u001b[0m\n",
      "\u001b[38;21m[INFO] 2024-02-20 12:20:52,084 - Mean accuracy on test instances (iteration #1): 0.8379\u001b[0m\n",
      "\u001b[38;21m[INFO] 2024-02-20 12:20:52,085 - Assessing performance of classifier 'svc_rbf'\u001b[0m\n",
      "\u001b[38;21m[INFO] 2024-02-20 12:20:52,086 - Estimating instance performance...\u001b[0m\n",
      "\u001b[38;21m[INFO] 2024-02-20 12:20:52,089 - Evaluating testing fold #1\u001b[0m\n",
      "\u001b[38;21m[INFO] 2024-02-20 12:20:52,089 - Over-sampling training fold with SMOTE\u001b[0m\n",
      "\u001b[38;21m[INFO] 2024-02-20 12:20:52,127 - Optimizing classifier hyper-parameters\u001b[0m\n"
     ]
    },
    {
     "name": "stdout",
     "output_type": "stream",
     "text": [
      " 10%|█         | 1/10 [01:57<17:33, 117.02s/trial, best loss: -0.49344959397894045]\n"
     ]
    },
    {
     "name": "stderr",
     "output_type": "stream",
     "text": [
      "\u001b[38;21m[INFO] 2024-02-20 12:22:49,151 - Calibrating probabilities\u001b[0m\n",
      "\u001b[38;21m[INFO] 2024-02-20 12:25:43,699 - Test fold mean accuracy: 0.8013013013013013\u001b[0m\n",
      "\u001b[38;21m[INFO] 2024-02-20 12:25:43,700 - Evaluating testing fold #2\u001b[0m\n",
      "\u001b[38;21m[INFO] 2024-02-20 12:25:43,700 - Over-sampling training fold with SMOTE\u001b[0m\n",
      "\u001b[38;21m[INFO] 2024-02-20 12:25:43,742 - Optimizing classifier hyper-parameters\u001b[0m\n"
     ]
    },
    {
     "name": "stdout",
     "output_type": "stream",
     "text": [
      " 10%|█         | 1/10 [01:53<16:57, 113.04s/trial, best loss: -0.502565241496641]\n"
     ]
    },
    {
     "name": "stderr",
     "output_type": "stream",
     "text": [
      "\u001b[38;21m[INFO] 2024-02-20 12:27:36,785 - Calibrating probabilities\u001b[0m\n",
      "\u001b[38;21m[INFO] 2024-02-20 12:30:28,117 - Test fold mean accuracy: 0.8113113113113113\u001b[0m\n",
      "\u001b[38;21m[INFO] 2024-02-20 12:30:28,117 - Evaluating testing fold #3\u001b[0m\n",
      "\u001b[38;21m[INFO] 2024-02-20 12:30:28,118 - Over-sampling training fold with SMOTE\u001b[0m\n",
      "\u001b[38;21m[INFO] 2024-02-20 12:30:28,134 - Optimizing classifier hyper-parameters\u001b[0m\n"
     ]
    },
    {
     "name": "stdout",
     "output_type": "stream",
     "text": [
      " 10%|█         | 1/10 [01:48<16:18, 108.74s/trial, best loss: -0.5067845999047881]\n"
     ]
    },
    {
     "name": "stderr",
     "output_type": "stream",
     "text": [
      "\u001b[38;21m[INFO] 2024-02-20 12:32:16,881 - Calibrating probabilities\u001b[0m\n",
      "\u001b[38;21m[INFO] 2024-02-20 12:35:00,658 - Test fold mean accuracy: 0.8253253253253253\u001b[0m\n",
      "\u001b[38;21m[INFO] 2024-02-20 12:35:00,658 - Evaluating testing fold #4\u001b[0m\n",
      "\u001b[38;21m[INFO] 2024-02-20 12:35:00,658 - Over-sampling training fold with SMOTE\u001b[0m\n",
      "\u001b[38;21m[INFO] 2024-02-20 12:35:00,675 - Optimizing classifier hyper-parameters\u001b[0m\n"
     ]
    },
    {
     "name": "stdout",
     "output_type": "stream",
     "text": [
      " 10%|█         | 1/10 [01:48<16:18, 108.69s/trial, best loss: -0.5211197916666667]\n"
     ]
    },
    {
     "name": "stderr",
     "output_type": "stream",
     "text": [
      "\u001b[38;21m[INFO] 2024-02-20 12:36:49,363 - Calibrating probabilities\u001b[0m\n",
      "\u001b[38;21m[INFO] 2024-02-20 12:39:34,707 - Test fold mean accuracy: 0.8228228228228228\u001b[0m\n",
      "\u001b[38;21m[INFO] 2024-02-20 12:39:34,708 - Evaluating testing fold #5\u001b[0m\n",
      "\u001b[38;21m[INFO] 2024-02-20 12:39:34,708 - Over-sampling training fold with SMOTE\u001b[0m\n",
      "\u001b[38;21m[INFO] 2024-02-20 12:39:34,725 - Optimizing classifier hyper-parameters\u001b[0m\n"
     ]
    },
    {
     "name": "stdout",
     "output_type": "stream",
     "text": [
      " 10%|█         | 1/10 [01:51<16:41, 111.27s/trial, best loss: -0.48287523667401816]\n"
     ]
    },
    {
     "name": "stderr",
     "output_type": "stream",
     "text": [
      "\u001b[38;21m[INFO] 2024-02-20 12:41:26,000 - Calibrating probabilities\u001b[0m\n",
      "\u001b[38;21m[INFO] 2024-02-20 12:44:16,188 - Test fold mean accuracy: 0.8192288432648973\u001b[0m\n",
      "\u001b[38;21m[INFO] 2024-02-20 12:44:16,189 - Iteration 1/1 completed.\u001b[0m\n",
      "\u001b[38;21m[INFO] 2024-02-20 12:44:16,189 - Mean accuracy on test instances (iteration #1): 0.816\u001b[0m\n",
      "\u001b[38;21m[INFO] 2024-02-20 12:44:16,515 - Feature selection on\u001b[0m\n",
      "\u001b[38;21m[INFO] 2024-02-20 12:44:16,696 - Applying varicance threshold\u001b[0m\n",
      "\u001b[38;21m[INFO] 2024-02-20 12:44:16,697 - Removed features: []\u001b[0m\n",
      "\u001b[38;21m[INFO] 2024-02-20 12:44:16,697 - Applying correlation threshold\u001b[0m\n",
      "\u001b[38;21m[INFO] 2024-02-20 12:44:16,699 - Removed features: ['feature_CLD']\u001b[0m\n",
      "\u001b[38;21m[INFO] 2024-02-20 12:44:16,699 - Applying main filtering method: NCA\u001b[0m\n",
      "\u001b[38;21m[INFO] 2024-02-20 12:44:33,512 - Selected features: ['feature_CL', 'feature_kDN', 'feature_N2', 'feature_TD_U', 'feature_N1', 'feature_TD_P', 'feature_DCP']\u001b[0m\n",
      "\u001b[38;21m[INFO] 2024-02-20 12:44:33,665 - Running Instance Space Analysis with 'python' engine.\u001b[0m\n",
      "\u001b[38;21m[INFO] 2024-02-20 12:44:33,666 - Adding gaussian noise to the metadata for numerical stability.\u001b[0m\n",
      "\u001b[38;21m[INFO] 2024-02-20 12:44:33,672 - Calculating the binary measure of performance\u001b[0m\n",
      "\u001b[38;21m[INFO] 2024-02-20 12:44:33,674 - An algorithm is good if its performace is less than 0.9683\u001b[0m\n",
      "\u001b[38;21m[INFO] 2024-02-20 12:44:33,675 - For 0.0% of the instances there is more than one best algorithm. Random selection is used to break ties.\u001b[0m\n",
      "\u001b[38;21m[INFO] 2024-02-20 12:44:33,675 - Auto pre-processing.\u001b[0m\n",
      "\u001b[38;21m[INFO] 2024-02-20 12:44:33,675 - Removing extreme outliers from the feature values.\u001b[0m\n",
      "\u001b[38;21m[INFO] 2024-02-20 12:44:33,680 - Auto-normalizing the data using Box-Cox and Z transformations.\u001b[0m\n",
      "\u001b[38;21m[INFO] 2024-02-20 12:44:33,772 - Calling PILOT to find the optimal projection.\u001b[0m\n",
      "\u001b[38;21m[INFO] 2024-02-20 12:44:33,772 - PILOT is solving numerically the projection problem.\u001b[0m\n",
      "\u001b[38;21m[INFO] 2024-02-20 12:44:38,497 - PILOT has completed trial 1\u001b[0m\n",
      "\u001b[38;21m[INFO] 2024-02-20 12:44:42,031 - PILOT has completed trial 2\u001b[0m\n",
      "\u001b[38;21m[INFO] 2024-02-20 12:44:46,096 - PILOT has completed trial 3\u001b[0m\n",
      "\u001b[38;21m[INFO] 2024-02-20 12:44:49,083 - PILOT has completed trial 4\u001b[0m\n",
      "\u001b[38;21m[INFO] 2024-02-20 12:44:52,101 - PILOT has completed trial 5\u001b[0m\n",
      "\u001b[38;21m[INFO] 2024-02-20 12:44:52,104 - PILOT has completed.\u001b[0m\n",
      "\u001b[38;21m[INFO] 2024-02-20 12:44:52,349 - Adjusting the IS rotation.\u001b[0m\n",
      "\u001b[38;21m[INFO] 2024-02-20 12:44:52,350 - The space was rotated by 78.5 degrees.\u001b[0m\n",
      "\u001b[38;21m[INFO] 2024-02-20 12:44:52,350 - Calling TRACE to perform the footprint analysis.\u001b[0m\n",
      "\u001b[38;21m[INFO] 2024-02-20 12:44:52,350 - TRACE is calculating the space area and density.\u001b[0m\n",
      "\u001b[38;21m[INFO] 2024-02-20 12:44:54,519 - TRACE is calculating the algorithm footprints.\u001b[0m\n",
      "\u001b[33;21m[WARNING] 2024-02-20 12:44:54,519 - Some log messages are temporarily disabled in parallel mode. This functionality will be added in future versions\u001b[0m\n",
      "\u001b[38;21m[INFO] 2024-02-20 12:44:54,519 - Calculating footprints...\u001b[0m\n",
      "\u001b[38;21m[INFO] 2024-02-20 12:44:59,770 - TRACE is detecting and removing contradictory sections of the footprints.\u001b[0m\n",
      "\u001b[38;21m[INFO] 2024-02-20 12:45:00,117 - TRACE is calculating the beta-footprint.\u001b[0m\n",
      "\u001b[38;21m[INFO] 2024-02-20 12:45:00,676 - TRACE is preparing the summary table.\u001b[0m\n",
      "\u001b[38;21m[INFO] 2024-02-20 12:45:00,677 - TRACE has completed.\u001b[0m\n",
      "\u001b[38;21m[INFO] 2024-02-20 12:45:00,677 - Calculating instance easiness footprint area\u001b[0m\n",
      "\u001b[38;21m[INFO] 2024-02-20 12:45:00,677 - An instance is easy if its IH-value <= 0.4\u001b[0m\n",
      "\u001b[38;21m[INFO] 2024-02-20 12:45:02,914 - Total elapsed time: 1h17m59s\u001b[0m\n",
      "\u001b[38;21m[INFO] 2024-02-20 12:45:02,914 - Instance Hardness analysis finished.\u001b[0m\n",
      "\u001b[38;21m[INFO] 2024-02-20 12:45:10,495 - Configuration file: '/home/gabrielscn/meta-active-learning/pyhard/1535/config.yaml'\u001b[0m\n",
      "\u001b[38;21m[INFO] 2024-02-20 12:45:10,508 - Reading input dataset: '/home/gabrielscn/meta-active-learning/datasets/1535.csv'\u001b[0m\n",
      "\u001b[38;21m[INFO] 2024-02-20 12:45:10,525 - Type of problem: 'classification'\u001b[0m\n",
      "\u001b[33;21m[WARNING] 2024-02-20 12:45:10,531 - Classes are unbalanced (imbalance ratio > 1.5). This may change the way the results are interpreted.\u001b[0m\n",
      "\u001b[38;21m[INFO] 2024-02-20 12:45:10,531 - Seed=0\u001b[0m\n",
      "\u001b[38;21m[INFO] 2024-02-20 12:45:10,532 - Building metadata.\u001b[0m\n",
      "\u001b[38;21m[INFO] 2024-02-20 12:45:30,560 - Calculating measure 'CL'\u001b[0m\n",
      "\u001b[38;21m[INFO] 2024-02-20 12:45:30,565 - Calculating measure 'CLD'\u001b[0m\n",
      "\u001b[38;21m[INFO] 2024-02-20 12:45:30,569 - Calculating measure 'DCP'\u001b[0m\n",
      "\u001b[38;21m[INFO] 2024-02-20 12:45:40,741 - Calculating measure 'F1'\u001b[0m\n",
      "\u001b[38;21m[INFO] 2024-02-20 12:45:40,772 - Calculating measure 'Harmfulness'\u001b[0m\n",
      "\u001b[38;21m[INFO] 2024-02-20 12:45:41,258 - Calculating measure 'LSC'\u001b[0m\n",
      "\u001b[38;21m[INFO] 2024-02-20 12:45:50,198 - Calculating measure 'LSR'\u001b[0m\n",
      "\u001b[38;21m[INFO] 2024-02-20 12:45:58,394 - Calculating measure 'N1'\u001b[0m\n",
      "\u001b[38;21m[INFO] 2024-02-20 12:46:28,389 - Calculating measure 'N2'\u001b[0m\n",
      "\u001b[38;21m[INFO] 2024-02-20 12:46:41,426 - Calculating measure 'TD_P'\u001b[0m\n",
      "\u001b[38;21m[INFO] 2024-02-20 12:46:43,658 - Calculating measure 'TD_U'\u001b[0m\n",
      "\u001b[38;21m[INFO] 2024-02-20 12:46:45,914 - Calculating measure 'Usefulness'\u001b[0m\n",
      "\u001b[38;21m[INFO] 2024-02-20 12:46:46,416 - Calculating measure 'kDN'\u001b[0m\n",
      "\u001b[38;21m[INFO] 2024-02-20 12:46:49,499 - Hyper parameter optimization enabled\u001b[0m\n",
      "\u001b[38;21m[INFO] 2024-02-20 12:46:49,500 - Assessing performance of classifier 'bagging'\u001b[0m\n",
      "\u001b[38;21m[INFO] 2024-02-20 12:46:49,501 - Estimating instance performance...\u001b[0m\n",
      "\u001b[38;21m[INFO] 2024-02-20 12:46:49,503 - Evaluating testing fold #1\u001b[0m\n",
      "\u001b[38;21m[INFO] 2024-02-20 12:46:49,503 - Over-sampling training fold with SMOTE\u001b[0m\n",
      "\u001b[38;21m[INFO] 2024-02-20 12:46:49,520 - Optimizing classifier hyper-parameters\u001b[0m\n"
     ]
    },
    {
     "name": "stdout",
     "output_type": "stream",
     "text": [
      "100%|██████████| 10/10 [00:30<00:00,  3.09s/trial, best loss: -0.9293917976048447]\n"
     ]
    },
    {
     "name": "stderr",
     "output_type": "stream",
     "text": [
      "\u001b[38;21m[INFO] 2024-02-20 12:47:20,397 - Calibrating probabilities\u001b[0m\n",
      "\u001b[38;21m[INFO] 2024-02-20 12:47:26,864 - Test fold mean accuracy: 0.8288288288288288\u001b[0m\n",
      "\u001b[38;21m[INFO] 2024-02-20 12:47:26,864 - Evaluating testing fold #2\u001b[0m\n",
      "\u001b[38;21m[INFO] 2024-02-20 12:47:26,865 - Over-sampling training fold with SMOTE\u001b[0m\n",
      "\u001b[38;21m[INFO] 2024-02-20 12:47:26,882 - Optimizing classifier hyper-parameters\u001b[0m\n"
     ]
    },
    {
     "name": "stdout",
     "output_type": "stream",
     "text": [
      "100%|██████████| 10/10 [00:30<00:00,  3.08s/trial, best loss: -0.9343403247057376]\n"
     ]
    },
    {
     "name": "stderr",
     "output_type": "stream",
     "text": [
      "\u001b[38;21m[INFO] 2024-02-20 12:47:57,715 - Calibrating probabilities\u001b[0m\n",
      "\u001b[38;21m[INFO] 2024-02-20 12:48:01,717 - Test fold mean accuracy: 0.8423423423423423\u001b[0m\n",
      "\u001b[38;21m[INFO] 2024-02-20 12:48:01,718 - Evaluating testing fold #3\u001b[0m\n",
      "\u001b[38;21m[INFO] 2024-02-20 12:48:01,718 - Over-sampling training fold with SMOTE\u001b[0m\n",
      "\u001b[38;21m[INFO] 2024-02-20 12:48:01,739 - Optimizing classifier hyper-parameters\u001b[0m\n"
     ]
    },
    {
     "name": "stdout",
     "output_type": "stream",
     "text": [
      "100%|██████████| 10/10 [00:31<00:00,  3.17s/trial, best loss: -0.9353039131652285]\n"
     ]
    },
    {
     "name": "stderr",
     "output_type": "stream",
     "text": [
      "\u001b[38;21m[INFO] 2024-02-20 12:48:33,465 - Calibrating probabilities\u001b[0m\n",
      "\u001b[38;21m[INFO] 2024-02-20 12:48:39,746 - Test fold mean accuracy: 0.8508508508508509\u001b[0m\n",
      "\u001b[38;21m[INFO] 2024-02-20 12:48:39,748 - Evaluating testing fold #4\u001b[0m\n",
      "\u001b[38;21m[INFO] 2024-02-20 12:48:39,749 - Over-sampling training fold with SMOTE\u001b[0m\n",
      "\u001b[38;21m[INFO] 2024-02-20 12:48:39,794 - Optimizing classifier hyper-parameters\u001b[0m\n"
     ]
    },
    {
     "name": "stdout",
     "output_type": "stream",
     "text": [
      "100%|██████████| 10/10 [00:32<00:00,  3.20s/trial, best loss: -0.9309635416666667]\n"
     ]
    },
    {
     "name": "stderr",
     "output_type": "stream",
     "text": [
      "\u001b[38;21m[INFO] 2024-02-20 12:49:11,829 - Calibrating probabilities\u001b[0m\n",
      "\u001b[38;21m[INFO] 2024-02-20 12:49:17,512 - Test fold mean accuracy: 0.8688688688688688\u001b[0m\n",
      "\u001b[38;21m[INFO] 2024-02-20 12:49:17,512 - Evaluating testing fold #5\u001b[0m\n",
      "\u001b[38;21m[INFO] 2024-02-20 12:49:17,513 - Over-sampling training fold with SMOTE\u001b[0m\n",
      "\u001b[38;21m[INFO] 2024-02-20 12:49:17,541 - Optimizing classifier hyper-parameters\u001b[0m\n"
     ]
    },
    {
     "name": "stdout",
     "output_type": "stream",
     "text": [
      "100%|██████████| 10/10 [00:30<00:00,  3.06s/trial, best loss: -0.9289489183384178]\n"
     ]
    },
    {
     "name": "stderr",
     "output_type": "stream",
     "text": [
      "\u001b[38;21m[INFO] 2024-02-20 12:49:48,186 - Calibrating probabilities\u001b[0m\n",
      "\u001b[38;21m[INFO] 2024-02-20 12:49:53,327 - Test fold mean accuracy: 0.8307461191787682\u001b[0m\n",
      "\u001b[38;21m[INFO] 2024-02-20 12:49:53,328 - Iteration 1/1 completed.\u001b[0m\n",
      "\u001b[38;21m[INFO] 2024-02-20 12:49:53,329 - Mean accuracy on test instances (iteration #1): 0.8443\u001b[0m\n",
      "\u001b[38;21m[INFO] 2024-02-20 12:49:53,333 - Assessing performance of classifier 'gradient_boosting'\u001b[0m\n",
      "\u001b[38;21m[INFO] 2024-02-20 12:49:53,335 - Estimating instance performance...\u001b[0m\n",
      "\u001b[38;21m[INFO] 2024-02-20 12:49:53,336 - Evaluating testing fold #1\u001b[0m\n",
      "\u001b[38;21m[INFO] 2024-02-20 12:49:53,337 - Over-sampling training fold with SMOTE\u001b[0m\n",
      "\u001b[38;21m[INFO] 2024-02-20 12:49:53,353 - Optimizing classifier hyper-parameters\u001b[0m\n"
     ]
    },
    {
     "name": "stdout",
     "output_type": "stream",
     "text": [
      " 10%|█         | 1/10 [02:30<22:31, 150.22s/trial, best loss: -0.5966139635191113]\n"
     ]
    },
    {
     "name": "stderr",
     "output_type": "stream",
     "text": [
      "\u001b[38;21m[INFO] 2024-02-20 12:52:23,573 - Calibrating probabilities\u001b[0m\n",
      "\u001b[38;21m[INFO] 2024-02-20 12:56:12,792 - Test fold mean accuracy: 0.7642642642642643\u001b[0m\n",
      "\u001b[38;21m[INFO] 2024-02-20 12:56:12,793 - Evaluating testing fold #2\u001b[0m\n",
      "\u001b[38;21m[INFO] 2024-02-20 12:56:12,793 - Over-sampling training fold with SMOTE\u001b[0m\n",
      "\u001b[38;21m[INFO] 2024-02-20 12:56:12,812 - Optimizing classifier hyper-parameters\u001b[0m\n"
     ]
    },
    {
     "name": "stdout",
     "output_type": "stream",
     "text": [
      " 10%|█         | 1/10 [02:31<22:46, 151.78s/trial, best loss: -0.6190128694020139]\n"
     ]
    },
    {
     "name": "stderr",
     "output_type": "stream",
     "text": [
      "\u001b[38;21m[INFO] 2024-02-20 12:58:44,596 - Calibrating probabilities\u001b[0m\n",
      "\u001b[38;21m[INFO] 2024-02-20 13:02:34,044 - Test fold mean accuracy: 0.7702702702702703\u001b[0m\n",
      "\u001b[38;21m[INFO] 2024-02-20 13:02:34,045 - Evaluating testing fold #3\u001b[0m\n",
      "\u001b[38;21m[INFO] 2024-02-20 13:02:34,045 - Over-sampling training fold with SMOTE\u001b[0m\n",
      "\u001b[38;21m[INFO] 2024-02-20 13:02:34,063 - Optimizing classifier hyper-parameters\u001b[0m\n"
     ]
    },
    {
     "name": "stdout",
     "output_type": "stream",
     "text": [
      " 10%|█         | 1/10 [02:28<22:12, 148.04s/trial, best loss: -0.63096759985697]\n"
     ]
    },
    {
     "name": "stderr",
     "output_type": "stream",
     "text": [
      "\u001b[38;21m[INFO] 2024-02-20 13:05:02,111 - Calibrating probabilities\u001b[0m\n",
      "\u001b[38;21m[INFO] 2024-02-20 13:08:43,193 - Test fold mean accuracy: 0.7802802802802803\u001b[0m\n",
      "\u001b[38;21m[INFO] 2024-02-20 13:08:43,194 - Evaluating testing fold #4\u001b[0m\n",
      "\u001b[38;21m[INFO] 2024-02-20 13:08:43,194 - Over-sampling training fold with SMOTE\u001b[0m\n",
      "\u001b[38;21m[INFO] 2024-02-20 13:08:43,211 - Optimizing classifier hyper-parameters\u001b[0m\n"
     ]
    },
    {
     "name": "stdout",
     "output_type": "stream",
     "text": [
      " 10%|█         | 1/10 [02:26<21:56, 146.23s/trial, best loss: -0.6073958333333334]\n"
     ]
    },
    {
     "name": "stderr",
     "output_type": "stream",
     "text": [
      "\u001b[38;21m[INFO] 2024-02-20 13:11:09,440 - Calibrating probabilities\u001b[0m\n",
      "\u001b[38;21m[INFO] 2024-02-20 13:14:59,462 - Test fold mean accuracy: 0.7867867867867868\u001b[0m\n",
      "\u001b[38;21m[INFO] 2024-02-20 13:14:59,463 - Evaluating testing fold #5\u001b[0m\n",
      "\u001b[38;21m[INFO] 2024-02-20 13:14:59,463 - Over-sampling training fold with SMOTE\u001b[0m\n",
      "\u001b[38;21m[INFO] 2024-02-20 13:14:59,481 - Optimizing classifier hyper-parameters\u001b[0m\n"
     ]
    },
    {
     "name": "stdout",
     "output_type": "stream",
     "text": [
      " 10%|█         | 1/10 [02:29<22:25, 149.51s/trial, best loss: -0.6241438184062041]\n"
     ]
    },
    {
     "name": "stderr",
     "output_type": "stream",
     "text": [
      "\u001b[38;21m[INFO] 2024-02-20 13:17:28,998 - Calibrating probabilities\u001b[0m\n",
      "\u001b[38;21m[INFO] 2024-02-20 13:21:14,275 - Test fold mean accuracy: 0.7701552328492739\u001b[0m\n",
      "\u001b[38;21m[INFO] 2024-02-20 13:21:14,275 - Iteration 1/1 completed.\u001b[0m\n",
      "\u001b[38;21m[INFO] 2024-02-20 13:21:14,276 - Mean accuracy on test instances (iteration #1): 0.7744\u001b[0m\n",
      "\u001b[38;21m[INFO] 2024-02-20 13:21:14,279 - Assessing performance of classifier 'logistic_regression'\u001b[0m\n",
      "\u001b[38;21m[INFO] 2024-02-20 13:21:14,282 - Estimating instance performance...\u001b[0m\n",
      "\u001b[38;21m[INFO] 2024-02-20 13:21:14,283 - Evaluating testing fold #1\u001b[0m\n",
      "\u001b[38;21m[INFO] 2024-02-20 13:21:14,283 - Over-sampling training fold with SMOTE\u001b[0m\n",
      "\u001b[38;21m[INFO] 2024-02-20 13:21:14,301 - Optimizing classifier hyper-parameters\u001b[0m\n"
     ]
    },
    {
     "name": "stdout",
     "output_type": "stream",
     "text": [
      "100%|██████████| 10/10 [00:01<00:00,  6.19trial/s, best loss: -0.3956763886432156]\n"
     ]
    },
    {
     "name": "stderr",
     "output_type": "stream",
     "text": [
      "\u001b[38;21m[INFO] 2024-02-20 13:21:15,919 - Calibrating probabilities\u001b[0m\n",
      "\u001b[38;21m[INFO] 2024-02-20 13:21:16,368 - Test fold mean accuracy: 0.8418418418418419\u001b[0m\n",
      "\u001b[38;21m[INFO] 2024-02-20 13:21:16,369 - Evaluating testing fold #2\u001b[0m\n",
      "\u001b[38;21m[INFO] 2024-02-20 13:21:16,369 - Over-sampling training fold with SMOTE\u001b[0m\n",
      "\u001b[38;21m[INFO] 2024-02-20 13:21:16,386 - Optimizing classifier hyper-parameters\u001b[0m\n"
     ]
    },
    {
     "name": "stdout",
     "output_type": "stream",
     "text": [
      "100%|██████████| 10/10 [00:01<00:00,  6.13trial/s, best loss: -0.4066675001139488]\n"
     ]
    },
    {
     "name": "stderr",
     "output_type": "stream",
     "text": [
      "\u001b[38;21m[INFO] 2024-02-20 13:21:18,019 - Calibrating probabilities\u001b[0m\n",
      "\u001b[38;21m[INFO] 2024-02-20 13:21:18,497 - Test fold mean accuracy: 0.8403403403403403\u001b[0m\n",
      "\u001b[38;21m[INFO] 2024-02-20 13:21:18,497 - Evaluating testing fold #3\u001b[0m\n",
      "\u001b[38;21m[INFO] 2024-02-20 13:21:18,497 - Over-sampling training fold with SMOTE\u001b[0m\n",
      "\u001b[38;21m[INFO] 2024-02-20 13:21:18,514 - Optimizing classifier hyper-parameters\u001b[0m\n"
     ]
    },
    {
     "name": "stdout",
     "output_type": "stream",
     "text": [
      "100%|██████████| 10/10 [00:01<00:00,  5.02trial/s, best loss: -0.40716226328482424]\n"
     ]
    },
    {
     "name": "stderr",
     "output_type": "stream",
     "text": [
      "\u001b[38;21m[INFO] 2024-02-20 13:21:20,508 - Calibrating probabilities\u001b[0m\n",
      "\u001b[38;21m[INFO] 2024-02-20 13:21:21,126 - Test fold mean accuracy: 0.8723723723723724\u001b[0m\n",
      "\u001b[38;21m[INFO] 2024-02-20 13:21:21,126 - Evaluating testing fold #4\u001b[0m\n",
      "\u001b[38;21m[INFO] 2024-02-20 13:21:21,126 - Over-sampling training fold with SMOTE\u001b[0m\n",
      "\u001b[38;21m[INFO] 2024-02-20 13:21:21,145 - Optimizing classifier hyper-parameters\u001b[0m\n"
     ]
    },
    {
     "name": "stdout",
     "output_type": "stream",
     "text": [
      "100%|██████████| 10/10 [00:01<00:00,  5.58trial/s, best loss: -0.4410156250000001]\n"
     ]
    },
    {
     "name": "stderr",
     "output_type": "stream",
     "text": [
      "\u001b[38;21m[INFO] 2024-02-20 13:21:22,938 - Calibrating probabilities\u001b[0m\n",
      "\u001b[38;21m[INFO] 2024-02-20 13:21:23,379 - Test fold mean accuracy: 0.8613613613613613\u001b[0m\n",
      "\u001b[38;21m[INFO] 2024-02-20 13:21:23,379 - Evaluating testing fold #5\u001b[0m\n",
      "\u001b[38;21m[INFO] 2024-02-20 13:21:23,380 - Over-sampling training fold with SMOTE\u001b[0m\n",
      "\u001b[38;21m[INFO] 2024-02-20 13:21:23,410 - Optimizing classifier hyper-parameters\u001b[0m\n"
     ]
    },
    {
     "name": "stdout",
     "output_type": "stream",
     "text": [
      "100%|██████████| 10/10 [00:01<00:00,  6.25trial/s, best loss: -0.38127344444409034]\n"
     ]
    },
    {
     "name": "stderr",
     "output_type": "stream",
     "text": [
      "\u001b[38;21m[INFO] 2024-02-20 13:21:25,013 - Calibrating probabilities\u001b[0m\n",
      "\u001b[38;21m[INFO] 2024-02-20 13:21:25,390 - Test fold mean accuracy: 0.8407611417125689\u001b[0m\n",
      "\u001b[38;21m[INFO] 2024-02-20 13:21:25,390 - Iteration 1/1 completed.\u001b[0m\n",
      "\u001b[38;21m[INFO] 2024-02-20 13:21:25,391 - Mean accuracy on test instances (iteration #1): 0.8513\u001b[0m\n",
      "\u001b[38;21m[INFO] 2024-02-20 13:21:25,393 - Assessing performance of classifier 'mlp'\u001b[0m\n",
      "\u001b[38;21m[INFO] 2024-02-20 13:21:25,395 - Estimating instance performance...\u001b[0m\n",
      "\u001b[38;21m[INFO] 2024-02-20 13:21:25,399 - Evaluating testing fold #1\u001b[0m\n",
      "\u001b[38;21m[INFO] 2024-02-20 13:21:25,399 - Over-sampling training fold with SMOTE\u001b[0m\n",
      "\u001b[38;21m[INFO] 2024-02-20 13:21:25,438 - Optimizing classifier hyper-parameters\u001b[0m\n"
     ]
    },
    {
     "name": "stdout",
     "output_type": "stream",
     "text": [
      " 20%|██        | 2/10 [01:42<06:51, 51.38s/trial, best loss: -0.7670267311142253]\n"
     ]
    },
    {
     "name": "stderr",
     "output_type": "stream",
     "text": [
      "\u001b[38;21m[INFO] 2024-02-20 13:23:08,206 - Calibrating probabilities\u001b[0m\n",
      "\u001b[38;21m[INFO] 2024-02-20 13:24:39,348 - Test fold mean accuracy: 0.6981981981981982\u001b[0m\n",
      "\u001b[38;21m[INFO] 2024-02-20 13:24:39,349 - Evaluating testing fold #2\u001b[0m\n",
      "\u001b[38;21m[INFO] 2024-02-20 13:24:39,349 - Over-sampling training fold with SMOTE\u001b[0m\n",
      "\u001b[38;21m[INFO] 2024-02-20 13:24:39,372 - Optimizing classifier hyper-parameters\u001b[0m\n"
     ]
    },
    {
     "name": "stdout",
     "output_type": "stream",
     "text": [
      " 20%|██        | 2/10 [01:34<06:16, 47.11s/trial, best loss: -0.7675997251032176]\n"
     ]
    },
    {
     "name": "stderr",
     "output_type": "stream",
     "text": [
      "\u001b[38;21m[INFO] 2024-02-20 13:26:13,605 - Calibrating probabilities\u001b[0m\n",
      "\u001b[38;21m[INFO] 2024-02-20 13:27:30,500 - Test fold mean accuracy: 0.7247247247247247\u001b[0m\n",
      "\u001b[38;21m[INFO] 2024-02-20 13:27:30,501 - Evaluating testing fold #3\u001b[0m\n",
      "\u001b[38;21m[INFO] 2024-02-20 13:27:30,501 - Over-sampling training fold with SMOTE\u001b[0m\n",
      "\u001b[38;21m[INFO] 2024-02-20 13:27:30,525 - Optimizing classifier hyper-parameters\u001b[0m\n"
     ]
    },
    {
     "name": "stdout",
     "output_type": "stream",
     "text": [
      " 20%|██        | 2/10 [01:37<06:31, 48.90s/trial, best loss: -0.7748143981318734]\n"
     ]
    },
    {
     "name": "stderr",
     "output_type": "stream",
     "text": [
      "\u001b[38;21m[INFO] 2024-02-20 13:29:08,324 - Calibrating probabilities\u001b[0m\n",
      "\u001b[38;21m[INFO] 2024-02-20 13:30:24,621 - Test fold mean accuracy: 0.7242242242242243\u001b[0m\n",
      "\u001b[38;21m[INFO] 2024-02-20 13:30:24,622 - Evaluating testing fold #4\u001b[0m\n",
      "\u001b[38;21m[INFO] 2024-02-20 13:30:24,622 - Over-sampling training fold with SMOTE\u001b[0m\n",
      "\u001b[38;21m[INFO] 2024-02-20 13:30:24,647 - Optimizing classifier hyper-parameters\u001b[0m\n"
     ]
    },
    {
     "name": "stdout",
     "output_type": "stream",
     "text": [
      " 20%|██        | 2/10 [01:39<06:36, 49.55s/trial, best loss: -0.766015625]\n"
     ]
    },
    {
     "name": "stderr",
     "output_type": "stream",
     "text": [
      "\u001b[38;21m[INFO] 2024-02-20 13:32:03,744 - Calibrating probabilities\u001b[0m\n",
      "\u001b[38;21m[INFO] 2024-02-20 13:33:23,076 - Test fold mean accuracy: 0.7637637637637638\u001b[0m\n",
      "\u001b[38;21m[INFO] 2024-02-20 13:33:23,077 - Evaluating testing fold #5\u001b[0m\n",
      "\u001b[38;21m[INFO] 2024-02-20 13:33:23,077 - Over-sampling training fold with SMOTE\u001b[0m\n",
      "\u001b[38;21m[INFO] 2024-02-20 13:33:23,100 - Optimizing classifier hyper-parameters\u001b[0m\n"
     ]
    },
    {
     "name": "stdout",
     "output_type": "stream",
     "text": [
      " 20%|██        | 2/10 [01:36<06:25, 48.17s/trial, best loss: -0.7495766209498568]\n"
     ]
    },
    {
     "name": "stderr",
     "output_type": "stream",
     "text": [
      "\u001b[38;21m[INFO] 2024-02-20 13:34:59,438 - Calibrating probabilities\u001b[0m\n",
      "\u001b[38;21m[INFO] 2024-02-20 13:36:16,951 - Test fold mean accuracy: 0.71457185778668\u001b[0m\n",
      "\u001b[38;21m[INFO] 2024-02-20 13:36:16,952 - Iteration 1/1 completed.\u001b[0m\n",
      "\u001b[38;21m[INFO] 2024-02-20 13:36:16,952 - Mean accuracy on test instances (iteration #1): 0.7251\u001b[0m\n",
      "\u001b[38;21m[INFO] 2024-02-20 13:36:16,954 - Assessing performance of classifier 'random_forest'\u001b[0m\n",
      "\u001b[38;21m[INFO] 2024-02-20 13:36:16,957 - Estimating instance performance...\u001b[0m\n",
      "\u001b[38;21m[INFO] 2024-02-20 13:36:16,959 - Evaluating testing fold #1\u001b[0m\n",
      "\u001b[38;21m[INFO] 2024-02-20 13:36:16,960 - Over-sampling training fold with SMOTE\u001b[0m\n",
      "\u001b[38;21m[INFO] 2024-02-20 13:36:17,002 - Optimizing classifier hyper-parameters\u001b[0m\n"
     ]
    },
    {
     "name": "stdout",
     "output_type": "stream",
     "text": [
      "100%|██████████| 10/10 [00:21<00:00,  2.14s/trial, best loss: -0.9278289028373891]\n"
     ]
    },
    {
     "name": "stderr",
     "output_type": "stream",
     "text": [
      "\u001b[38;21m[INFO] 2024-02-20 13:36:38,372 - Calibrating probabilities\u001b[0m\n",
      "\u001b[38;21m[INFO] 2024-02-20 13:36:43,402 - Test fold mean accuracy: 0.8303303303303303\u001b[0m\n",
      "\u001b[38;21m[INFO] 2024-02-20 13:36:43,403 - Evaluating testing fold #2\u001b[0m\n",
      "\u001b[38;21m[INFO] 2024-02-20 13:36:43,404 - Over-sampling training fold with SMOTE\u001b[0m\n",
      "\u001b[38;21m[INFO] 2024-02-20 13:36:43,426 - Optimizing classifier hyper-parameters\u001b[0m\n"
     ]
    },
    {
     "name": "stdout",
     "output_type": "stream",
     "text": [
      "100%|██████████| 10/10 [00:21<00:00,  2.16s/trial, best loss: -0.9321004870269828]\n"
     ]
    },
    {
     "name": "stderr",
     "output_type": "stream",
     "text": [
      "\u001b[38;21m[INFO] 2024-02-20 13:37:05,033 - Calibrating probabilities\u001b[0m\n",
      "\u001b[38;21m[INFO] 2024-02-20 13:37:07,530 - Test fold mean accuracy: 0.8443443443443444\u001b[0m\n",
      "\u001b[38;21m[INFO] 2024-02-20 13:37:07,531 - Evaluating testing fold #3\u001b[0m\n",
      "\u001b[38;21m[INFO] 2024-02-20 13:37:07,532 - Over-sampling training fold with SMOTE\u001b[0m\n",
      "\u001b[38;21m[INFO] 2024-02-20 13:37:07,553 - Optimizing classifier hyper-parameters\u001b[0m\n"
     ]
    },
    {
     "name": "stdout",
     "output_type": "stream",
     "text": [
      "100%|██████████| 10/10 [00:21<00:00,  2.17s/trial, best loss: -0.9368145333116664]\n"
     ]
    },
    {
     "name": "stderr",
     "output_type": "stream",
     "text": [
      "\u001b[38;21m[INFO] 2024-02-20 13:37:29,226 - Calibrating probabilities\u001b[0m\n",
      "\u001b[38;21m[INFO] 2024-02-20 13:37:34,262 - Test fold mean accuracy: 0.8603603603603603\u001b[0m\n",
      "\u001b[38;21m[INFO] 2024-02-20 13:37:34,263 - Evaluating testing fold #4\u001b[0m\n",
      "\u001b[38;21m[INFO] 2024-02-20 13:37:34,263 - Over-sampling training fold with SMOTE\u001b[0m\n",
      "\u001b[38;21m[INFO] 2024-02-20 13:37:34,284 - Optimizing classifier hyper-parameters\u001b[0m\n"
     ]
    },
    {
     "name": "stdout",
     "output_type": "stream",
     "text": [
      "100%|██████████| 10/10 [00:21<00:00,  2.10s/trial, best loss: -0.9323437499999999]\n"
     ]
    },
    {
     "name": "stderr",
     "output_type": "stream",
     "text": [
      "\u001b[38;21m[INFO] 2024-02-20 13:37:55,302 - Calibrating probabilities\u001b[0m\n",
      "\u001b[38;21m[INFO] 2024-02-20 13:37:59,625 - Test fold mean accuracy: 0.8753753753753754\u001b[0m\n",
      "\u001b[38;21m[INFO] 2024-02-20 13:37:59,626 - Evaluating testing fold #5\u001b[0m\n",
      "\u001b[38;21m[INFO] 2024-02-20 13:37:59,627 - Over-sampling training fold with SMOTE\u001b[0m\n",
      "\u001b[38;21m[INFO] 2024-02-20 13:37:59,651 - Optimizing classifier hyper-parameters\u001b[0m\n"
     ]
    },
    {
     "name": "stdout",
     "output_type": "stream",
     "text": [
      "100%|██████████| 10/10 [00:21<00:00,  2.11s/trial, best loss: -0.9283498460533982]\n"
     ]
    },
    {
     "name": "stderr",
     "output_type": "stream",
     "text": [
      "\u001b[38;21m[INFO] 2024-02-20 13:38:20,779 - Calibrating probabilities\u001b[0m\n",
      "\u001b[38;21m[INFO] 2024-02-20 13:38:25,054 - Test fold mean accuracy: 0.8342513770655984\u001b[0m\n",
      "\u001b[38;21m[INFO] 2024-02-20 13:38:25,055 - Iteration 1/1 completed.\u001b[0m\n",
      "\u001b[38;21m[INFO] 2024-02-20 13:38:25,056 - Mean accuracy on test instances (iteration #1): 0.8489\u001b[0m\n",
      "\u001b[38;21m[INFO] 2024-02-20 13:38:25,058 - Assessing performance of classifier 'svc_linear'\u001b[0m\n",
      "\u001b[38;21m[INFO] 2024-02-20 13:38:25,059 - Estimating instance performance...\u001b[0m\n",
      "\u001b[38;21m[INFO] 2024-02-20 13:38:25,062 - Evaluating testing fold #1\u001b[0m\n",
      "\u001b[38;21m[INFO] 2024-02-20 13:38:25,062 - Over-sampling training fold with SMOTE\u001b[0m\n",
      "\u001b[38;21m[INFO] 2024-02-20 13:38:25,081 - Optimizing classifier hyper-parameters\u001b[0m\n"
     ]
    },
    {
     "name": "stdout",
     "output_type": "stream",
     "text": [
      "100%|██████████| 10/10 [00:00<00:00, 12.45trial/s, best loss: -0.3814819039437722]\n"
     ]
    },
    {
     "name": "stderr",
     "output_type": "stream",
     "text": [
      "\u001b[38;21m[INFO] 2024-02-20 13:38:25,886 - Calibrating probabilities\u001b[0m\n",
      "\u001b[38;21m[INFO] 2024-02-20 13:38:26,173 - Test fold mean accuracy: 0.8238238238238238\u001b[0m\n",
      "\u001b[38;21m[INFO] 2024-02-20 13:38:26,173 - Evaluating testing fold #2\u001b[0m\n",
      "\u001b[38;21m[INFO] 2024-02-20 13:38:26,174 - Over-sampling training fold with SMOTE\u001b[0m\n",
      "\u001b[38;21m[INFO] 2024-02-20 13:38:26,213 - Optimizing classifier hyper-parameters\u001b[0m\n"
     ]
    },
    {
     "name": "stdout",
     "output_type": "stream",
     "text": [
      "100%|██████████| 10/10 [00:00<00:00, 10.56trial/s, best loss: -0.39028506164019894]\n"
     ]
    },
    {
     "name": "stderr",
     "output_type": "stream",
     "text": [
      "\u001b[38;21m[INFO] 2024-02-20 13:38:27,166 - Calibrating probabilities\u001b[0m\n",
      "\u001b[38;21m[INFO] 2024-02-20 13:38:27,525 - Test fold mean accuracy: 0.8173173173173173\u001b[0m\n",
      "\u001b[38;21m[INFO] 2024-02-20 13:38:27,526 - Evaluating testing fold #3\u001b[0m\n",
      "\u001b[38;21m[INFO] 2024-02-20 13:38:27,526 - Over-sampling training fold with SMOTE\u001b[0m\n",
      "\u001b[38;21m[INFO] 2024-02-20 13:38:27,562 - Optimizing classifier hyper-parameters\u001b[0m\n"
     ]
    },
    {
     "name": "stdout",
     "output_type": "stream",
     "text": [
      "100%|██████████| 10/10 [00:01<00:00,  9.05trial/s, best loss: -0.38426871022502773]\n"
     ]
    },
    {
     "name": "stderr",
     "output_type": "stream",
     "text": [
      "\u001b[38;21m[INFO] 2024-02-20 13:38:28,670 - Calibrating probabilities\u001b[0m\n",
      "\u001b[38;21m[INFO] 2024-02-20 13:38:29,153 - Test fold mean accuracy: 0.8543543543543544\u001b[0m\n",
      "\u001b[38;21m[INFO] 2024-02-20 13:38:29,154 - Evaluating testing fold #4\u001b[0m\n",
      "\u001b[38;21m[INFO] 2024-02-20 13:38:29,155 - Over-sampling training fold with SMOTE\u001b[0m\n",
      "\u001b[38;21m[INFO] 2024-02-20 13:38:29,200 - Optimizing classifier hyper-parameters\u001b[0m\n"
     ]
    },
    {
     "name": "stdout",
     "output_type": "stream",
     "text": [
      "100%|██████████| 10/10 [00:01<00:00,  9.84trial/s, best loss: -0.40838541666666667]\n"
     ]
    },
    {
     "name": "stderr",
     "output_type": "stream",
     "text": [
      "\u001b[38;21m[INFO] 2024-02-20 13:38:30,220 - Calibrating probabilities\u001b[0m\n",
      "\u001b[38;21m[INFO] 2024-02-20 13:38:30,577 - Test fold mean accuracy: 0.8493493493493494\u001b[0m\n",
      "\u001b[38;21m[INFO] 2024-02-20 13:38:30,577 - Evaluating testing fold #5\u001b[0m\n",
      "\u001b[38;21m[INFO] 2024-02-20 13:38:30,578 - Over-sampling training fold with SMOTE\u001b[0m\n",
      "\u001b[38;21m[INFO] 2024-02-20 13:38:30,614 - Optimizing classifier hyper-parameters\u001b[0m\n"
     ]
    },
    {
     "name": "stdout",
     "output_type": "stream",
     "text": [
      "100%|██████████| 10/10 [00:00<00:00, 11.16trial/s, best loss: -0.37523101269791]\n"
     ]
    },
    {
     "name": "stderr",
     "output_type": "stream",
     "text": [
      "\u001b[38;21m[INFO] 2024-02-20 13:38:31,513 - Calibrating probabilities\u001b[0m\n",
      "\u001b[38;21m[INFO] 2024-02-20 13:38:31,828 - Test fold mean accuracy: 0.8407611417125689\u001b[0m\n",
      "\u001b[38;21m[INFO] 2024-02-20 13:38:31,829 - Iteration 1/1 completed.\u001b[0m\n",
      "\u001b[38;21m[INFO] 2024-02-20 13:38:31,829 - Mean accuracy on test instances (iteration #1): 0.8371\u001b[0m\n",
      "\u001b[38;21m[INFO] 2024-02-20 13:38:31,830 - Assessing performance of classifier 'svc_rbf'\u001b[0m\n",
      "\u001b[38;21m[INFO] 2024-02-20 13:38:31,831 - Estimating instance performance...\u001b[0m\n",
      "\u001b[38;21m[INFO] 2024-02-20 13:38:31,833 - Evaluating testing fold #1\u001b[0m\n",
      "\u001b[38;21m[INFO] 2024-02-20 13:38:31,834 - Over-sampling training fold with SMOTE\u001b[0m\n",
      "\u001b[38;21m[INFO] 2024-02-20 13:38:31,870 - Optimizing classifier hyper-parameters\u001b[0m\n"
     ]
    },
    {
     "name": "stdout",
     "output_type": "stream",
     "text": [
      " 10%|█         | 1/10 [01:56<17:31, 116.83s/trial, best loss: -0.4966271839840329]\n"
     ]
    },
    {
     "name": "stderr",
     "output_type": "stream",
     "text": [
      "\u001b[38;21m[INFO] 2024-02-20 13:40:28,705 - Calibrating probabilities\u001b[0m\n",
      "\u001b[38;21m[INFO] 2024-02-20 13:43:24,160 - Test fold mean accuracy: 0.7977977977977978\u001b[0m\n",
      "\u001b[38;21m[INFO] 2024-02-20 13:43:24,161 - Evaluating testing fold #2\u001b[0m\n",
      "\u001b[38;21m[INFO] 2024-02-20 13:43:24,162 - Over-sampling training fold with SMOTE\u001b[0m\n",
      "\u001b[38;21m[INFO] 2024-02-20 13:43:24,179 - Optimizing classifier hyper-parameters\u001b[0m\n"
     ]
    },
    {
     "name": "stdout",
     "output_type": "stream",
     "text": [
      " 10%|█         | 1/10 [01:53<17:05, 113.90s/trial, best loss: -0.49852834365645166]\n"
     ]
    },
    {
     "name": "stderr",
     "output_type": "stream",
     "text": [
      "\u001b[38;21m[INFO] 2024-02-20 13:45:18,088 - Calibrating probabilities\u001b[0m\n",
      "\u001b[38;21m[INFO] 2024-02-20 13:48:10,044 - Test fold mean accuracy: 0.8133133133133134\u001b[0m\n",
      "\u001b[38;21m[INFO] 2024-02-20 13:48:10,044 - Evaluating testing fold #3\u001b[0m\n",
      "\u001b[38;21m[INFO] 2024-02-20 13:48:10,044 - Over-sampling training fold with SMOTE\u001b[0m\n",
      "\u001b[38;21m[INFO] 2024-02-20 13:48:10,062 - Optimizing classifier hyper-parameters\u001b[0m\n"
     ]
    },
    {
     "name": "stdout",
     "output_type": "stream",
     "text": [
      " 10%|█         | 1/10 [01:51<16:46, 111.81s/trial, best loss: -0.5069669668635679]\n"
     ]
    },
    {
     "name": "stderr",
     "output_type": "stream",
     "text": [
      "\u001b[38;21m[INFO] 2024-02-20 13:50:01,875 - Calibrating probabilities\u001b[0m\n",
      "\u001b[38;21m[INFO] 2024-02-20 13:52:50,465 - Test fold mean accuracy: 0.8258258258258259\u001b[0m\n",
      "\u001b[38;21m[INFO] 2024-02-20 13:52:50,465 - Evaluating testing fold #4\u001b[0m\n",
      "\u001b[38;21m[INFO] 2024-02-20 13:52:50,466 - Over-sampling training fold with SMOTE\u001b[0m\n",
      "\u001b[38;21m[INFO] 2024-02-20 13:52:50,482 - Optimizing classifier hyper-parameters\u001b[0m\n"
     ]
    },
    {
     "name": "stdout",
     "output_type": "stream",
     "text": [
      " 10%|█         | 1/10 [01:50<16:33, 110.34s/trial, best loss: -0.5172395833333333]\n"
     ]
    },
    {
     "name": "stderr",
     "output_type": "stream",
     "text": [
      "\u001b[38;21m[INFO] 2024-02-20 13:54:40,829 - Calibrating probabilities\u001b[0m\n",
      "\u001b[38;21m[INFO] 2024-02-20 13:57:29,369 - Test fold mean accuracy: 0.8213213213213213\u001b[0m\n",
      "\u001b[38;21m[INFO] 2024-02-20 13:57:29,370 - Evaluating testing fold #5\u001b[0m\n",
      "\u001b[38;21m[INFO] 2024-02-20 13:57:29,370 - Over-sampling training fold with SMOTE\u001b[0m\n",
      "\u001b[38;21m[INFO] 2024-02-20 13:57:29,410 - Optimizing classifier hyper-parameters\u001b[0m\n"
     ]
    },
    {
     "name": "stdout",
     "output_type": "stream",
     "text": [
      " 10%|█         | 1/10 [01:54<17:11, 114.63s/trial, best loss: -0.47282177171055184]\n"
     ]
    },
    {
     "name": "stderr",
     "output_type": "stream",
     "text": [
      "\u001b[38;21m[INFO] 2024-02-20 13:59:24,041 - Calibrating probabilities\u001b[0m\n",
      "\u001b[38;21m[INFO] 2024-02-20 14:02:18,301 - Test fold mean accuracy: 0.8167250876314471\u001b[0m\n",
      "\u001b[38;21m[INFO] 2024-02-20 14:02:18,301 - Iteration 1/1 completed.\u001b[0m\n",
      "\u001b[38;21m[INFO] 2024-02-20 14:02:18,301 - Mean accuracy on test instances (iteration #1): 0.815\u001b[0m\n",
      "\u001b[38;21m[INFO] 2024-02-20 14:02:18,595 - Feature selection on\u001b[0m\n",
      "\u001b[38;21m[INFO] 2024-02-20 14:02:18,818 - Applying varicance threshold\u001b[0m\n",
      "\u001b[38;21m[INFO] 2024-02-20 14:02:18,820 - Removed features: []\u001b[0m\n",
      "\u001b[38;21m[INFO] 2024-02-20 14:02:18,820 - Applying correlation threshold\u001b[0m\n",
      "\u001b[38;21m[INFO] 2024-02-20 14:02:18,821 - Removed features: ['feature_CLD']\u001b[0m\n",
      "\u001b[38;21m[INFO] 2024-02-20 14:02:18,822 - Applying main filtering method: NCA\u001b[0m\n",
      "\u001b[38;21m[INFO] 2024-02-20 14:02:38,407 - Selected features: ['feature_CL', 'feature_TD_U', 'feature_kDN', 'feature_N2', 'feature_N1', 'feature_TD_P', 'feature_DCP']\u001b[0m\n",
      "\u001b[38;21m[INFO] 2024-02-20 14:02:38,590 - Running Instance Space Analysis with 'python' engine.\u001b[0m\n",
      "\u001b[38;21m[INFO] 2024-02-20 14:02:38,591 - Adding gaussian noise to the metadata for numerical stability.\u001b[0m\n",
      "\u001b[38;21m[INFO] 2024-02-20 14:02:38,600 - Calculating the binary measure of performance\u001b[0m\n",
      "\u001b[38;21m[INFO] 2024-02-20 14:02:38,602 - An algorithm is good if its performace is less than 0.9683\u001b[0m\n",
      "\u001b[38;21m[INFO] 2024-02-20 14:02:38,603 - For 0.0% of the instances there is more than one best algorithm. Random selection is used to break ties.\u001b[0m\n",
      "\u001b[38;21m[INFO] 2024-02-20 14:02:38,603 - Auto pre-processing.\u001b[0m\n",
      "\u001b[38;21m[INFO] 2024-02-20 14:02:38,603 - Removing extreme outliers from the feature values.\u001b[0m\n",
      "\u001b[38;21m[INFO] 2024-02-20 14:02:38,607 - Auto-normalizing the data using Box-Cox and Z transformations.\u001b[0m\n",
      "\u001b[38;21m[INFO] 2024-02-20 14:02:38,697 - Calling PILOT to find the optimal projection.\u001b[0m\n",
      "\u001b[38;21m[INFO] 2024-02-20 14:02:38,697 - PILOT is solving numerically the projection problem.\u001b[0m\n",
      "\u001b[38;21m[INFO] 2024-02-20 14:02:43,556 - PILOT has completed trial 1\u001b[0m\n",
      "\u001b[38;21m[INFO] 2024-02-20 14:02:47,060 - PILOT has completed trial 2\u001b[0m\n",
      "\u001b[38;21m[INFO] 2024-02-20 14:02:57,303 - PILOT has completed trial 3\u001b[0m\n",
      "\u001b[38;21m[INFO] 2024-02-20 14:03:01,369 - PILOT has completed trial 4\u001b[0m\n",
      "\u001b[38;21m[INFO] 2024-02-20 14:03:04,759 - PILOT has completed trial 5\u001b[0m\n",
      "\u001b[38;21m[INFO] 2024-02-20 14:03:04,763 - PILOT has completed.\u001b[0m\n",
      "\u001b[38;21m[INFO] 2024-02-20 14:03:04,912 - Adjusting the IS rotation.\u001b[0m\n",
      "\u001b[38;21m[INFO] 2024-02-20 14:03:04,912 - The space was rotated by 148.0 degrees.\u001b[0m\n",
      "\u001b[38;21m[INFO] 2024-02-20 14:03:04,912 - Calling TRACE to perform the footprint analysis.\u001b[0m\n",
      "\u001b[38;21m[INFO] 2024-02-20 14:03:04,912 - TRACE is calculating the space area and density.\u001b[0m\n",
      "\u001b[38;21m[INFO] 2024-02-20 14:03:06,976 - TRACE is calculating the algorithm footprints.\u001b[0m\n",
      "\u001b[33;21m[WARNING] 2024-02-20 14:03:06,976 - Some log messages are temporarily disabled in parallel mode. This functionality will be added in future versions\u001b[0m\n",
      "\u001b[38;21m[INFO] 2024-02-20 14:03:06,976 - Calculating footprints...\u001b[0m\n",
      "\u001b[38;21m[INFO] 2024-02-20 14:03:56,502 - TRACE is detecting and removing contradictory sections of the footprints.\u001b[0m\n",
      "\u001b[38;21m[INFO] 2024-02-20 14:03:56,607 - TRACE is calculating the beta-footprint.\u001b[0m\n",
      "\u001b[38;21m[INFO] 2024-02-20 14:08:29,087 - TRACE is preparing the summary table.\u001b[0m\n",
      "\u001b[38;21m[INFO] 2024-02-20 14:08:29,088 - TRACE has completed.\u001b[0m\n",
      "\u001b[38;21m[INFO] 2024-02-20 14:08:29,088 - Calculating instance easiness footprint area\u001b[0m\n",
      "\u001b[38;21m[INFO] 2024-02-20 14:08:29,088 - An instance is easy if its IH-value <= 0.4\u001b[0m\n",
      "\u001b[38;21m[INFO] 2024-02-20 14:08:31,232 - Total elapsed time: 1h23m20s\u001b[0m\n",
      "\u001b[38;21m[INFO] 2024-02-20 14:08:31,233 - Instance Hardness analysis finished.\u001b[0m\n",
      "\u001b[38;21m[INFO] 2024-02-20 14:08:38,831 - Configuration file: '/home/gabrielscn/meta-active-learning/pyhard/1535/config.yaml'\u001b[0m\n",
      "\u001b[38;21m[INFO] 2024-02-20 14:08:38,843 - Reading input dataset: '/home/gabrielscn/meta-active-learning/datasets/1535.csv'\u001b[0m\n",
      "\u001b[38;21m[INFO] 2024-02-20 14:08:38,864 - Type of problem: 'classification'\u001b[0m\n",
      "\u001b[33;21m[WARNING] 2024-02-20 14:08:38,871 - Classes are unbalanced (imbalance ratio > 1.5). This may change the way the results are interpreted.\u001b[0m\n",
      "\u001b[38;21m[INFO] 2024-02-20 14:08:38,871 - Seed=0\u001b[0m\n",
      "\u001b[38;21m[INFO] 2024-02-20 14:08:38,871 - Building metadata.\u001b[0m\n",
      "\u001b[38;21m[INFO] 2024-02-20 14:08:59,044 - Calculating measure 'CL'\u001b[0m\n",
      "\u001b[38;21m[INFO] 2024-02-20 14:08:59,048 - Calculating measure 'CLD'\u001b[0m\n",
      "\u001b[38;21m[INFO] 2024-02-20 14:08:59,052 - Calculating measure 'DCP'\u001b[0m\n",
      "\u001b[38;21m[INFO] 2024-02-20 14:09:09,242 - Calculating measure 'F1'\u001b[0m\n",
      "\u001b[38;21m[INFO] 2024-02-20 14:09:09,273 - Calculating measure 'Harmfulness'\u001b[0m\n",
      "\u001b[38;21m[INFO] 2024-02-20 14:09:09,915 - Calculating measure 'LSC'\u001b[0m\n",
      "\u001b[38;21m[INFO] 2024-02-20 14:09:18,837 - Calculating measure 'LSR'\u001b[0m\n",
      "\u001b[38;21m[INFO] 2024-02-20 14:09:27,311 - Calculating measure 'N1'\u001b[0m\n",
      "\u001b[38;21m[INFO] 2024-02-20 14:09:58,148 - Calculating measure 'N2'\u001b[0m\n",
      "\u001b[38;21m[INFO] 2024-02-20 14:10:10,952 - Calculating measure 'TD_P'\u001b[0m\n",
      "\u001b[38;21m[INFO] 2024-02-20 14:10:13,151 - Calculating measure 'TD_U'\u001b[0m\n",
      "\u001b[38;21m[INFO] 2024-02-20 14:10:15,372 - Calculating measure 'Usefulness'\u001b[0m\n",
      "\u001b[38;21m[INFO] 2024-02-20 14:10:15,790 - Calculating measure 'kDN'\u001b[0m\n",
      "\u001b[38;21m[INFO] 2024-02-20 14:10:19,259 - Hyper parameter optimization enabled\u001b[0m\n",
      "\u001b[38;21m[INFO] 2024-02-20 14:10:19,260 - Assessing performance of classifier 'bagging'\u001b[0m\n",
      "\u001b[38;21m[INFO] 2024-02-20 14:10:19,261 - Estimating instance performance...\u001b[0m\n",
      "\u001b[38;21m[INFO] 2024-02-20 14:10:19,263 - Evaluating testing fold #1\u001b[0m\n",
      "\u001b[38;21m[INFO] 2024-02-20 14:10:19,263 - Over-sampling training fold with SMOTE\u001b[0m\n",
      "\u001b[38;21m[INFO] 2024-02-20 14:10:19,283 - Optimizing classifier hyper-parameters\u001b[0m\n"
     ]
    },
    {
     "name": "stdout",
     "output_type": "stream",
     "text": [
      "100%|██████████| 10/10 [00:31<00:00,  3.15s/trial, best loss: -0.9297823595156292]\n"
     ]
    },
    {
     "name": "stderr",
     "output_type": "stream",
     "text": [
      "\u001b[38;21m[INFO] 2024-02-20 14:10:50,764 - Calibrating probabilities\u001b[0m\n",
      "\u001b[38;21m[INFO] 2024-02-20 14:10:56,328 - Test fold mean accuracy: 0.8303303303303303\u001b[0m\n",
      "\u001b[38;21m[INFO] 2024-02-20 14:10:56,329 - Evaluating testing fold #2\u001b[0m\n",
      "\u001b[38;21m[INFO] 2024-02-20 14:10:56,330 - Over-sampling training fold with SMOTE\u001b[0m\n",
      "\u001b[38;21m[INFO] 2024-02-20 14:10:56,377 - Optimizing classifier hyper-parameters\u001b[0m\n"
     ]
    },
    {
     "name": "stdout",
     "output_type": "stream",
     "text": [
      "100%|██████████| 10/10 [00:31<00:00,  3.12s/trial, best loss: -0.9355382861273848]\n"
     ]
    },
    {
     "name": "stderr",
     "output_type": "stream",
     "text": [
      "\u001b[38;21m[INFO] 2024-02-20 14:11:27,555 - Calibrating probabilities\u001b[0m\n",
      "\u001b[38;21m[INFO] 2024-02-20 14:11:34,263 - Test fold mean accuracy: 0.8423423423423423\u001b[0m\n",
      "\u001b[38;21m[INFO] 2024-02-20 14:11:34,264 - Evaluating testing fold #3\u001b[0m\n",
      "\u001b[38;21m[INFO] 2024-02-20 14:11:34,265 - Over-sampling training fold with SMOTE\u001b[0m\n",
      "\u001b[38;21m[INFO] 2024-02-20 14:11:34,285 - Optimizing classifier hyper-parameters\u001b[0m\n"
     ]
    },
    {
     "name": "stdout",
     "output_type": "stream",
     "text": [
      "100%|██████████| 10/10 [00:30<00:00,  3.07s/trial, best loss: -0.9355122770207501]\n"
     ]
    },
    {
     "name": "stderr",
     "output_type": "stream",
     "text": [
      "\u001b[38;21m[INFO] 2024-02-20 14:12:04,952 - Calibrating probabilities\u001b[0m\n",
      "\u001b[38;21m[INFO] 2024-02-20 14:12:11,003 - Test fold mean accuracy: 0.8463463463463463\u001b[0m\n",
      "\u001b[38;21m[INFO] 2024-02-20 14:12:11,003 - Evaluating testing fold #4\u001b[0m\n",
      "\u001b[38;21m[INFO] 2024-02-20 14:12:11,004 - Over-sampling training fold with SMOTE\u001b[0m\n",
      "\u001b[38;21m[INFO] 2024-02-20 14:12:11,022 - Optimizing classifier hyper-parameters\u001b[0m\n"
     ]
    },
    {
     "name": "stdout",
     "output_type": "stream",
     "text": [
      "100%|██████████| 10/10 [00:32<00:00,  3.22s/trial, best loss: -0.9292708333333333]\n"
     ]
    },
    {
     "name": "stderr",
     "output_type": "stream",
     "text": [
      "\u001b[38;21m[INFO] 2024-02-20 14:12:43,262 - Calibrating probabilities\u001b[0m\n",
      "\u001b[38;21m[INFO] 2024-02-20 14:12:49,205 - Test fold mean accuracy: 0.8673673673673674\u001b[0m\n",
      "\u001b[38;21m[INFO] 2024-02-20 14:12:49,206 - Evaluating testing fold #5\u001b[0m\n",
      "\u001b[38;21m[INFO] 2024-02-20 14:12:49,206 - Over-sampling training fold with SMOTE\u001b[0m\n",
      "\u001b[38;21m[INFO] 2024-02-20 14:12:49,225 - Optimizing classifier hyper-parameters\u001b[0m\n"
     ]
    },
    {
     "name": "stdout",
     "output_type": "stream",
     "text": [
      "100%|██████████| 10/10 [00:31<00:00,  3.16s/trial, best loss: -0.9299907335460613]\n"
     ]
    },
    {
     "name": "stderr",
     "output_type": "stream",
     "text": [
      "\u001b[38;21m[INFO] 2024-02-20 14:13:20,792 - Calibrating probabilities\u001b[0m\n",
      "\u001b[38;21m[INFO] 2024-02-20 14:13:25,901 - Test fold mean accuracy: 0.8327491236855283\u001b[0m\n",
      "\u001b[38;21m[INFO] 2024-02-20 14:13:25,902 - Iteration 1/1 completed.\u001b[0m\n",
      "\u001b[38;21m[INFO] 2024-02-20 14:13:25,903 - Mean accuracy on test instances (iteration #1): 0.8438\u001b[0m\n",
      "\u001b[38;21m[INFO] 2024-02-20 14:13:25,906 - Assessing performance of classifier 'gradient_boosting'\u001b[0m\n",
      "\u001b[38;21m[INFO] 2024-02-20 14:13:25,907 - Estimating instance performance...\u001b[0m\n",
      "\u001b[38;21m[INFO] 2024-02-20 14:13:25,909 - Evaluating testing fold #1\u001b[0m\n",
      "\u001b[38;21m[INFO] 2024-02-20 14:13:25,909 - Over-sampling training fold with SMOTE\u001b[0m\n",
      "\u001b[38;21m[INFO] 2024-02-20 14:13:25,926 - Optimizing classifier hyper-parameters\u001b[0m\n"
     ]
    },
    {
     "name": "stdout",
     "output_type": "stream",
     "text": [
      " 10%|█         | 1/10 [02:31<22:45, 151.76s/trial, best loss: -0.5965098741830376]\n"
     ]
    },
    {
     "name": "stderr",
     "output_type": "stream",
     "text": [
      "\u001b[38;21m[INFO] 2024-02-20 14:15:57,692 - Calibrating probabilities\u001b[0m\n",
      "\u001b[38;21m[INFO] 2024-02-20 14:19:47,482 - Test fold mean accuracy: 0.7587587587587588\u001b[0m\n",
      "\u001b[38;21m[INFO] 2024-02-20 14:19:47,482 - Evaluating testing fold #2\u001b[0m\n",
      "\u001b[38;21m[INFO] 2024-02-20 14:19:47,483 - Over-sampling training fold with SMOTE\u001b[0m\n",
      "\u001b[38;21m[INFO] 2024-02-20 14:19:47,516 - Optimizing classifier hyper-parameters\u001b[0m\n"
     ]
    },
    {
     "name": "stdout",
     "output_type": "stream",
     "text": [
      " 10%|█         | 1/10 [02:31<22:43, 151.53s/trial, best loss: -0.6233623303228336]\n"
     ]
    },
    {
     "name": "stderr",
     "output_type": "stream",
     "text": [
      "\u001b[38;21m[INFO] 2024-02-20 14:22:19,045 - Calibrating probabilities\u001b[0m\n",
      "\u001b[38;21m[INFO] 2024-02-20 14:26:08,164 - Test fold mean accuracy: 0.7712712712712713\u001b[0m\n",
      "\u001b[38;21m[INFO] 2024-02-20 14:26:08,164 - Evaluating testing fold #3\u001b[0m\n",
      "\u001b[38;21m[INFO] 2024-02-20 14:26:08,165 - Over-sampling training fold with SMOTE\u001b[0m\n",
      "\u001b[38;21m[INFO] 2024-02-20 14:26:08,195 - Optimizing classifier hyper-parameters\u001b[0m\n"
     ]
    },
    {
     "name": "stdout",
     "output_type": "stream",
     "text": [
      " 10%|█         | 1/10 [02:31<22:47, 151.98s/trial, best loss: -0.6223462149045403]\n"
     ]
    },
    {
     "name": "stderr",
     "output_type": "stream",
     "text": [
      "\u001b[38;21m[INFO] 2024-02-20 14:28:40,178 - Calibrating probabilities\u001b[0m\n",
      "\u001b[38;21m[INFO] 2024-02-20 14:32:26,946 - Test fold mean accuracy: 0.7752752752752753\u001b[0m\n",
      "\u001b[38;21m[INFO] 2024-02-20 14:32:26,947 - Evaluating testing fold #4\u001b[0m\n",
      "\u001b[38;21m[INFO] 2024-02-20 14:32:26,948 - Over-sampling training fold with SMOTE\u001b[0m\n",
      "\u001b[38;21m[INFO] 2024-02-20 14:32:26,975 - Optimizing classifier hyper-parameters\u001b[0m\n"
     ]
    },
    {
     "name": "stdout",
     "output_type": "stream",
     "text": [
      " 10%|█         | 1/10 [02:32<22:53, 152.59s/trial, best loss: -0.6086458333333333]\n"
     ]
    },
    {
     "name": "stderr",
     "output_type": "stream",
     "text": [
      "\u001b[38;21m[INFO] 2024-02-20 14:34:59,563 - Calibrating probabilities\u001b[0m\n",
      "\u001b[38;21m[INFO] 2024-02-20 14:38:49,928 - Test fold mean accuracy: 0.7837837837837838\u001b[0m\n",
      "\u001b[38;21m[INFO] 2024-02-20 14:38:49,929 - Evaluating testing fold #5\u001b[0m\n",
      "\u001b[38;21m[INFO] 2024-02-20 14:38:49,929 - Over-sampling training fold with SMOTE\u001b[0m\n",
      "\u001b[38;21m[INFO] 2024-02-20 14:38:49,958 - Optimizing classifier hyper-parameters\u001b[0m\n"
     ]
    },
    {
     "name": "stdout",
     "output_type": "stream",
     "text": [
      " 10%|█         | 1/10 [02:31<22:43, 151.46s/trial, best loss: -0.6247947135462083]\n"
     ]
    },
    {
     "name": "stderr",
     "output_type": "stream",
     "text": [
      "\u001b[38;21m[INFO] 2024-02-20 14:41:21,421 - Calibrating probabilities\u001b[0m\n",
      "\u001b[38;21m[INFO] 2024-02-20 14:45:10,834 - Test fold mean accuracy: 0.7551326990485728\u001b[0m\n",
      "\u001b[38;21m[INFO] 2024-02-20 14:45:10,835 - Iteration 1/1 completed.\u001b[0m\n",
      "\u001b[38;21m[INFO] 2024-02-20 14:45:10,836 - Mean accuracy on test instances (iteration #1): 0.7688\u001b[0m\n",
      "\u001b[38;21m[INFO] 2024-02-20 14:45:10,839 - Assessing performance of classifier 'logistic_regression'\u001b[0m\n",
      "\u001b[38;21m[INFO] 2024-02-20 14:45:10,842 - Estimating instance performance...\u001b[0m\n",
      "\u001b[38;21m[INFO] 2024-02-20 14:45:10,844 - Evaluating testing fold #1\u001b[0m\n",
      "\u001b[38;21m[INFO] 2024-02-20 14:45:10,845 - Over-sampling training fold with SMOTE\u001b[0m\n",
      "\u001b[38;21m[INFO] 2024-02-20 14:45:10,869 - Optimizing classifier hyper-parameters\u001b[0m\n"
     ]
    },
    {
     "name": "stdout",
     "output_type": "stream",
     "text": [
      "100%|██████████| 10/10 [00:01<00:00,  5.58trial/s, best loss: -0.4015627535396957]\n"
     ]
    },
    {
     "name": "stderr",
     "output_type": "stream",
     "text": [
      "\u001b[38;21m[INFO] 2024-02-20 14:45:12,663 - Calibrating probabilities\u001b[0m\n",
      "\u001b[38;21m[INFO] 2024-02-20 14:45:13,059 - Test fold mean accuracy: 0.8413413413413413\u001b[0m\n",
      "\u001b[38;21m[INFO] 2024-02-20 14:45:13,060 - Evaluating testing fold #2\u001b[0m\n",
      "\u001b[38;21m[INFO] 2024-02-20 14:45:13,060 - Over-sampling training fold with SMOTE\u001b[0m\n",
      "\u001b[38;21m[INFO] 2024-02-20 14:45:13,099 - Optimizing classifier hyper-parameters\u001b[0m\n"
     ]
    },
    {
     "name": "stdout",
     "output_type": "stream",
     "text": [
      "100%|██████████| 10/10 [00:01<00:00,  6.00trial/s, best loss: -0.40763108857343977]\n"
     ]
    },
    {
     "name": "stderr",
     "output_type": "stream",
     "text": [
      "\u001b[38;21m[INFO] 2024-02-20 14:45:14,767 - Calibrating probabilities\u001b[0m\n",
      "\u001b[38;21m[INFO] 2024-02-20 14:45:15,217 - Test fold mean accuracy: 0.8428428428428428\u001b[0m\n",
      "\u001b[38;21m[INFO] 2024-02-20 14:45:15,218 - Evaluating testing fold #3\u001b[0m\n",
      "\u001b[38;21m[INFO] 2024-02-20 14:45:15,219 - Over-sampling training fold with SMOTE\u001b[0m\n",
      "\u001b[38;21m[INFO] 2024-02-20 14:45:15,257 - Optimizing classifier hyper-parameters\u001b[0m\n"
     ]
    },
    {
     "name": "stdout",
     "output_type": "stream",
     "text": [
      "100%|██████████| 10/10 [00:01<00:00,  5.66trial/s, best loss: -0.408751218033468]\n"
     ]
    },
    {
     "name": "stderr",
     "output_type": "stream",
     "text": [
      "\u001b[38;21m[INFO] 2024-02-20 14:45:17,027 - Calibrating probabilities\u001b[0m\n",
      "\u001b[38;21m[INFO] 2024-02-20 14:45:17,467 - Test fold mean accuracy: 0.8718718718718719\u001b[0m\n",
      "\u001b[38;21m[INFO] 2024-02-20 14:45:17,467 - Evaluating testing fold #4\u001b[0m\n",
      "\u001b[38;21m[INFO] 2024-02-20 14:45:17,468 - Over-sampling training fold with SMOTE\u001b[0m\n",
      "\u001b[38;21m[INFO] 2024-02-20 14:45:17,507 - Optimizing classifier hyper-parameters\u001b[0m\n"
     ]
    },
    {
     "name": "stdout",
     "output_type": "stream",
     "text": [
      "100%|██████████| 10/10 [00:01<00:00,  5.42trial/s, best loss: -0.43877604166666667]\n"
     ]
    },
    {
     "name": "stderr",
     "output_type": "stream",
     "text": [
      "\u001b[38;21m[INFO] 2024-02-20 14:45:19,355 - Calibrating probabilities\u001b[0m\n",
      "\u001b[38;21m[INFO] 2024-02-20 14:45:19,872 - Test fold mean accuracy: 0.8568568568568569\u001b[0m\n",
      "\u001b[38;21m[INFO] 2024-02-20 14:45:19,873 - Evaluating testing fold #5\u001b[0m\n",
      "\u001b[38;21m[INFO] 2024-02-20 14:45:19,873 - Over-sampling training fold with SMOTE\u001b[0m\n",
      "\u001b[38;21m[INFO] 2024-02-20 14:45:19,912 - Optimizing classifier hyper-parameters\u001b[0m\n"
     ]
    },
    {
     "name": "stdout",
     "output_type": "stream",
     "text": [
      "100%|██████████| 10/10 [00:01<00:00,  5.17trial/s, best loss: -0.3854667388010853]\n"
     ]
    },
    {
     "name": "stderr",
     "output_type": "stream",
     "text": [
      "\u001b[38;21m[INFO] 2024-02-20 14:45:21,849 - Calibrating probabilities\u001b[0m\n",
      "\u001b[38;21m[INFO] 2024-02-20 14:45:22,267 - Test fold mean accuracy: 0.8387581372058087\u001b[0m\n",
      "\u001b[38;21m[INFO] 2024-02-20 14:45:22,267 - Iteration 1/1 completed.\u001b[0m\n",
      "\u001b[38;21m[INFO] 2024-02-20 14:45:22,268 - Mean accuracy on test instances (iteration #1): 0.8503\u001b[0m\n",
      "\u001b[38;21m[INFO] 2024-02-20 14:45:22,269 - Assessing performance of classifier 'mlp'\u001b[0m\n",
      "\u001b[38;21m[INFO] 2024-02-20 14:45:22,272 - Estimating instance performance...\u001b[0m\n",
      "\u001b[38;21m[INFO] 2024-02-20 14:45:22,274 - Evaluating testing fold #1\u001b[0m\n",
      "\u001b[38;21m[INFO] 2024-02-20 14:45:22,275 - Over-sampling training fold with SMOTE\u001b[0m\n",
      "\u001b[38;21m[INFO] 2024-02-20 14:45:22,313 - Optimizing classifier hyper-parameters\u001b[0m\n"
     ]
    },
    {
     "name": "stdout",
     "output_type": "stream",
     "text": [
      " 20%|██        | 2/10 [01:52<07:28, 56.07s/trial, best loss: -0.7514777602724544]\n"
     ]
    },
    {
     "name": "stderr",
     "output_type": "stream",
     "text": [
      "\u001b[38;21m[INFO] 2024-02-20 14:47:14,463 - Calibrating probabilities\u001b[0m\n",
      "\u001b[38;21m[INFO] 2024-02-20 14:48:44,700 - Test fold mean accuracy: 0.6986986986986987\u001b[0m\n",
      "\u001b[38;21m[INFO] 2024-02-20 14:48:44,700 - Evaluating testing fold #2\u001b[0m\n",
      "\u001b[38;21m[INFO] 2024-02-20 14:48:44,701 - Over-sampling training fold with SMOTE\u001b[0m\n",
      "\u001b[38;21m[INFO] 2024-02-20 14:48:44,725 - Optimizing classifier hyper-parameters\u001b[0m\n"
     ]
    },
    {
     "name": "stdout",
     "output_type": "stream",
     "text": [
      " 20%|██        | 2/10 [01:36<06:25, 48.13s/trial, best loss: -0.7686155271342625]\n"
     ]
    },
    {
     "name": "stderr",
     "output_type": "stream",
     "text": [
      "\u001b[38;21m[INFO] 2024-02-20 14:50:21,001 - Calibrating probabilities\u001b[0m\n",
      "\u001b[38;21m[INFO] 2024-02-20 14:51:36,276 - Test fold mean accuracy: 0.7152152152152152\u001b[0m\n",
      "\u001b[38;21m[INFO] 2024-02-20 14:51:36,277 - Evaluating testing fold #3\u001b[0m\n",
      "\u001b[38;21m[INFO] 2024-02-20 14:51:36,277 - Over-sampling training fold with SMOTE\u001b[0m\n",
      "\u001b[38;21m[INFO] 2024-02-20 14:51:36,319 - Optimizing classifier hyper-parameters\u001b[0m\n"
     ]
    },
    {
     "name": "stdout",
     "output_type": "stream",
     "text": [
      " 20%|██        | 2/10 [01:36<06:24, 48.10s/trial, best loss: -0.7771323038301746]\n"
     ]
    },
    {
     "name": "stderr",
     "output_type": "stream",
     "text": [
      "\u001b[38;21m[INFO] 2024-02-20 14:53:12,530 - Calibrating probabilities\u001b[0m\n",
      "\u001b[38;21m[INFO] 2024-02-20 14:54:26,966 - Test fold mean accuracy: 0.7297297297297297\u001b[0m\n",
      "\u001b[38;21m[INFO] 2024-02-20 14:54:26,966 - Evaluating testing fold #4\u001b[0m\n",
      "\u001b[38;21m[INFO] 2024-02-20 14:54:26,967 - Over-sampling training fold with SMOTE\u001b[0m\n",
      "\u001b[38;21m[INFO] 2024-02-20 14:54:27,007 - Optimizing classifier hyper-parameters\u001b[0m\n"
     ]
    },
    {
     "name": "stdout",
     "output_type": "stream",
     "text": [
      " 20%|██        | 2/10 [01:36<06:25, 48.22s/trial, best loss: -0.7536458333333332]\n"
     ]
    },
    {
     "name": "stderr",
     "output_type": "stream",
     "text": [
      "\u001b[38;21m[INFO] 2024-02-20 14:56:03,464 - Calibrating probabilities\u001b[0m\n",
      "\u001b[38;21m[INFO] 2024-02-20 14:57:19,154 - Test fold mean accuracy: 0.7562562562562563\u001b[0m\n",
      "\u001b[38;21m[INFO] 2024-02-20 14:57:19,155 - Evaluating testing fold #5\u001b[0m\n",
      "\u001b[38;21m[INFO] 2024-02-20 14:57:19,155 - Over-sampling training fold with SMOTE\u001b[0m\n",
      "\u001b[38;21m[INFO] 2024-02-20 14:57:19,178 - Optimizing classifier hyper-parameters\u001b[0m\n"
     ]
    },
    {
     "name": "stdout",
     "output_type": "stream",
     "text": [
      " 20%|██        | 2/10 [01:36<06:26, 48.32s/trial, best loss: -0.7410597933793914]\n"
     ]
    },
    {
     "name": "stderr",
     "output_type": "stream",
     "text": [
      "\u001b[38;21m[INFO] 2024-02-20 14:58:55,819 - Calibrating probabilities\u001b[0m\n",
      "\u001b[38;21m[INFO] 2024-02-20 15:00:12,310 - Test fold mean accuracy: 0.7130696044066099\u001b[0m\n",
      "\u001b[38;21m[INFO] 2024-02-20 15:00:12,311 - Iteration 1/1 completed.\u001b[0m\n",
      "\u001b[38;21m[INFO] 2024-02-20 15:00:12,312 - Mean accuracy on test instances (iteration #1): 0.7226\u001b[0m\n",
      "\u001b[38;21m[INFO] 2024-02-20 15:00:12,313 - Assessing performance of classifier 'random_forest'\u001b[0m\n",
      "\u001b[38;21m[INFO] 2024-02-20 15:00:12,316 - Estimating instance performance...\u001b[0m\n",
      "\u001b[38;21m[INFO] 2024-02-20 15:00:12,319 - Evaluating testing fold #1\u001b[0m\n",
      "\u001b[38;21m[INFO] 2024-02-20 15:00:12,319 - Over-sampling training fold with SMOTE\u001b[0m\n",
      "\u001b[38;21m[INFO] 2024-02-20 15:00:12,360 - Optimizing classifier hyper-parameters\u001b[0m\n"
     ]
    },
    {
     "name": "stdout",
     "output_type": "stream",
     "text": [
      "100%|██████████| 10/10 [00:21<00:00,  2.17s/trial, best loss: -0.9284020148553451]\n"
     ]
    },
    {
     "name": "stderr",
     "output_type": "stream",
     "text": [
      "\u001b[38;21m[INFO] 2024-02-20 15:00:34,027 - Calibrating probabilities\u001b[0m\n",
      "\u001b[38;21m[INFO] 2024-02-20 15:00:38,410 - Test fold mean accuracy: 0.8283283283283284\u001b[0m\n",
      "\u001b[38;21m[INFO] 2024-02-20 15:00:38,410 - Evaluating testing fold #2\u001b[0m\n",
      "\u001b[38;21m[INFO] 2024-02-20 15:00:38,410 - Over-sampling training fold with SMOTE\u001b[0m\n",
      "\u001b[38;21m[INFO] 2024-02-20 15:00:38,430 - Optimizing classifier hyper-parameters\u001b[0m\n"
     ]
    },
    {
     "name": "stdout",
     "output_type": "stream",
     "text": [
      "100%|██████████| 10/10 [00:21<00:00,  2.14s/trial, best loss: -0.9337932624940587]\n"
     ]
    },
    {
     "name": "stderr",
     "output_type": "stream",
     "text": [
      "\u001b[38;21m[INFO] 2024-02-20 15:00:59,861 - Calibrating probabilities\u001b[0m\n",
      "\u001b[38;21m[INFO] 2024-02-20 15:01:04,367 - Test fold mean accuracy: 0.8433433433433434\u001b[0m\n",
      "\u001b[38;21m[INFO] 2024-02-20 15:01:04,368 - Evaluating testing fold #3\u001b[0m\n",
      "\u001b[38;21m[INFO] 2024-02-20 15:01:04,369 - Over-sampling training fold with SMOTE\u001b[0m\n",
      "\u001b[38;21m[INFO] 2024-02-20 15:01:04,389 - Optimizing classifier hyper-parameters\u001b[0m\n"
     ]
    },
    {
     "name": "stdout",
     "output_type": "stream",
     "text": [
      "100%|██████████| 10/10 [00:21<00:00,  2.15s/trial, best loss: -0.9352257942711288]\n"
     ]
    },
    {
     "name": "stderr",
     "output_type": "stream",
     "text": [
      "\u001b[38;21m[INFO] 2024-02-20 15:01:25,915 - Calibrating probabilities\u001b[0m\n",
      "\u001b[38;21m[INFO] 2024-02-20 15:01:31,036 - Test fold mean accuracy: 0.8573573573573574\u001b[0m\n",
      "\u001b[38;21m[INFO] 2024-02-20 15:01:31,037 - Evaluating testing fold #4\u001b[0m\n",
      "\u001b[38;21m[INFO] 2024-02-20 15:01:31,041 - Over-sampling training fold with SMOTE\u001b[0m\n",
      "\u001b[38;21m[INFO] 2024-02-20 15:01:31,088 - Optimizing classifier hyper-parameters\u001b[0m\n"
     ]
    },
    {
     "name": "stdout",
     "output_type": "stream",
     "text": [
      "100%|██████████| 10/10 [00:21<00:00,  2.10s/trial, best loss: -0.9319010416666668]\n"
     ]
    },
    {
     "name": "stderr",
     "output_type": "stream",
     "text": [
      "\u001b[38;21m[INFO] 2024-02-20 15:01:52,121 - Calibrating probabilities\u001b[0m\n",
      "\u001b[38;21m[INFO] 2024-02-20 15:01:56,341 - Test fold mean accuracy: 0.8723723723723724\u001b[0m\n",
      "\u001b[38;21m[INFO] 2024-02-20 15:01:56,342 - Evaluating testing fold #5\u001b[0m\n",
      "\u001b[38;21m[INFO] 2024-02-20 15:01:56,343 - Over-sampling training fold with SMOTE\u001b[0m\n",
      "\u001b[38;21m[INFO] 2024-02-20 15:01:56,389 - Optimizing classifier hyper-parameters\u001b[0m\n"
     ]
    },
    {
     "name": "stdout",
     "output_type": "stream",
     "text": [
      "100%|██████████| 10/10 [00:21<00:00,  2.18s/trial, best loss: -0.9297563381991019]\n"
     ]
    },
    {
     "name": "stderr",
     "output_type": "stream",
     "text": [
      "\u001b[38;21m[INFO] 2024-02-20 15:02:18,237 - Calibrating probabilities\u001b[0m\n",
      "\u001b[38;21m[INFO] 2024-02-20 15:02:22,661 - Test fold mean accuracy: 0.828743114672008\u001b[0m\n",
      "\u001b[38;21m[INFO] 2024-02-20 15:02:22,662 - Iteration 1/1 completed.\u001b[0m\n",
      "\u001b[38;21m[INFO] 2024-02-20 15:02:22,662 - Mean accuracy on test instances (iteration #1): 0.846\u001b[0m\n",
      "\u001b[38;21m[INFO] 2024-02-20 15:02:22,665 - Assessing performance of classifier 'svc_linear'\u001b[0m\n",
      "\u001b[38;21m[INFO] 2024-02-20 15:02:22,668 - Estimating instance performance...\u001b[0m\n",
      "\u001b[38;21m[INFO] 2024-02-20 15:02:22,671 - Evaluating testing fold #1\u001b[0m\n",
      "\u001b[38;21m[INFO] 2024-02-20 15:02:22,672 - Over-sampling training fold with SMOTE\u001b[0m\n",
      "\u001b[38;21m[INFO] 2024-02-20 15:02:22,690 - Optimizing classifier hyper-parameters\u001b[0m\n"
     ]
    },
    {
     "name": "stdout",
     "output_type": "stream",
     "text": [
      "100%|██████████| 10/10 [00:00<00:00, 10.75trial/s, best loss: -0.38770657647984014]\n"
     ]
    },
    {
     "name": "stderr",
     "output_type": "stream",
     "text": [
      "\u001b[38;21m[INFO] 2024-02-20 15:02:23,621 - Calibrating probabilities\u001b[0m\n",
      "\u001b[38;21m[INFO] 2024-02-20 15:02:23,936 - Test fold mean accuracy: 0.8278278278278278\u001b[0m\n",
      "\u001b[38;21m[INFO] 2024-02-20 15:02:23,937 - Evaluating testing fold #2\u001b[0m\n",
      "\u001b[38;21m[INFO] 2024-02-20 15:02:23,937 - Over-sampling training fold with SMOTE\u001b[0m\n",
      "\u001b[38;21m[INFO] 2024-02-20 15:02:23,976 - Optimizing classifier hyper-parameters\u001b[0m\n"
     ]
    },
    {
     "name": "stdout",
     "output_type": "stream",
     "text": [
      "100%|██████████| 10/10 [00:01<00:00,  9.48trial/s, best loss: -0.3904674774385499]\n"
     ]
    },
    {
     "name": "stderr",
     "output_type": "stream",
     "text": [
      "\u001b[38;21m[INFO] 2024-02-20 15:02:25,034 - Calibrating probabilities\u001b[0m\n",
      "\u001b[38;21m[INFO] 2024-02-20 15:02:25,362 - Test fold mean accuracy: 0.8218218218218218\u001b[0m\n",
      "\u001b[38;21m[INFO] 2024-02-20 15:02:25,362 - Evaluating testing fold #3\u001b[0m\n",
      "\u001b[38;21m[INFO] 2024-02-20 15:02:25,362 - Over-sampling training fold with SMOTE\u001b[0m\n",
      "\u001b[38;21m[INFO] 2024-02-20 15:02:25,400 - Optimizing classifier hyper-parameters\u001b[0m\n"
     ]
    },
    {
     "name": "stdout",
     "output_type": "stream",
     "text": [
      "100%|██████████| 10/10 [00:00<00:00, 12.33trial/s, best loss: -0.38549277232750545]\n"
     ]
    },
    {
     "name": "stderr",
     "output_type": "stream",
     "text": [
      "\u001b[38;21m[INFO] 2024-02-20 15:02:26,213 - Calibrating probabilities\u001b[0m\n",
      "\u001b[38;21m[INFO] 2024-02-20 15:02:26,612 - Test fold mean accuracy: 0.8563563563563563\u001b[0m\n",
      "\u001b[38;21m[INFO] 2024-02-20 15:02:26,613 - Evaluating testing fold #4\u001b[0m\n",
      "\u001b[38;21m[INFO] 2024-02-20 15:02:26,613 - Over-sampling training fold with SMOTE\u001b[0m\n",
      "\u001b[38;21m[INFO] 2024-02-20 15:02:26,651 - Optimizing classifier hyper-parameters\u001b[0m\n"
     ]
    },
    {
     "name": "stdout",
     "output_type": "stream",
     "text": [
      "100%|██████████| 10/10 [00:01<00:00,  8.54trial/s, best loss: -0.41372395833333336]\n"
     ]
    },
    {
     "name": "stderr",
     "output_type": "stream",
     "text": [
      "\u001b[38;21m[INFO] 2024-02-20 15:02:27,826 - Calibrating probabilities\u001b[0m\n",
      "\u001b[38;21m[INFO] 2024-02-20 15:02:28,154 - Test fold mean accuracy: 0.8513513513513513\u001b[0m\n",
      "\u001b[38;21m[INFO] 2024-02-20 15:02:28,154 - Evaluating testing fold #5\u001b[0m\n",
      "\u001b[38;21m[INFO] 2024-02-20 15:02:28,155 - Over-sampling training fold with SMOTE\u001b[0m\n",
      "\u001b[38;21m[INFO] 2024-02-20 15:02:28,193 - Optimizing classifier hyper-parameters\u001b[0m\n"
     ]
    },
    {
     "name": "stdout",
     "output_type": "stream",
     "text": [
      "100%|██████████| 10/10 [00:01<00:00,  9.57trial/s, best loss: -0.3744757738490658]\n"
     ]
    },
    {
     "name": "stderr",
     "output_type": "stream",
     "text": [
      "\u001b[38;21m[INFO] 2024-02-20 15:02:29,240 - Calibrating probabilities\u001b[0m\n",
      "\u001b[38;21m[INFO] 2024-02-20 15:02:29,560 - Test fold mean accuracy: 0.8372558838257386\u001b[0m\n",
      "\u001b[38;21m[INFO] 2024-02-20 15:02:29,560 - Iteration 1/1 completed.\u001b[0m\n",
      "\u001b[38;21m[INFO] 2024-02-20 15:02:29,561 - Mean accuracy on test instances (iteration #1): 0.8389\u001b[0m\n",
      "\u001b[38;21m[INFO] 2024-02-20 15:02:29,562 - Assessing performance of classifier 'svc_rbf'\u001b[0m\n",
      "\u001b[38;21m[INFO] 2024-02-20 15:02:29,563 - Estimating instance performance...\u001b[0m\n",
      "\u001b[38;21m[INFO] 2024-02-20 15:02:29,566 - Evaluating testing fold #1\u001b[0m\n",
      "\u001b[38;21m[INFO] 2024-02-20 15:02:29,566 - Over-sampling training fold with SMOTE\u001b[0m\n",
      "\u001b[38;21m[INFO] 2024-02-20 15:02:29,604 - Optimizing classifier hyper-parameters\u001b[0m\n"
     ]
    },
    {
     "name": "stdout",
     "output_type": "stream",
     "text": [
      " 10%|█         | 1/10 [01:58<17:42, 118.01s/trial, best loss: -0.5050917572833019]\n"
     ]
    },
    {
     "name": "stderr",
     "output_type": "stream",
     "text": [
      "\u001b[38;21m[INFO] 2024-02-20 15:04:27,619 - Calibrating probabilities\u001b[0m\n",
      "\u001b[38;21m[INFO] 2024-02-20 15:07:24,001 - Test fold mean accuracy: 0.7957957957957958\u001b[0m\n",
      "\u001b[38;21m[INFO] 2024-02-20 15:07:24,001 - Evaluating testing fold #2\u001b[0m\n",
      "\u001b[38;21m[INFO] 2024-02-20 15:07:24,002 - Over-sampling training fold with SMOTE\u001b[0m\n",
      "\u001b[38;21m[INFO] 2024-02-20 15:07:24,018 - Optimizing classifier hyper-parameters\u001b[0m\n"
     ]
    },
    {
     "name": "stdout",
     "output_type": "stream",
     "text": [
      " 10%|█         | 1/10 [01:56<17:26, 116.23s/trial, best loss: -0.5038935272440132]\n"
     ]
    },
    {
     "name": "stderr",
     "output_type": "stream",
     "text": [
      "\u001b[38;21m[INFO] 2024-02-20 15:09:20,250 - Calibrating probabilities\u001b[0m\n",
      "\u001b[38;21m[INFO] 2024-02-20 15:12:15,387 - Test fold mean accuracy: 0.8108108108108109\u001b[0m\n",
      "\u001b[38;21m[INFO] 2024-02-20 15:12:15,388 - Evaluating testing fold #3\u001b[0m\n",
      "\u001b[38;21m[INFO] 2024-02-20 15:12:15,390 - Over-sampling training fold with SMOTE\u001b[0m\n",
      "\u001b[38;21m[INFO] 2024-02-20 15:12:15,437 - Optimizing classifier hyper-parameters\u001b[0m\n"
     ]
    },
    {
     "name": "stdout",
     "output_type": "stream",
     "text": [
      " 10%|█         | 1/10 [01:54<17:10, 114.48s/trial, best loss: -0.5059512075671478]\n"
     ]
    },
    {
     "name": "stderr",
     "output_type": "stream",
     "text": [
      "\u001b[38;21m[INFO] 2024-02-20 15:14:09,921 - Calibrating probabilities\u001b[0m\n",
      "\u001b[38;21m[INFO] 2024-02-20 15:17:01,332 - Test fold mean accuracy: 0.8248248248248248\u001b[0m\n",
      "\u001b[38;21m[INFO] 2024-02-20 15:17:01,332 - Evaluating testing fold #4\u001b[0m\n",
      "\u001b[38;21m[INFO] 2024-02-20 15:17:01,332 - Over-sampling training fold with SMOTE\u001b[0m\n",
      "\u001b[38;21m[INFO] 2024-02-20 15:17:01,349 - Optimizing classifier hyper-parameters\u001b[0m\n"
     ]
    },
    {
     "name": "stdout",
     "output_type": "stream",
     "text": [
      " 10%|█         | 1/10 [01:54<17:07, 114.15s/trial, best loss: -0.5161458333333333]\n"
     ]
    },
    {
     "name": "stderr",
     "output_type": "stream",
     "text": [
      "\u001b[38;21m[INFO] 2024-02-20 15:18:55,497 - Calibrating probabilities\u001b[0m\n",
      "\u001b[38;21m[INFO] 2024-02-20 15:21:48,598 - Test fold mean accuracy: 0.8228228228228228\u001b[0m\n",
      "\u001b[38;21m[INFO] 2024-02-20 15:21:48,598 - Evaluating testing fold #5\u001b[0m\n",
      "\u001b[38;21m[INFO] 2024-02-20 15:21:48,599 - Over-sampling training fold with SMOTE\u001b[0m\n",
      "\u001b[38;21m[INFO] 2024-02-20 15:21:48,615 - Optimizing classifier hyper-parameters\u001b[0m\n"
     ]
    },
    {
     "name": "stdout",
     "output_type": "stream",
     "text": [
      " 10%|█         | 1/10 [01:57<17:35, 117.25s/trial, best loss: -0.48063538068042416]\n"
     ]
    },
    {
     "name": "stderr",
     "output_type": "stream",
     "text": [
      "\u001b[38;21m[INFO] 2024-02-20 15:23:45,863 - Calibrating probabilities\u001b[0m\n",
      "\u001b[38;21m[INFO] 2024-02-20 15:26:43,078 - Test fold mean accuracy: 0.8197295943915874\u001b[0m\n",
      "\u001b[38;21m[INFO] 2024-02-20 15:26:43,078 - Iteration 1/1 completed.\u001b[0m\n",
      "\u001b[38;21m[INFO] 2024-02-20 15:26:43,079 - Mean accuracy on test instances (iteration #1): 0.8148\u001b[0m\n",
      "\u001b[38;21m[INFO] 2024-02-20 15:26:43,358 - Feature selection on\u001b[0m\n",
      "\u001b[38;21m[INFO] 2024-02-20 15:26:43,639 - Applying varicance threshold\u001b[0m\n",
      "\u001b[38;21m[INFO] 2024-02-20 15:26:43,641 - Removed features: []\u001b[0m\n",
      "\u001b[38;21m[INFO] 2024-02-20 15:26:43,641 - Applying correlation threshold\u001b[0m\n",
      "\u001b[38;21m[INFO] 2024-02-20 15:26:43,642 - Removed features: ['feature_CLD']\u001b[0m\n",
      "\u001b[38;21m[INFO] 2024-02-20 15:26:43,642 - Applying main filtering method: NCA\u001b[0m\n",
      "\u001b[38;21m[INFO] 2024-02-20 15:27:01,912 - Selected features: ['feature_CL', 'feature_N2', 'feature_TD_U', 'feature_kDN', 'feature_N1', 'feature_TD_P', 'feature_DCP']\u001b[0m\n",
      "\u001b[38;21m[INFO] 2024-02-20 15:27:02,055 - Running Instance Space Analysis with 'python' engine.\u001b[0m\n",
      "\u001b[38;21m[INFO] 2024-02-20 15:27:02,056 - Adding gaussian noise to the metadata for numerical stability.\u001b[0m\n",
      "\u001b[38;21m[INFO] 2024-02-20 15:27:02,063 - Calculating the binary measure of performance\u001b[0m\n",
      "\u001b[38;21m[INFO] 2024-02-20 15:27:02,065 - An algorithm is good if its performace is less than 0.9683\u001b[0m\n",
      "\u001b[38;21m[INFO] 2024-02-20 15:27:02,066 - For 0.0% of the instances there is more than one best algorithm. Random selection is used to break ties.\u001b[0m\n",
      "\u001b[38;21m[INFO] 2024-02-20 15:27:02,066 - Auto pre-processing.\u001b[0m\n",
      "\u001b[38;21m[INFO] 2024-02-20 15:27:02,066 - Removing extreme outliers from the feature values.\u001b[0m\n",
      "\u001b[38;21m[INFO] 2024-02-20 15:27:02,070 - Auto-normalizing the data using Box-Cox and Z transformations.\u001b[0m\n",
      "\u001b[38;21m[INFO] 2024-02-20 15:27:02,258 - Calling PILOT to find the optimal projection.\u001b[0m\n",
      "\u001b[38;21m[INFO] 2024-02-20 15:27:02,259 - PILOT is solving numerically the projection problem.\u001b[0m\n",
      "\u001b[38;21m[INFO] 2024-02-20 15:27:07,703 - PILOT has completed trial 1\u001b[0m\n",
      "\u001b[38;21m[INFO] 2024-02-20 15:27:11,471 - PILOT has completed trial 2\u001b[0m\n",
      "\u001b[38;21m[INFO] 2024-02-20 15:27:16,786 - PILOT has completed trial 3\u001b[0m\n",
      "\u001b[38;21m[INFO] 2024-02-20 15:27:21,290 - PILOT has completed trial 4\u001b[0m\n",
      "\u001b[38;21m[INFO] 2024-02-20 15:27:24,510 - PILOT has completed trial 5\u001b[0m\n",
      "\u001b[38;21m[INFO] 2024-02-20 15:27:24,513 - PILOT has completed.\u001b[0m\n",
      "\u001b[38;21m[INFO] 2024-02-20 15:27:24,660 - Adjusting the IS rotation.\u001b[0m\n",
      "\u001b[38;21m[INFO] 2024-02-20 15:27:24,661 - The space was rotated by 127.5 degrees.\u001b[0m\n",
      "\u001b[38;21m[INFO] 2024-02-20 15:27:24,661 - Calling TRACE to perform the footprint analysis.\u001b[0m\n",
      "\u001b[38;21m[INFO] 2024-02-20 15:27:24,661 - TRACE is calculating the space area and density.\u001b[0m\n",
      "\u001b[38;21m[INFO] 2024-02-20 15:27:26,874 - TRACE is calculating the algorithm footprints.\u001b[0m\n",
      "\u001b[33;21m[WARNING] 2024-02-20 15:27:26,874 - Some log messages are temporarily disabled in parallel mode. This functionality will be added in future versions\u001b[0m\n",
      "\u001b[38;21m[INFO] 2024-02-20 15:27:26,874 - Calculating footprints...\u001b[0m\n",
      "\u001b[38;21m[INFO] 2024-02-20 15:27:43,596 - TRACE is detecting and removing contradictory sections of the footprints.\u001b[0m\n",
      "\u001b[38;21m[INFO] 2024-02-20 15:27:46,156 - TRACE is calculating the beta-footprint.\u001b[0m\n",
      "\u001b[38;21m[INFO] 2024-02-20 15:27:46,863 - TRACE is preparing the summary table.\u001b[0m\n",
      "\u001b[38;21m[INFO] 2024-02-20 15:27:46,864 - TRACE has completed.\u001b[0m\n",
      "\u001b[38;21m[INFO] 2024-02-20 15:27:46,865 - Calculating instance easiness footprint area\u001b[0m\n",
      "\u001b[38;21m[INFO] 2024-02-20 15:27:46,865 - An instance is easy if its IH-value <= 0.4\u001b[0m\n",
      "\u001b[38;21m[INFO] 2024-02-20 15:27:48,965 - Total elapsed time: 1h19m10s\u001b[0m\n",
      "\u001b[38;21m[INFO] 2024-02-20 15:27:48,965 - Instance Hardness analysis finished.\u001b[0m\n",
      "\u001b[38;21m[INFO] 2024-02-20 15:27:56,602 - Configuration file: '/home/gabrielscn/meta-active-learning/pyhard/1535/config.yaml'\u001b[0m\n",
      "\u001b[38;21m[INFO] 2024-02-20 15:27:56,607 - Reading input dataset: '/home/gabrielscn/meta-active-learning/datasets/1535.csv'\u001b[0m\n",
      "\u001b[38;21m[INFO] 2024-02-20 15:27:56,616 - Type of problem: 'classification'\u001b[0m\n",
      "\u001b[33;21m[WARNING] 2024-02-20 15:27:56,619 - Classes are unbalanced (imbalance ratio > 1.5). This may change the way the results are interpreted.\u001b[0m\n",
      "\u001b[38;21m[INFO] 2024-02-20 15:27:56,619 - Seed=0\u001b[0m\n",
      "\u001b[38;21m[INFO] 2024-02-20 15:27:56,619 - Building metadata.\u001b[0m\n",
      "\u001b[38;21m[INFO] 2024-02-20 15:28:16,574 - Calculating measure 'CL'\u001b[0m\n",
      "\u001b[38;21m[INFO] 2024-02-20 15:28:16,586 - Calculating measure 'CLD'\u001b[0m\n",
      "\u001b[38;21m[INFO] 2024-02-20 15:28:16,595 - Calculating measure 'DCP'\u001b[0m\n",
      "\u001b[38;21m[INFO] 2024-02-20 15:28:27,218 - Calculating measure 'F1'\u001b[0m\n",
      "\u001b[38;21m[INFO] 2024-02-20 15:28:27,250 - Calculating measure 'Harmfulness'\u001b[0m\n",
      "\u001b[38;21m[INFO] 2024-02-20 15:28:27,829 - Calculating measure 'LSC'\u001b[0m\n",
      "\u001b[38;21m[INFO] 2024-02-20 15:28:36,307 - Calculating measure 'LSR'\u001b[0m\n",
      "\u001b[38;21m[INFO] 2024-02-20 15:28:44,678 - Calculating measure 'N1'\u001b[0m\n",
      "\u001b[38;21m[INFO] 2024-02-20 15:29:15,758 - Calculating measure 'N2'\u001b[0m\n",
      "\u001b[38;21m[INFO] 2024-02-20 15:29:29,777 - Calculating measure 'TD_P'\u001b[0m\n",
      "\u001b[38;21m[INFO] 2024-02-20 15:29:31,910 - Calculating measure 'TD_U'\u001b[0m\n",
      "\u001b[38;21m[INFO] 2024-02-20 15:29:34,059 - Calculating measure 'Usefulness'\u001b[0m\n",
      "\u001b[38;21m[INFO] 2024-02-20 15:29:34,597 - Calculating measure 'kDN'\u001b[0m\n",
      "\u001b[38;21m[INFO] 2024-02-20 15:29:37,819 - Hyper parameter optimization enabled\u001b[0m\n",
      "\u001b[38;21m[INFO] 2024-02-20 15:29:37,820 - Assessing performance of classifier 'bagging'\u001b[0m\n",
      "\u001b[38;21m[INFO] 2024-02-20 15:29:37,821 - Estimating instance performance...\u001b[0m\n",
      "\u001b[38;21m[INFO] 2024-02-20 15:29:37,823 - Evaluating testing fold #1\u001b[0m\n",
      "\u001b[38;21m[INFO] 2024-02-20 15:29:37,823 - Over-sampling training fold with SMOTE\u001b[0m\n",
      "\u001b[38;21m[INFO] 2024-02-20 15:29:37,840 - Optimizing classifier hyper-parameters\u001b[0m\n"
     ]
    },
    {
     "name": "stdout",
     "output_type": "stream",
     "text": [
      "100%|██████████| 10/10 [00:31<00:00,  3.18s/trial, best loss: -0.9285322069072316]\n"
     ]
    },
    {
     "name": "stderr",
     "output_type": "stream",
     "text": [
      "\u001b[38;21m[INFO] 2024-02-20 15:30:09,613 - Calibrating probabilities\u001b[0m\n",
      "\u001b[38;21m[INFO] 2024-02-20 15:30:13,978 - Test fold mean accuracy: 0.8323323323323323\u001b[0m\n",
      "\u001b[38;21m[INFO] 2024-02-20 15:30:13,979 - Evaluating testing fold #2\u001b[0m\n",
      "\u001b[38;21m[INFO] 2024-02-20 15:30:13,980 - Over-sampling training fold with SMOTE\u001b[0m\n",
      "\u001b[38;21m[INFO] 2024-02-20 15:30:14,001 - Optimizing classifier hyper-parameters\u001b[0m\n"
     ]
    },
    {
     "name": "stdout",
     "output_type": "stream",
     "text": [
      "100%|██████████| 10/10 [00:31<00:00,  3.17s/trial, best loss: -0.9344965645289193]\n"
     ]
    },
    {
     "name": "stderr",
     "output_type": "stream",
     "text": [
      "\u001b[38;21m[INFO] 2024-02-20 15:30:45,738 - Calibrating probabilities\u001b[0m\n",
      "\u001b[38;21m[INFO] 2024-02-20 15:30:52,144 - Test fold mean accuracy: 0.8433433433433434\u001b[0m\n",
      "\u001b[38;21m[INFO] 2024-02-20 15:30:52,145 - Evaluating testing fold #3\u001b[0m\n",
      "\u001b[38;21m[INFO] 2024-02-20 15:30:52,146 - Over-sampling training fold with SMOTE\u001b[0m\n",
      "\u001b[38;21m[INFO] 2024-02-20 15:30:52,177 - Optimizing classifier hyper-parameters\u001b[0m\n"
     ]
    },
    {
     "name": "stdout",
     "output_type": "stream",
     "text": [
      "100%|██████████| 10/10 [00:31<00:00,  3.14s/trial, best loss: -0.9335328987401071]\n"
     ]
    },
    {
     "name": "stderr",
     "output_type": "stream",
     "text": [
      "\u001b[38;21m[INFO] 2024-02-20 15:31:23,572 - Calibrating probabilities\u001b[0m\n",
      "\u001b[38;21m[INFO] 2024-02-20 15:31:29,143 - Test fold mean accuracy: 0.8508508508508509\u001b[0m\n",
      "\u001b[38;21m[INFO] 2024-02-20 15:31:29,144 - Evaluating testing fold #4\u001b[0m\n",
      "\u001b[38;21m[INFO] 2024-02-20 15:31:29,145 - Over-sampling training fold with SMOTE\u001b[0m\n",
      "\u001b[38;21m[INFO] 2024-02-20 15:31:29,164 - Optimizing classifier hyper-parameters\u001b[0m\n"
     ]
    },
    {
     "name": "stdout",
     "output_type": "stream",
     "text": [
      "100%|██████████| 10/10 [00:32<00:00,  3.24s/trial, best loss: -0.9306770833333333]\n"
     ]
    },
    {
     "name": "stderr",
     "output_type": "stream",
     "text": [
      "\u001b[38;21m[INFO] 2024-02-20 15:32:01,527 - Calibrating probabilities\u001b[0m\n",
      "\u001b[38;21m[INFO] 2024-02-20 15:32:08,027 - Test fold mean accuracy: 0.8688688688688688\u001b[0m\n",
      "\u001b[38;21m[INFO] 2024-02-20 15:32:08,028 - Evaluating testing fold #5\u001b[0m\n",
      "\u001b[38;21m[INFO] 2024-02-20 15:32:08,028 - Over-sampling training fold with SMOTE\u001b[0m\n",
      "\u001b[38;21m[INFO] 2024-02-20 15:32:08,046 - Optimizing classifier hyper-parameters\u001b[0m\n"
     ]
    },
    {
     "name": "stdout",
     "output_type": "stream",
     "text": [
      "100%|██████████| 10/10 [00:30<00:00,  3.10s/trial, best loss: -0.9278550645676834]\n"
     ]
    },
    {
     "name": "stderr",
     "output_type": "stream",
     "text": [
      "\u001b[38;21m[INFO] 2024-02-20 15:32:39,045 - Calibrating probabilities\u001b[0m\n",
      "\u001b[38;21m[INFO] 2024-02-20 15:32:44,305 - Test fold mean accuracy: 0.8327491236855283\u001b[0m\n",
      "\u001b[38;21m[INFO] 2024-02-20 15:32:44,305 - Iteration 1/1 completed.\u001b[0m\n",
      "\u001b[38;21m[INFO] 2024-02-20 15:32:44,305 - Mean accuracy on test instances (iteration #1): 0.8456\u001b[0m\n",
      "\u001b[38;21m[INFO] 2024-02-20 15:32:44,308 - Assessing performance of classifier 'gradient_boosting'\u001b[0m\n",
      "\u001b[38;21m[INFO] 2024-02-20 15:32:44,310 - Estimating instance performance...\u001b[0m\n",
      "\u001b[38;21m[INFO] 2024-02-20 15:32:44,312 - Evaluating testing fold #1\u001b[0m\n",
      "\u001b[38;21m[INFO] 2024-02-20 15:32:44,312 - Over-sampling training fold with SMOTE\u001b[0m\n",
      "\u001b[38;21m[INFO] 2024-02-20 15:32:44,333 - Optimizing classifier hyper-parameters\u001b[0m\n"
     ]
    },
    {
     "name": "stdout",
     "output_type": "stream",
     "text": [
      " 10%|█         | 1/10 [02:32<22:49, 152.15s/trial, best loss: -0.5977600267914353]\n"
     ]
    },
    {
     "name": "stderr",
     "output_type": "stream",
     "text": [
      "\u001b[38;21m[INFO] 2024-02-20 15:35:16,488 - Calibrating probabilities\u001b[0m\n",
      "\u001b[38;21m[INFO] 2024-02-20 15:39:05,386 - Test fold mean accuracy: 0.7572572572572572\u001b[0m\n",
      "\u001b[38;21m[INFO] 2024-02-20 15:39:05,386 - Evaluating testing fold #2\u001b[0m\n",
      "\u001b[38;21m[INFO] 2024-02-20 15:39:05,386 - Over-sampling training fold with SMOTE\u001b[0m\n",
      "\u001b[38;21m[INFO] 2024-02-20 15:39:05,405 - Optimizing classifier hyper-parameters\u001b[0m\n"
     ]
    },
    {
     "name": "stdout",
     "output_type": "stream",
     "text": [
      " 10%|█         | 1/10 [02:28<22:19, 148.83s/trial, best loss: -0.6104178150833958]\n"
     ]
    },
    {
     "name": "stderr",
     "output_type": "stream",
     "text": [
      "\u001b[38;21m[INFO] 2024-02-20 15:41:34,235 - Calibrating probabilities\u001b[0m\n",
      "\u001b[38;21m[INFO] 2024-02-20 15:45:23,422 - Test fold mean accuracy: 0.7737737737737738\u001b[0m\n",
      "\u001b[38;21m[INFO] 2024-02-20 15:45:23,422 - Evaluating testing fold #3\u001b[0m\n",
      "\u001b[38;21m[INFO] 2024-02-20 15:45:23,423 - Over-sampling training fold with SMOTE\u001b[0m\n",
      "\u001b[38;21m[INFO] 2024-02-20 15:45:23,444 - Optimizing classifier hyper-parameters\u001b[0m\n"
     ]
    },
    {
     "name": "stdout",
     "output_type": "stream",
     "text": [
      " 10%|█         | 1/10 [02:29<22:22, 149.15s/trial, best loss: -0.6177366934421068]\n"
     ]
    },
    {
     "name": "stderr",
     "output_type": "stream",
     "text": [
      "\u001b[38;21m[INFO] 2024-02-20 15:47:52,601 - Calibrating probabilities\u001b[0m\n",
      "\u001b[38;21m[INFO] 2024-02-20 15:51:42,026 - Test fold mean accuracy: 0.7747747747747747\u001b[0m\n",
      "\u001b[38;21m[INFO] 2024-02-20 15:51:42,026 - Evaluating testing fold #4\u001b[0m\n",
      "\u001b[38;21m[INFO] 2024-02-20 15:51:42,026 - Over-sampling training fold with SMOTE\u001b[0m\n",
      "\u001b[38;21m[INFO] 2024-02-20 15:51:42,046 - Optimizing classifier hyper-parameters\u001b[0m\n"
     ]
    },
    {
     "name": "stdout",
     "output_type": "stream",
     "text": [
      " 10%|█         | 1/10 [02:29<22:23, 149.26s/trial, best loss: -0.610703125]\n"
     ]
    },
    {
     "name": "stderr",
     "output_type": "stream",
     "text": [
      "\u001b[38;21m[INFO] 2024-02-20 15:54:11,305 - Calibrating probabilities\u001b[0m\n",
      "\u001b[38;21m[INFO] 2024-02-20 15:58:00,379 - Test fold mean accuracy: 0.7912912912912913\u001b[0m\n",
      "\u001b[38;21m[INFO] 2024-02-20 15:58:00,380 - Evaluating testing fold #5\u001b[0m\n",
      "\u001b[38;21m[INFO] 2024-02-20 15:58:00,380 - Over-sampling training fold with SMOTE\u001b[0m\n",
      "\u001b[38;21m[INFO] 2024-02-20 15:58:00,400 - Optimizing classifier hyper-parameters\u001b[0m\n"
     ]
    },
    {
     "name": "stdout",
     "output_type": "stream",
     "text": [
      " 10%|█         | 1/10 [02:31<22:39, 151.02s/trial, best loss: -0.6240390392111875]\n"
     ]
    },
    {
     "name": "stderr",
     "output_type": "stream",
     "text": [
      "\u001b[38;21m[INFO] 2024-02-20 16:00:31,423 - Calibrating probabilities\u001b[0m\n",
      "\u001b[38;21m[INFO] 2024-02-20 16:04:23,533 - Test fold mean accuracy: 0.7656484727090636\u001b[0m\n",
      "\u001b[38;21m[INFO] 2024-02-20 16:04:23,533 - Iteration 1/1 completed.\u001b[0m\n",
      "\u001b[38;21m[INFO] 2024-02-20 16:04:23,534 - Mean accuracy on test instances (iteration #1): 0.7725\u001b[0m\n",
      "\u001b[38;21m[INFO] 2024-02-20 16:04:23,536 - Assessing performance of classifier 'logistic_regression'\u001b[0m\n",
      "\u001b[38;21m[INFO] 2024-02-20 16:04:23,537 - Estimating instance performance...\u001b[0m\n",
      "\u001b[38;21m[INFO] 2024-02-20 16:04:23,539 - Evaluating testing fold #1\u001b[0m\n",
      "\u001b[38;21m[INFO] 2024-02-20 16:04:23,539 - Over-sampling training fold with SMOTE\u001b[0m\n",
      "\u001b[38;21m[INFO] 2024-02-20 16:04:23,559 - Optimizing classifier hyper-parameters\u001b[0m\n"
     ]
    },
    {
     "name": "stdout",
     "output_type": "stream",
     "text": [
      "100%|██████████| 10/10 [00:01<00:00,  6.25trial/s, best loss: -0.40049468909752584]\n"
     ]
    },
    {
     "name": "stderr",
     "output_type": "stream",
     "text": [
      "\u001b[38;21m[INFO] 2024-02-20 16:04:25,160 - Calibrating probabilities\u001b[0m\n",
      "\u001b[38;21m[INFO] 2024-02-20 16:04:25,557 - Test fold mean accuracy: 0.8408408408408409\u001b[0m\n",
      "\u001b[38;21m[INFO] 2024-02-20 16:04:25,557 - Evaluating testing fold #2\u001b[0m\n",
      "\u001b[38;21m[INFO] 2024-02-20 16:04:25,558 - Over-sampling training fold with SMOTE\u001b[0m\n",
      "\u001b[38;21m[INFO] 2024-02-20 16:04:25,576 - Optimizing classifier hyper-parameters\u001b[0m\n"
     ]
    },
    {
     "name": "stdout",
     "output_type": "stream",
     "text": [
      "100%|██████████| 10/10 [00:01<00:00,  5.72trial/s, best loss: -0.4097668043564067]\n"
     ]
    },
    {
     "name": "stderr",
     "output_type": "stream",
     "text": [
      "\u001b[38;21m[INFO] 2024-02-20 16:04:27,326 - Calibrating probabilities\u001b[0m\n",
      "\u001b[38;21m[INFO] 2024-02-20 16:04:27,806 - Test fold mean accuracy: 0.8408408408408409\u001b[0m\n",
      "\u001b[38;21m[INFO] 2024-02-20 16:04:27,806 - Evaluating testing fold #3\u001b[0m\n",
      "\u001b[38;21m[INFO] 2024-02-20 16:04:27,806 - Over-sampling training fold with SMOTE\u001b[0m\n",
      "\u001b[38;21m[INFO] 2024-02-20 16:04:27,839 - Optimizing classifier hyper-parameters\u001b[0m\n"
     ]
    },
    {
     "name": "stdout",
     "output_type": "stream",
     "text": [
      "100%|██████████| 10/10 [00:01<00:00,  5.83trial/s, best loss: -0.4072923922522646]\n"
     ]
    },
    {
     "name": "stderr",
     "output_type": "stream",
     "text": [
      "\u001b[38;21m[INFO] 2024-02-20 16:04:29,556 - Calibrating probabilities\u001b[0m\n",
      "\u001b[38;21m[INFO] 2024-02-20 16:04:30,042 - Test fold mean accuracy: 0.8718718718718719\u001b[0m\n",
      "\u001b[38;21m[INFO] 2024-02-20 16:04:30,042 - Evaluating testing fold #4\u001b[0m\n",
      "\u001b[38;21m[INFO] 2024-02-20 16:04:30,043 - Over-sampling training fold with SMOTE\u001b[0m\n",
      "\u001b[38;21m[INFO] 2024-02-20 16:04:30,078 - Optimizing classifier hyper-parameters\u001b[0m\n"
     ]
    },
    {
     "name": "stdout",
     "output_type": "stream",
     "text": [
      "100%|██████████| 10/10 [00:01<00:00,  5.84trial/s, best loss: -0.4378645833333334]\n"
     ]
    },
    {
     "name": "stderr",
     "output_type": "stream",
     "text": [
      "\u001b[38;21m[INFO] 2024-02-20 16:04:31,792 - Calibrating probabilities\u001b[0m\n",
      "\u001b[38;21m[INFO] 2024-02-20 16:04:32,150 - Test fold mean accuracy: 0.8588588588588588\u001b[0m\n",
      "\u001b[38;21m[INFO] 2024-02-20 16:04:32,151 - Evaluating testing fold #5\u001b[0m\n",
      "\u001b[38;21m[INFO] 2024-02-20 16:04:32,151 - Over-sampling training fold with SMOTE\u001b[0m\n",
      "\u001b[38;21m[INFO] 2024-02-20 16:04:32,170 - Optimizing classifier hyper-parameters\u001b[0m\n"
     ]
    },
    {
     "name": "stdout",
     "output_type": "stream",
     "text": [
      "100%|██████████| 10/10 [00:01<00:00,  5.47trial/s, best loss: -0.3822630704999657]\n"
     ]
    },
    {
     "name": "stderr",
     "output_type": "stream",
     "text": [
      "\u001b[38;21m[INFO] 2024-02-20 16:04:34,002 - Calibrating probabilities\u001b[0m\n",
      "\u001b[38;21m[INFO] 2024-02-20 16:04:34,421 - Test fold mean accuracy: 0.8392588883324987\u001b[0m\n",
      "\u001b[38;21m[INFO] 2024-02-20 16:04:34,422 - Iteration 1/1 completed.\u001b[0m\n",
      "\u001b[38;21m[INFO] 2024-02-20 16:04:34,422 - Mean accuracy on test instances (iteration #1): 0.8503\u001b[0m\n",
      "\u001b[38;21m[INFO] 2024-02-20 16:04:34,423 - Assessing performance of classifier 'mlp'\u001b[0m\n",
      "\u001b[38;21m[INFO] 2024-02-20 16:04:34,425 - Estimating instance performance...\u001b[0m\n",
      "\u001b[38;21m[INFO] 2024-02-20 16:04:34,427 - Evaluating testing fold #1\u001b[0m\n",
      "\u001b[38;21m[INFO] 2024-02-20 16:04:34,427 - Over-sampling training fold with SMOTE\u001b[0m\n",
      "\u001b[38;21m[INFO] 2024-02-20 16:04:34,447 - Optimizing classifier hyper-parameters\u001b[0m\n"
     ]
    },
    {
     "name": "stdout",
     "output_type": "stream",
     "text": [
      " 20%|██        | 2/10 [01:50<07:23, 55.48s/trial, best loss: -0.7533011612426109]\n"
     ]
    },
    {
     "name": "stderr",
     "output_type": "stream",
     "text": [
      "\u001b[38;21m[INFO] 2024-02-20 16:06:25,406 - Calibrating probabilities\u001b[0m\n",
      "\u001b[38;21m[INFO] 2024-02-20 16:07:52,334 - Test fold mean accuracy: 0.6981981981981982\u001b[0m\n",
      "\u001b[38;21m[INFO] 2024-02-20 16:07:52,335 - Evaluating testing fold #2\u001b[0m\n",
      "\u001b[38;21m[INFO] 2024-02-20 16:07:52,335 - Over-sampling training fold with SMOTE\u001b[0m\n",
      "\u001b[38;21m[INFO] 2024-02-20 16:07:52,371 - Optimizing classifier hyper-parameters\u001b[0m\n"
     ]
    },
    {
     "name": "stdout",
     "output_type": "stream",
     "text": [
      " 20%|██        | 2/10 [01:34<06:16, 47.01s/trial, best loss: -0.7722881652077289]\n"
     ]
    },
    {
     "name": "stderr",
     "output_type": "stream",
     "text": [
      "\u001b[38;21m[INFO] 2024-02-20 16:09:26,404 - Calibrating probabilities\u001b[0m\n",
      "\u001b[38;21m[INFO] 2024-02-20 16:10:39,193 - Test fold mean accuracy: 0.7242242242242243\u001b[0m\n",
      "\u001b[38;21m[INFO] 2024-02-20 16:10:39,194 - Evaluating testing fold #3\u001b[0m\n",
      "\u001b[38;21m[INFO] 2024-02-20 16:10:39,195 - Over-sampling training fold with SMOTE\u001b[0m\n",
      "\u001b[38;21m[INFO] 2024-02-20 16:10:39,236 - Optimizing classifier hyper-parameters\u001b[0m\n"
     ]
    },
    {
     "name": "stdout",
     "output_type": "stream",
     "text": [
      " 20%|██        | 2/10 [01:36<06:24, 48.06s/trial, best loss: -0.7733557921287404]\n"
     ]
    },
    {
     "name": "stderr",
     "output_type": "stream",
     "text": [
      "\u001b[38;21m[INFO] 2024-02-20 16:12:15,361 - Calibrating probabilities\u001b[0m\n",
      "\u001b[38;21m[INFO] 2024-02-20 16:13:31,025 - Test fold mean accuracy: 0.7517517517517518\u001b[0m\n",
      "\u001b[38;21m[INFO] 2024-02-20 16:13:31,026 - Evaluating testing fold #4\u001b[0m\n",
      "\u001b[38;21m[INFO] 2024-02-20 16:13:31,027 - Over-sampling training fold with SMOTE\u001b[0m\n",
      "\u001b[38;21m[INFO] 2024-02-20 16:13:31,067 - Optimizing classifier hyper-parameters\u001b[0m\n"
     ]
    },
    {
     "name": "stdout",
     "output_type": "stream",
     "text": [
      " 20%|██        | 2/10 [01:36<06:27, 48.39s/trial, best loss: -0.7550520833333333]\n"
     ]
    },
    {
     "name": "stderr",
     "output_type": "stream",
     "text": [
      "\u001b[38;21m[INFO] 2024-02-20 16:15:07,865 - Calibrating probabilities\u001b[0m\n",
      "\u001b[38;21m[INFO] 2024-02-20 16:16:22,825 - Test fold mean accuracy: 0.7602602602602603\u001b[0m\n",
      "\u001b[38;21m[INFO] 2024-02-20 16:16:22,825 - Evaluating testing fold #5\u001b[0m\n",
      "\u001b[38;21m[INFO] 2024-02-20 16:16:22,826 - Over-sampling training fold with SMOTE\u001b[0m\n",
      "\u001b[38;21m[INFO] 2024-02-20 16:16:22,868 - Optimizing classifier hyper-parameters\u001b[0m\n"
     ]
    },
    {
     "name": "stdout",
     "output_type": "stream",
     "text": [
      " 20%|██        | 2/10 [01:33<06:14, 46.79s/trial, best loss: -0.7535877783010531]\n"
     ]
    },
    {
     "name": "stderr",
     "output_type": "stream",
     "text": [
      "\u001b[38;21m[INFO] 2024-02-20 16:17:56,457 - Calibrating probabilities\u001b[0m\n",
      "\u001b[38;21m[INFO] 2024-02-20 16:19:11,003 - Test fold mean accuracy: 0.6975463194792189\u001b[0m\n",
      "\u001b[38;21m[INFO] 2024-02-20 16:19:11,003 - Iteration 1/1 completed.\u001b[0m\n",
      "\u001b[38;21m[INFO] 2024-02-20 16:19:11,004 - Mean accuracy on test instances (iteration #1): 0.7264\u001b[0m\n",
      "\u001b[38;21m[INFO] 2024-02-20 16:19:11,005 - Assessing performance of classifier 'random_forest'\u001b[0m\n",
      "\u001b[38;21m[INFO] 2024-02-20 16:19:11,008 - Estimating instance performance...\u001b[0m\n",
      "\u001b[38;21m[INFO] 2024-02-20 16:19:11,010 - Evaluating testing fold #1\u001b[0m\n",
      "\u001b[38;21m[INFO] 2024-02-20 16:19:11,011 - Over-sampling training fold with SMOTE\u001b[0m\n",
      "\u001b[38;21m[INFO] 2024-02-20 16:19:11,051 - Optimizing classifier hyper-parameters\u001b[0m\n"
     ]
    },
    {
     "name": "stdout",
     "output_type": "stream",
     "text": [
      "100%|██████████| 10/10 [00:20<00:00,  2.08s/trial, best loss: -0.9287926378155936]\n"
     ]
    },
    {
     "name": "stderr",
     "output_type": "stream",
     "text": [
      "\u001b[38;21m[INFO] 2024-02-20 16:19:31,886 - Calibrating probabilities\u001b[0m\n",
      "\u001b[38;21m[INFO] 2024-02-20 16:19:35,895 - Test fold mean accuracy: 0.8343343343343343\u001b[0m\n",
      "\u001b[38;21m[INFO] 2024-02-20 16:19:35,895 - Evaluating testing fold #2\u001b[0m\n",
      "\u001b[38;21m[INFO] 2024-02-20 16:19:35,896 - Over-sampling training fold with SMOTE\u001b[0m\n",
      "\u001b[38;21m[INFO] 2024-02-20 16:19:35,935 - Optimizing classifier hyper-parameters\u001b[0m\n"
     ]
    },
    {
     "name": "stdout",
     "output_type": "stream",
     "text": [
      "100%|██████████| 10/10 [00:21<00:00,  2.14s/trial, best loss: -0.934183991273378]\n"
     ]
    },
    {
     "name": "stderr",
     "output_type": "stream",
     "text": [
      "\u001b[38;21m[INFO] 2024-02-20 16:19:57,313 - Calibrating probabilities\u001b[0m\n",
      "\u001b[38;21m[INFO] 2024-02-20 16:20:01,640 - Test fold mean accuracy: 0.8483483483483484\u001b[0m\n",
      "\u001b[38;21m[INFO] 2024-02-20 16:20:01,641 - Evaluating testing fold #3\u001b[0m\n",
      "\u001b[38;21m[INFO] 2024-02-20 16:20:01,641 - Over-sampling training fold with SMOTE\u001b[0m\n",
      "\u001b[38;21m[INFO] 2024-02-20 16:20:01,681 - Optimizing classifier hyper-parameters\u001b[0m\n"
     ]
    },
    {
     "name": "stdout",
     "output_type": "stream",
     "text": [
      "100%|██████████| 10/10 [00:20<00:00,  2.09s/trial, best loss: -0.934157990306672]\n"
     ]
    },
    {
     "name": "stderr",
     "output_type": "stream",
     "text": [
      "\u001b[38;21m[INFO] 2024-02-20 16:20:22,619 - Calibrating probabilities\u001b[0m\n",
      "\u001b[38;21m[INFO] 2024-02-20 16:20:27,548 - Test fold mean accuracy: 0.8553553553553553\u001b[0m\n",
      "\u001b[38;21m[INFO] 2024-02-20 16:20:27,549 - Evaluating testing fold #4\u001b[0m\n",
      "\u001b[38;21m[INFO] 2024-02-20 16:20:27,549 - Over-sampling training fold with SMOTE\u001b[0m\n",
      "\u001b[38;21m[INFO] 2024-02-20 16:20:27,570 - Optimizing classifier hyper-parameters\u001b[0m\n"
     ]
    },
    {
     "name": "stdout",
     "output_type": "stream",
     "text": [
      "100%|██████████| 10/10 [00:20<00:00,  2.09s/trial, best loss: -0.9315885416666667]\n"
     ]
    },
    {
     "name": "stderr",
     "output_type": "stream",
     "text": [
      "\u001b[38;21m[INFO] 2024-02-20 16:20:48,491 - Calibrating probabilities\u001b[0m\n",
      "\u001b[38;21m[INFO] 2024-02-20 16:20:52,845 - Test fold mean accuracy: 0.8763763763763763\u001b[0m\n",
      "\u001b[38;21m[INFO] 2024-02-20 16:20:52,846 - Evaluating testing fold #5\u001b[0m\n",
      "\u001b[38;21m[INFO] 2024-02-20 16:20:52,847 - Over-sampling training fold with SMOTE\u001b[0m\n",
      "\u001b[38;21m[INFO] 2024-02-20 16:20:52,870 - Optimizing classifier hyper-parameters\u001b[0m\n"
     ]
    },
    {
     "name": "stdout",
     "output_type": "stream",
     "text": [
      "100%|██████████| 10/10 [00:22<00:00,  2.21s/trial, best loss: -0.9290270718272137]\n"
     ]
    },
    {
     "name": "stderr",
     "output_type": "stream",
     "text": [
      "\u001b[38;21m[INFO] 2024-02-20 16:21:14,929 - Calibrating probabilities\u001b[0m\n",
      "\u001b[38;21m[INFO] 2024-02-20 16:21:19,937 - Test fold mean accuracy: 0.8347521281922884\u001b[0m\n",
      "\u001b[38;21m[INFO] 2024-02-20 16:21:19,938 - Iteration 1/1 completed.\u001b[0m\n",
      "\u001b[38;21m[INFO] 2024-02-20 16:21:19,938 - Mean accuracy on test instances (iteration #1): 0.8498\u001b[0m\n",
      "\u001b[38;21m[INFO] 2024-02-20 16:21:19,941 - Assessing performance of classifier 'svc_linear'\u001b[0m\n",
      "\u001b[38;21m[INFO] 2024-02-20 16:21:19,942 - Estimating instance performance...\u001b[0m\n",
      "\u001b[38;21m[INFO] 2024-02-20 16:21:19,945 - Evaluating testing fold #1\u001b[0m\n",
      "\u001b[38;21m[INFO] 2024-02-20 16:21:19,945 - Over-sampling training fold with SMOTE\u001b[0m\n",
      "\u001b[38;21m[INFO] 2024-02-20 16:21:19,969 - Optimizing classifier hyper-parameters\u001b[0m\n"
     ]
    },
    {
     "name": "stdout",
     "output_type": "stream",
     "text": [
      "100%|██████████| 10/10 [00:00<00:00, 10.84trial/s, best loss: -0.38114320355263276]\n"
     ]
    },
    {
     "name": "stderr",
     "output_type": "stream",
     "text": [
      "\u001b[38;21m[INFO] 2024-02-20 16:21:20,893 - Calibrating probabilities\u001b[0m\n",
      "\u001b[38;21m[INFO] 2024-02-20 16:21:21,287 - Test fold mean accuracy: 0.8288288288288288\u001b[0m\n",
      "\u001b[38;21m[INFO] 2024-02-20 16:21:21,288 - Evaluating testing fold #2\u001b[0m\n",
      "\u001b[38;21m[INFO] 2024-02-20 16:21:21,288 - Over-sampling training fold with SMOTE\u001b[0m\n",
      "\u001b[38;21m[INFO] 2024-02-20 16:21:21,327 - Optimizing classifier hyper-parameters\u001b[0m\n"
     ]
    },
    {
     "name": "stdout",
     "output_type": "stream",
     "text": [
      "100%|██████████| 10/10 [00:01<00:00,  9.23trial/s, best loss: -0.3917697133796449]\n"
     ]
    },
    {
     "name": "stderr",
     "output_type": "stream",
     "text": [
      "\u001b[38;21m[INFO] 2024-02-20 16:21:22,414 - Calibrating probabilities\u001b[0m\n",
      "\u001b[38;21m[INFO] 2024-02-20 16:21:22,872 - Test fold mean accuracy: 0.8198198198198198\u001b[0m\n",
      "\u001b[38;21m[INFO] 2024-02-20 16:21:22,873 - Evaluating testing fold #3\u001b[0m\n",
      "\u001b[38;21m[INFO] 2024-02-20 16:21:22,873 - Over-sampling training fold with SMOTE\u001b[0m\n",
      "\u001b[38;21m[INFO] 2024-02-20 16:21:22,912 - Optimizing classifier hyper-parameters\u001b[0m\n"
     ]
    },
    {
     "name": "stdout",
     "output_type": "stream",
     "text": [
      "100%|██████████| 10/10 [00:01<00:00,  9.51trial/s, best loss: -0.3853104399634219]\n"
     ]
    },
    {
     "name": "stderr",
     "output_type": "stream",
     "text": [
      "\u001b[38;21m[INFO] 2024-02-20 16:21:23,967 - Calibrating probabilities\u001b[0m\n",
      "\u001b[38;21m[INFO] 2024-02-20 16:21:24,328 - Test fold mean accuracy: 0.8558558558558559\u001b[0m\n",
      "\u001b[38;21m[INFO] 2024-02-20 16:21:24,328 - Evaluating testing fold #4\u001b[0m\n",
      "\u001b[38;21m[INFO] 2024-02-20 16:21:24,329 - Over-sampling training fold with SMOTE\u001b[0m\n",
      "\u001b[38;21m[INFO] 2024-02-20 16:21:24,364 - Optimizing classifier hyper-parameters\u001b[0m\n"
     ]
    },
    {
     "name": "stdout",
     "output_type": "stream",
     "text": [
      "100%|██████████| 10/10 [00:01<00:00,  9.89trial/s, best loss: -0.40575520833333334]\n"
     ]
    },
    {
     "name": "stderr",
     "output_type": "stream",
     "text": [
      "\u001b[38;21m[INFO] 2024-02-20 16:21:25,378 - Calibrating probabilities\u001b[0m\n",
      "\u001b[38;21m[INFO] 2024-02-20 16:21:25,775 - Test fold mean accuracy: 0.8508508508508509\u001b[0m\n",
      "\u001b[38;21m[INFO] 2024-02-20 16:21:25,775 - Evaluating testing fold #5\u001b[0m\n",
      "\u001b[38;21m[INFO] 2024-02-20 16:21:25,776 - Over-sampling training fold with SMOTE\u001b[0m\n",
      "\u001b[38;21m[INFO] 2024-02-20 16:21:25,813 - Optimizing classifier hyper-parameters\u001b[0m\n"
     ]
    },
    {
     "name": "stdout",
     "output_type": "stream",
     "text": [
      "100%|██████████| 10/10 [00:01<00:00,  9.60trial/s, best loss: -0.37260049304442494]\n"
     ]
    },
    {
     "name": "stderr",
     "output_type": "stream",
     "text": [
      "\u001b[38;21m[INFO] 2024-02-20 16:21:26,858 - Calibrating probabilities\u001b[0m\n",
      "\u001b[38;21m[INFO] 2024-02-20 16:21:27,281 - Test fold mean accuracy: 0.8397596394591887\u001b[0m\n",
      "\u001b[38;21m[INFO] 2024-02-20 16:21:27,281 - Iteration 1/1 completed.\u001b[0m\n",
      "\u001b[38;21m[INFO] 2024-02-20 16:21:27,282 - Mean accuracy on test instances (iteration #1): 0.839\u001b[0m\n",
      "\u001b[38;21m[INFO] 2024-02-20 16:21:27,282 - Assessing performance of classifier 'svc_rbf'\u001b[0m\n",
      "\u001b[38;21m[INFO] 2024-02-20 16:21:27,283 - Estimating instance performance...\u001b[0m\n",
      "\u001b[38;21m[INFO] 2024-02-20 16:21:27,285 - Evaluating testing fold #1\u001b[0m\n",
      "\u001b[38;21m[INFO] 2024-02-20 16:21:27,285 - Over-sampling training fold with SMOTE\u001b[0m\n",
      "\u001b[38;21m[INFO] 2024-02-20 16:21:27,306 - Optimizing classifier hyper-parameters\u001b[0m\n"
     ]
    },
    {
     "name": "stdout",
     "output_type": "stream",
     "text": [
      " 10%|█         | 1/10 [01:55<17:17, 115.28s/trial, best loss: -0.5063417450581466]\n"
     ]
    },
    {
     "name": "stderr",
     "output_type": "stream",
     "text": [
      "\u001b[38;21m[INFO] 2024-02-20 16:23:22,585 - Calibrating probabilities\u001b[0m\n",
      "\u001b[38;21m[INFO] 2024-02-20 16:26:10,397 - Test fold mean accuracy: 0.8013013013013013\u001b[0m\n",
      "\u001b[38;21m[INFO] 2024-02-20 16:26:10,398 - Evaluating testing fold #2\u001b[0m\n",
      "\u001b[38;21m[INFO] 2024-02-20 16:26:10,398 - Over-sampling training fold with SMOTE\u001b[0m\n",
      "\u001b[38;21m[INFO] 2024-02-20 16:26:10,415 - Optimizing classifier hyper-parameters\u001b[0m\n"
     ]
    },
    {
     "name": "stdout",
     "output_type": "stream",
     "text": [
      " 10%|█         | 1/10 [01:51<16:44, 111.65s/trial, best loss: -0.5058728607550492]\n"
     ]
    },
    {
     "name": "stderr",
     "output_type": "stream",
     "text": [
      "\u001b[38;21m[INFO] 2024-02-20 16:28:02,066 - Calibrating probabilities\u001b[0m\n",
      "\u001b[38;21m[INFO] 2024-02-20 16:30:48,923 - Test fold mean accuracy: 0.8088088088088088\u001b[0m\n",
      "\u001b[38;21m[INFO] 2024-02-20 16:30:48,924 - Evaluating testing fold #3\u001b[0m\n",
      "\u001b[38;21m[INFO] 2024-02-20 16:30:48,924 - Over-sampling training fold with SMOTE\u001b[0m\n",
      "\u001b[38;21m[INFO] 2024-02-20 16:30:48,940 - Optimizing classifier hyper-parameters\u001b[0m\n"
     ]
    },
    {
     "name": "stdout",
     "output_type": "stream",
     "text": [
      " 10%|█         | 1/10 [01:49<16:23, 109.25s/trial, best loss: -0.5078004690902433]\n"
     ]
    },
    {
     "name": "stderr",
     "output_type": "stream",
     "text": [
      "\u001b[38;21m[INFO] 2024-02-20 16:32:38,188 - Calibrating probabilities\u001b[0m\n",
      "\u001b[38;21m[INFO] 2024-02-20 16:35:23,443 - Test fold mean accuracy: 0.8288288288288288\u001b[0m\n",
      "\u001b[38;21m[INFO] 2024-02-20 16:35:23,444 - Evaluating testing fold #4\u001b[0m\n",
      "\u001b[38;21m[INFO] 2024-02-20 16:35:23,446 - Over-sampling training fold with SMOTE\u001b[0m\n",
      "\u001b[38;21m[INFO] 2024-02-20 16:35:23,483 - Optimizing classifier hyper-parameters\u001b[0m\n"
     ]
    },
    {
     "name": "stdout",
     "output_type": "stream",
     "text": [
      " 10%|█         | 1/10 [01:48<16:18, 108.71s/trial, best loss: -0.51859375]\n"
     ]
    },
    {
     "name": "stderr",
     "output_type": "stream",
     "text": [
      "\u001b[38;21m[INFO] 2024-02-20 16:37:12,200 - Calibrating probabilities\u001b[0m\n",
      "\u001b[38;21m[INFO] 2024-02-20 16:39:57,681 - Test fold mean accuracy: 0.8188188188188188\u001b[0m\n",
      "\u001b[38;21m[INFO] 2024-02-20 16:39:57,681 - Evaluating testing fold #5\u001b[0m\n",
      "\u001b[38;21m[INFO] 2024-02-20 16:39:57,682 - Over-sampling training fold with SMOTE\u001b[0m\n",
      "\u001b[38;21m[INFO] 2024-02-20 16:39:57,698 - Optimizing classifier hyper-parameters\u001b[0m\n"
     ]
    },
    {
     "name": "stdout",
     "output_type": "stream",
     "text": [
      " 10%|█         | 1/10 [01:54<17:07, 114.13s/trial, best loss: -0.4770672979539398]\n"
     ]
    },
    {
     "name": "stderr",
     "output_type": "stream",
     "text": [
      "\u001b[38;21m[INFO] 2024-02-20 16:41:51,833 - Calibrating probabilities\u001b[0m\n"
     ]
    }
   ],
   "source": [
    "for file in tqdm(dataset_files):\n",
    "    apply_pyhard(dataset_files[0])"
   ]
  }
 ],
 "metadata": {
  "kernelspec": {
   "display_name": "jupyter-env",
   "language": "python",
   "name": "jupyter-env"
  },
  "language_info": {
   "codemirror_mode": {
    "name": "ipython",
    "version": 3
   },
   "file_extension": ".py",
   "mimetype": "text/x-python",
   "name": "python",
   "nbconvert_exporter": "python",
   "pygments_lexer": "ipython3",
   "version": "3.8.10"
  }
 },
 "nbformat": 4,
 "nbformat_minor": 5
}
