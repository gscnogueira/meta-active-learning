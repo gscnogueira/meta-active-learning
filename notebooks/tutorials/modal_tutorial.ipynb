{
 "cells": [
  {
   "cell_type": "markdown",
   "id": "d890f1f8-6b91-413c-8ce0-f6f01bed7494",
   "metadata": {},
   "source": [
    "# Tutorial modAL\n",
    "\n",
    "O propósito deste notebook é guiar-me através dos passos descritos na documentação do framework de aprendizado ativo [modAL](https://modal-python.readthedocs.io/en/latest/content/overview/modAL-in-a-nutshell.html). O objetivo é familiarizar-me com o uso do modAL nos experimentos que serão conduzidos ao longo deste trabalho.\""
   ]
  },
  {
   "cell_type": "markdown",
   "id": "4482af20-b7ac-4d00-a407-4db19fe554b1",
   "metadata": {},
   "source": [
    "## Instalação da do pacote"
   ]
  },
  {
   "cell_type": "code",
   "execution_count": 1,
   "id": "ec299519-1446-43ab-85e0-bfd1cc6c3b1c",
   "metadata": {},
   "outputs": [
    {
     "name": "stdout",
     "output_type": "stream",
     "text": [
      "Defaulting to user installation because normal site-packages is not writeable\n",
      "Collecting modAL-python\n",
      "  Downloading modAL_python-0.4.2.1-py3-none-any.whl.metadata (444 bytes)\n",
      "Requirement already satisfied: numpy in /usr/local/lib/python3.8/dist-packages (from modAL-python) (1.23.5)\n",
      "Requirement already satisfied: scikit-learn>=0.18 in /home/gabrielscn/.local/lib/python3.8/site-packages (from modAL-python) (1.3.2)\n",
      "Requirement already satisfied: scipy>=0.18 in /usr/local/lib/python3.8/dist-packages (from modAL-python) (1.10.1)\n",
      "Requirement already satisfied: pandas>=1.1.0 in /usr/local/lib/python3.8/dist-packages (from modAL-python) (2.0.3)\n",
      "Collecting skorch==0.9.0 (from modAL-python)\n",
      "  Downloading skorch-0.9.0-py3-none-any.whl (125 kB)\n",
      "\u001b[2K     \u001b[90m━━━━━━━━━━━━━━━━━━━━━━━━━━━━━━━━━━━━━━━\u001b[0m \u001b[32m125.8/125.8 kB\u001b[0m \u001b[31m1.9 MB/s\u001b[0m eta \u001b[36m0:00:00\u001b[0ma \u001b[36m0:00:01\u001b[0m\n",
      "\u001b[?25hCollecting tabulate>=0.7.7 (from skorch==0.9.0->modAL-python)\n",
      "  Downloading tabulate-0.9.0-py3-none-any.whl.metadata (34 kB)\n",
      "Requirement already satisfied: tqdm>=4.14.0 in /home/gabrielscn/.local/lib/python3.8/site-packages (from skorch==0.9.0->modAL-python) (4.66.2)\n",
      "Requirement already satisfied: python-dateutil>=2.8.2 in /usr/local/lib/python3.8/dist-packages (from pandas>=1.1.0->modAL-python) (2.8.2)\n",
      "Requirement already satisfied: pytz>=2020.1 in /usr/local/lib/python3.8/dist-packages (from pandas>=1.1.0->modAL-python) (2022.1)\n",
      "Requirement already satisfied: tzdata>=2022.1 in /usr/local/lib/python3.8/dist-packages (from pandas>=1.1.0->modAL-python) (2023.4)\n",
      "Requirement already satisfied: joblib>=1.1.1 in /home/gabrielscn/.local/lib/python3.8/site-packages (from scikit-learn>=0.18->modAL-python) (1.3.2)\n",
      "Requirement already satisfied: threadpoolctl>=2.0.0 in /home/gabrielscn/.local/lib/python3.8/site-packages (from scikit-learn>=0.18->modAL-python) (3.3.0)\n",
      "Requirement already satisfied: six>=1.5 in /usr/lib/python3/dist-packages (from python-dateutil>=2.8.2->pandas>=1.1.0->modAL-python) (1.14.0)\n",
      "Downloading modAL_python-0.4.2.1-py3-none-any.whl (32 kB)\n",
      "Downloading tabulate-0.9.0-py3-none-any.whl (35 kB)\n",
      "\u001b[33mDEPRECATION: distro-info 0.23ubuntu1 has a non-standard version number. pip 24.1 will enforce this behaviour change. A possible replacement is to upgrade to a newer version of distro-info or contact the author to suggest that they release a version with a conforming version number. Discussion can be found at https://github.com/pypa/pip/issues/12063\u001b[0m\u001b[33m\n",
      "\u001b[0m\u001b[33mDEPRECATION: python-debian 0.1.36ubuntu1 has a non-standard version number. pip 24.1 will enforce this behaviour change. A possible replacement is to upgrade to a newer version of python-debian or contact the author to suggest that they release a version with a conforming version number. Discussion can be found at https://github.com/pypa/pip/issues/12063\u001b[0m\u001b[33m\n",
      "\u001b[0mInstalling collected packages: tabulate, skorch, modAL-python\n",
      "Successfully installed modAL-python-0.4.2.1 skorch-0.9.0 tabulate-0.9.0\n"
     ]
    }
   ],
   "source": [
    "!pip install modAL-python"
   ]
  },
  {
   "cell_type": "markdown",
   "id": "2b280ee6-8a6b-4cdb-acd6-d3b79409cc1f",
   "metadata": {},
   "source": [
    "## Exemplo Básico"
   ]
  },
  {
   "cell_type": "markdown",
   "id": "e252bd03-33ca-4582-8916-1af1fb22fcf1",
   "metadata": {},
   "source": [
    "A seguir é apresentada a estrutura básica utilizada pelo framework:"
   ]
  },
  {
   "cell_type": "code",
   "execution_count": 4,
   "id": "c6b79076-bbcd-44b0-bff4-d2bc7a78643e",
   "metadata": {},
   "outputs": [],
   "source": [
    "%%script false --no-raise-error\n",
    "from modAL.models import ActiveLearner\n",
    "from sklearn.ensemble import RandomForestClassifier\n",
    "\n",
    "# initializing the learner\n",
    "learner = ActiveLearner(\n",
    "   estimator=RandomForestClassifier(),\n",
    "   X_training=X_training,\n",
    "   y_training=y_training\n",
    ")\n",
    "\n",
    "# query for labels\n",
    "query_idx, query_inst = learner.query(X_pool)\n",
    "\n",
    "# ...obtaining new labels from the Oracle...\n",
    "\n",
    "# supply lable for queried instance\n",
    "learner.teach(X_pool[query_idx], y_new)\n"
   ]
  },
  {
   "cell_type": "markdown",
   "id": "5af936c1-597b-43cf-a59c-880cc21099d3",
   "metadata": {},
   "source": [
    "É possível escolher diferentes medidas de estratégia e de consulta além da padrão (Uncertainty Sampling)"
   ]
  },
  {
   "cell_type": "code",
   "execution_count": 8,
   "id": "27c6fb82-1f64-4dce-b2c9-4b692afcd3c4",
   "metadata": {},
   "outputs": [],
   "source": [
    "%%script false --no-raise-error\n",
    "\n",
    "from modAL.models import ActiveLearner\n",
    "from modAL.uncertainty import entropy_sampling\n",
    "from sklearn.ensamble import RandomForestClassifier\n",
    "\n",
    "learner = ActiveLearner(\n",
    "    estimator=RandomForestClassifier(),\n",
    "    query_strategy=entropy_sampling,\n",
    "    X_training=X_training, y_training=y_training\n",
    ")"
   ]
  },
  {
   "cell_type": "markdown",
   "id": "a894d2ad-eda3-48a5-abde-5bc3124739dc",
   "metadata": {},
   "source": [
    "### Implementando estratégia de sampling  "
   ]
  },
  {
   "cell_type": "code",
   "execution_count": null,
   "id": "4d2fd7b1-69aa-4581-9ac4-12f745c85813",
   "metadata": {},
   "outputs": [],
   "source": [
    "%%script false --no-raise-error\n",
    "import numpy as np\n",
    "\n",
    "def random_sampling(classifier, X_pool):\n",
    "    n_samples = len(X_pool)\n",
    "    query_idx = np.random.choice(range(n_samples))\n",
    "    return query_idx, X_pool[query_idx]\n",
    "\n",
    "learner = ActiveLearner(\n",
    "    estimator=RandomForestClassifier(),\n",
    "    query_strategy=random_sampling,\n",
    "    X_training=X_training, y_training=y_training\n",
    ")\n"
   ]
  },
  {
   "cell_type": "markdown",
   "id": "7967d32b-5148-4992-b24b-37763584a1ee",
   "metadata": {},
   "source": [
    "###m"
   ]
  }
 ],
 "metadata": {
  "kernelspec": {
   "display_name": "jupyter-env",
   "language": "python",
   "name": "jupyter-env"
  },
  "language_info": {
   "codemirror_mode": {
    "name": "ipython",
    "version": 3
   },
   "file_extension": ".py",
   "mimetype": "text/x-python",
   "name": "python",
   "nbconvert_exporter": "python",
   "pygments_lexer": "ipython3",
   "version": "3.8.10"
  }
 },
 "nbformat": 4,
 "nbformat_minor": 5
}
