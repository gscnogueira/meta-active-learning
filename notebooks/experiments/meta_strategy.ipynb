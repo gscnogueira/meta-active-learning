{
 "cells": [
  {
   "cell_type": "markdown",
   "id": "83f8f007-5d8d-4347-a9e4-f5cca6fc67ac",
   "metadata": {},
   "source": [
    "# Meta-Sampling: Estratégia de seleção de instâncias baseada em meta-aprendizado"
   ]
  },
  {
   "cell_type": "markdown",
   "id": "dba0cd12-e36c-481b-a661-f7b5050c5795",
   "metadata": {},
   "source": [
    "## Elaboração de meta-base "
   ]
  },
  {
   "cell_type": "code",
   "execution_count": 1,
   "id": "83460d0b-0c04-4c48-90f5-99559dfe3015",
   "metadata": {},
   "outputs": [],
   "source": [
    "DATA_DIR = '../../metabase/'"
   ]
  },
  {
   "cell_type": "code",
   "execution_count": 2,
   "id": "9fe05fdd-f86a-4bea-b7a4-5cfce178d31e",
   "metadata": {},
   "outputs": [
    {
     "name": "stdout",
     "output_type": "stream",
     "text": [
      "CPU times: user 5.28 s, sys: 1.9 s, total: 7.19 s\n",
      "Wall time: 5.83 s\n"
     ]
    }
   ],
   "source": [
    "%%time\n",
    "import os\n",
    "import pandas as pd\n",
    "\n",
    "csv_files =  [file for file in os.listdir(DATA_DIR) if file.endswith('csv')]\n",
    "df_list = [pd.read_csv(os.path.join(DATA_DIR, file), index_col=False) for file in csv_files]"
   ]
  },
  {
   "cell_type": "markdown",
   "id": "33a4b271-654f-43a5-9820-11a6ef6542e6",
   "metadata": {},
   "source": [
    "Juntando dataframes:"
   ]
  },
  {
   "cell_type": "code",
   "execution_count": 3,
   "id": "6d4bdcc5-6157-4bb8-ae02-6e9ef920b231",
   "metadata": {},
   "outputs": [],
   "source": [
    "df = pd.concat(df_list, keys=csv_files)\n",
    "df = df.loc[:, ~df.columns.str.contains('^Unnamed')]\n",
    "df.index.names=['dataset', 'index']"
   ]
  },
  {
   "cell_type": "markdown",
   "id": "be10ee44-d937-4d3d-846f-158f92a82c1b",
   "metadata": {},
   "source": [
    "Adicionando a informação referente à query:"
   ]
  },
  {
   "cell_type": "code",
   "execution_count": 58,
   "id": "2cf83fe1-9395-477e-b758-c69e33b6eb1a",
   "metadata": {
    "scrolled": true
   },
   "outputs": [],
   "source": [
    "def add_query_index(x):\n",
    "    x['query_index']=range(len(x))\n",
    "    return x\n",
    "df = df.groupby(['dataset','estimator', 'query-strategy'], group_keys=False).apply(add_query_index)"
   ]
  },
  {
   "cell_type": "markdown",
   "id": "8871f72c-b0c1-4627-85e4-721c5917e43a",
   "metadata": {},
   "source": [
    "Rotulando qual melhor estratégia para cada tripla `(dataset, estimator, query_index)` com base na acurácia:"
   ]
  },
  {
   "cell_type": "code",
   "execution_count": 68,
   "id": "a832ec58-bcf1-4438-9e56-d8bed0199b62",
   "metadata": {},
   "outputs": [],
   "source": [
    "meta_base = df.groupby(['dataset','estimator','query_index'], group_keys=True).apply(lambda x: x.loc[x['accuracy'].idxmax()])\n",
    "meta_base.drop(['estimator', 'accuracy', 'f1-micro', 'f1-macro', 'f1-weighted','query_index'], axis=1, inplace=True)"
   ]
  },
  {
   "cell_type": "markdown",
   "id": "0aef4bc2-b121-4a26-accf-ce3de4981c86",
   "metadata": {},
   "source": [
    "Fazendo download do arquivo:"
   ]
  },
  {
   "cell_type": "code",
   "execution_count": 69,
   "id": "9dbce0d4-1a72-4d9d-a347-24ecd3c7dd4d",
   "metadata": {},
   "outputs": [],
   "source": [
    "meta_base.to_csv('metabase.csv')"
   ]
  },
  {
   "cell_type": "markdown",
   "id": "82770938-d670-4c2d-a665-75a8c9f27d25",
   "metadata": {},
   "source": [
    "## Treinamento de Meta-Modelo"
   ]
  },
  {
   "cell_type": "code",
   "execution_count": 72,
   "id": "8ba2a4ef-6542-41bd-8e32-5c5b30d79ad2",
   "metadata": {},
   "outputs": [],
   "source": [
    "meta_base =  pd.read_csv('metabase.csv', index_col=['dataset', 'estimator', 'query_index'])"
   ]
  },
  {
   "cell_type": "markdown",
   "id": "0ad4c428-3413-469a-8720-091a89cdef8b",
   "metadata": {},
   "source": [
    "Substituindo valores infinitos por `np.nan`"
   ]
  },
  {
   "cell_type": "code",
   "execution_count": 211,
   "id": "8fc827a1-b594-4b6c-913d-22228d6464d5",
   "metadata": {},
   "outputs": [],
   "source": [
    "meta_base.replace([np.inf, -np.inf], np.nan, inplace=True)"
   ]
  },
  {
   "cell_type": "markdown",
   "id": "7a54d131-d7fd-4133-a291-bb55f46239c6",
   "metadata": {},
   "source": [
    "Separando uma base para teste e o restante para treinamento (LOO)"
   ]
  },
  {
   "cell_type": "code",
   "execution_count": 212,
   "id": "6a68df54-7186-447e-84ad-128b563b7081",
   "metadata": {},
   "outputs": [
    {
     "data": {
      "text/plain": [
       "(87, 1)"
      ]
     },
     "execution_count": 212,
     "metadata": {},
     "output_type": "execute_result"
    }
   ],
   "source": [
    "train_bases = meta_base.index.levels[0][:-1]\n",
    "test_base = meta_base.index.levels[0][-1:]\n",
    "\n",
    "len(train_bases), len(test_base)"
   ]
  },
  {
   "cell_type": "markdown",
   "id": "1dd9af38-d362-4f9c-884e-8e4f8a33b360",
   "metadata": {},
   "source": [
    "Separando features e rótulos (utilizando apenas o classificador SVM)"
   ]
  },
  {
   "cell_type": "code",
   "execution_count": 214,
   "id": "3f91ac7b-80e0-4929-a94a-8a71e7abddb6",
   "metadata": {},
   "outputs": [],
   "source": [
    "train_data = meta_base.loc[train_bases].xs(\"SVC\", level='estimator').reset_index()\n",
    "test_data = meta_base.loc[test_base].xs(\"SVC\", level='estimator').reset_index()"
   ]
  },
  {
   "cell_type": "markdown",
   "id": "efba1287-2051-4498-91c8-e44ee9de3d4e",
   "metadata": {},
   "source": [
    "Separando conjuntos em treino e teste"
   ]
  },
  {
   "cell_type": "code",
   "execution_count": 216,
   "id": "9ab7d956-7553-47bd-bb1d-a3ddb86408bb",
   "metadata": {},
   "outputs": [
    {
     "name": "stdout",
     "output_type": "stream",
     "text": [
      "(6508, 180) (6508,)\n",
      "(100, 180) (100,)\n"
     ]
    }
   ],
   "source": [
    "X_train = train_data.drop(columns=['dataset', 'query-strategy'])\n",
    "y_train = train_data['query-strategy']\n",
    "\n",
    "X_test = test_data.drop(columns=['dataset', 'query-strategy'])\n",
    "y_test = test_data['query-strategy']\n",
    "\n",
    "print(X_train.shape, y_train.shape)\n",
    "print(X_test.shape, y_test.shape)"
   ]
  },
  {
   "cell_type": "markdown",
   "id": "51503845-36b6-4d98-999c-3941262d2bfe",
   "metadata": {},
   "source": [
    "Induzindo modelo"
   ]
  },
  {
   "cell_type": "code",
   "execution_count": 210,
   "id": "43490780-9444-4472-8f91-827049c2b3cb",
   "metadata": {},
   "outputs": [
    {
     "data": {
      "text/html": [
       "<style>#sk-container-id-1 {color: black;background-color: white;}#sk-container-id-1 pre{padding: 0;}#sk-container-id-1 div.sk-toggleable {background-color: white;}#sk-container-id-1 label.sk-toggleable__label {cursor: pointer;display: block;width: 100%;margin-bottom: 0;padding: 0.3em;box-sizing: border-box;text-align: center;}#sk-container-id-1 label.sk-toggleable__label-arrow:before {content: \"▸\";float: left;margin-right: 0.25em;color: #696969;}#sk-container-id-1 label.sk-toggleable__label-arrow:hover:before {color: black;}#sk-container-id-1 div.sk-estimator:hover label.sk-toggleable__label-arrow:before {color: black;}#sk-container-id-1 div.sk-toggleable__content {max-height: 0;max-width: 0;overflow: hidden;text-align: left;background-color: #f0f8ff;}#sk-container-id-1 div.sk-toggleable__content pre {margin: 0.2em;color: black;border-radius: 0.25em;background-color: #f0f8ff;}#sk-container-id-1 input.sk-toggleable__control:checked~div.sk-toggleable__content {max-height: 200px;max-width: 100%;overflow: auto;}#sk-container-id-1 input.sk-toggleable__control:checked~label.sk-toggleable__label-arrow:before {content: \"▾\";}#sk-container-id-1 div.sk-estimator input.sk-toggleable__control:checked~label.sk-toggleable__label {background-color: #d4ebff;}#sk-container-id-1 div.sk-label input.sk-toggleable__control:checked~label.sk-toggleable__label {background-color: #d4ebff;}#sk-container-id-1 input.sk-hidden--visually {border: 0;clip: rect(1px 1px 1px 1px);clip: rect(1px, 1px, 1px, 1px);height: 1px;margin: -1px;overflow: hidden;padding: 0;position: absolute;width: 1px;}#sk-container-id-1 div.sk-estimator {font-family: monospace;background-color: #f0f8ff;border: 1px dotted black;border-radius: 0.25em;box-sizing: border-box;margin-bottom: 0.5em;}#sk-container-id-1 div.sk-estimator:hover {background-color: #d4ebff;}#sk-container-id-1 div.sk-parallel-item::after {content: \"\";width: 100%;border-bottom: 1px solid gray;flex-grow: 1;}#sk-container-id-1 div.sk-label:hover label.sk-toggleable__label {background-color: #d4ebff;}#sk-container-id-1 div.sk-serial::before {content: \"\";position: absolute;border-left: 1px solid gray;box-sizing: border-box;top: 0;bottom: 0;left: 50%;z-index: 0;}#sk-container-id-1 div.sk-serial {display: flex;flex-direction: column;align-items: center;background-color: white;padding-right: 0.2em;padding-left: 0.2em;position: relative;}#sk-container-id-1 div.sk-item {position: relative;z-index: 1;}#sk-container-id-1 div.sk-parallel {display: flex;align-items: stretch;justify-content: center;background-color: white;position: relative;}#sk-container-id-1 div.sk-item::before, #sk-container-id-1 div.sk-parallel-item::before {content: \"\";position: absolute;border-left: 1px solid gray;box-sizing: border-box;top: 0;bottom: 0;left: 50%;z-index: -1;}#sk-container-id-1 div.sk-parallel-item {display: flex;flex-direction: column;z-index: 1;position: relative;background-color: white;}#sk-container-id-1 div.sk-parallel-item:first-child::after {align-self: flex-end;width: 50%;}#sk-container-id-1 div.sk-parallel-item:last-child::after {align-self: flex-start;width: 50%;}#sk-container-id-1 div.sk-parallel-item:only-child::after {width: 0;}#sk-container-id-1 div.sk-dashed-wrapped {border: 1px dashed gray;margin: 0 0.4em 0.5em 0.4em;box-sizing: border-box;padding-bottom: 0.4em;background-color: white;}#sk-container-id-1 div.sk-label label {font-family: monospace;font-weight: bold;display: inline-block;line-height: 1.2em;}#sk-container-id-1 div.sk-label-container {text-align: center;}#sk-container-id-1 div.sk-container {/* jupyter's `normalize.less` sets `[hidden] { display: none; }` but bootstrap.min.css set `[hidden] { display: none !important; }` so we also need the `!important` here to be able to override the default hidden behavior on the sphinx rendered scikit-learn.org. See: https://github.com/scikit-learn/scikit-learn/issues/21755 */display: inline-block !important;position: relative;}#sk-container-id-1 div.sk-text-repr-fallback {display: none;}</style><div id=\"sk-container-id-1\" class=\"sk-top-container\"><div class=\"sk-text-repr-fallback\"><pre>Pipeline(steps=[(&#x27;mean_inputer&#x27;, SimpleImputer()),\n",
       "                (&#x27;meta-model&#x27;, RandomForestClassifier())])</pre><b>In a Jupyter environment, please rerun this cell to show the HTML representation or trust the notebook. <br />On GitHub, the HTML representation is unable to render, please try loading this page with nbviewer.org.</b></div><div class=\"sk-container\" hidden><div class=\"sk-item sk-dashed-wrapped\"><div class=\"sk-label-container\"><div class=\"sk-label sk-toggleable\"><input class=\"sk-toggleable__control sk-hidden--visually\" id=\"sk-estimator-id-1\" type=\"checkbox\" ><label for=\"sk-estimator-id-1\" class=\"sk-toggleable__label sk-toggleable__label-arrow\">Pipeline</label><div class=\"sk-toggleable__content\"><pre>Pipeline(steps=[(&#x27;mean_inputer&#x27;, SimpleImputer()),\n",
       "                (&#x27;meta-model&#x27;, RandomForestClassifier())])</pre></div></div></div><div class=\"sk-serial\"><div class=\"sk-item\"><div class=\"sk-estimator sk-toggleable\"><input class=\"sk-toggleable__control sk-hidden--visually\" id=\"sk-estimator-id-2\" type=\"checkbox\" ><label for=\"sk-estimator-id-2\" class=\"sk-toggleable__label sk-toggleable__label-arrow\">SimpleImputer</label><div class=\"sk-toggleable__content\"><pre>SimpleImputer()</pre></div></div></div><div class=\"sk-item\"><div class=\"sk-estimator sk-toggleable\"><input class=\"sk-toggleable__control sk-hidden--visually\" id=\"sk-estimator-id-3\" type=\"checkbox\" ><label for=\"sk-estimator-id-3\" class=\"sk-toggleable__label sk-toggleable__label-arrow\">RandomForestClassifier</label><div class=\"sk-toggleable__content\"><pre>RandomForestClassifier()</pre></div></div></div></div></div></div></div>"
      ],
      "text/plain": [
       "Pipeline(steps=[('mean_inputer', SimpleImputer()),\n",
       "                ('meta-model', RandomForestClassifier())])"
      ]
     },
     "execution_count": 210,
     "metadata": {},
     "output_type": "execute_result"
    }
   ],
   "source": [
    "import numpy as np \n",
    "from sklearn.impute import SimpleImputer\n",
    "from sklearn.ensemble import RandomForestClassifier\n",
    "from sklearn.pipeline import Pipeline\n",
    "\n",
    "\n",
    "\n",
    "clf = Pipeline([\n",
    "    ('mean_inputer', SimpleImputer(missing_values=np.nan, strategy='mean')),\n",
    "    ('meta-model', RandomForestClassifier())\n",
    "])\n",
    "\n",
    "clf.fit(X_train, y_train)"
   ]
  },
  {
   "cell_type": "code",
   "execution_count": 218,
   "id": "1f8987de-ca0a-414d-9f66-47c30afe64ce",
   "metadata": {},
   "outputs": [
    {
     "data": {
      "text/plain": [
       "array(['margin_sampling', 'margin_sampling', 'margin_sampling',\n",
       "       'uncertainty_sampling', 'margin_sampling', 'uncertainty_sampling',\n",
       "       'margin_sampling', 'uncertainty_sampling', 'uncertainty_sampling',\n",
       "       'margin_sampling', 'uncertainty_sampling', 'margin_sampling',\n",
       "       'uncertainty_sampling', 'margin_sampling', 'margin_sampling',\n",
       "       'margin_sampling', 'margin_sampling', 'margin_sampling',\n",
       "       'margin_sampling', 'margin_sampling', 'margin_sampling',\n",
       "       'margin_sampling', 'margin_sampling', 'uncertainty_batch_sampling',\n",
       "       'margin_sampling', 'margin_sampling', 'margin_sampling',\n",
       "       'margin_sampling', 'margin_sampling', 'margin_sampling',\n",
       "       'uncertainty_batch_sampling', 'margin_sampling', 'margin_sampling',\n",
       "       'margin_sampling', 'margin_sampling', 'margin_sampling',\n",
       "       'margin_sampling', 'margin_sampling', 'margin_sampling',\n",
       "       'margin_sampling', 'margin_sampling', 'margin_sampling',\n",
       "       'margin_sampling', 'consensus_entropy_sampling', 'margin_sampling',\n",
       "       'margin_sampling', 'uncertainty_sampling', 'uncertainty_sampling',\n",
       "       'uncertainty_batch_sampling', 'uncertainty_sampling',\n",
       "       'uncertainty_sampling', 'margin_sampling',\n",
       "       'uncertainty_batch_sampling', 'margin_sampling', 'margin_sampling',\n",
       "       'margin_sampling', 'margin_sampling', 'margin_sampling',\n",
       "       'uncertainty_batch_sampling', 'uncertainty_batch_sampling',\n",
       "       'uncertainty_batch_sampling', 'uncertainty_batch_sampling',\n",
       "       'uncertainty_batch_sampling', 'uncertainty_batch_sampling',\n",
       "       'consensus_entropy_sampling', 'consensus_entropy_sampling',\n",
       "       'uncertainty_batch_sampling', 'uncertainty_batch_sampling',\n",
       "       'uncertainty_batch_sampling', 'uncertainty_batch_sampling',\n",
       "       'uncertainty_batch_sampling', 'consensus_entropy_sampling',\n",
       "       'consensus_entropy_sampling', 'consensus_entropy_sampling',\n",
       "       'uncertainty_batch_sampling', 'uncertainty_batch_sampling',\n",
       "       'consensus_entropy_sampling', 'uncertainty_batch_sampling',\n",
       "       'consensus_entropy_sampling', 'uncertainty_batch_sampling',\n",
       "       'consensus_entropy_sampling', 'consensus_entropy_sampling',\n",
       "       'uncertainty_batch_sampling', 'uncertainty_batch_sampling',\n",
       "       'uncertainty_batch_sampling', 'consensus_entropy_sampling',\n",
       "       'consensus_entropy_sampling', 'consensus_entropy_sampling',\n",
       "       'consensus_entropy_sampling', 'consensus_entropy_sampling',\n",
       "       'consensus_entropy_sampling', 'consensus_entropy_sampling',\n",
       "       'consensus_entropy_sampling', 'consensus_entropy_sampling',\n",
       "       'consensus_entropy_sampling', 'consensus_entropy_sampling',\n",
       "       'consensus_entropy_sampling', 'consensus_entropy_sampling',\n",
       "       'consensus_entropy_sampling', 'consensus_entropy_sampling'],\n",
       "      dtype=object)"
      ]
     },
     "execution_count": 218,
     "metadata": {},
     "output_type": "execute_result"
    }
   ],
   "source": [
    "clf.predict(X_test)"
   ]
  },
  {
   "cell_type": "code",
   "execution_count": 207,
   "id": "09e9b475-61da-4fb6-b694-767852dad3d7",
   "metadata": {},
   "outputs": [
    {
     "data": {
      "text/plain": [
       "query_index                 True\n",
       "attr_conc.mean              True\n",
       "attr_conc.sd                True\n",
       "attr_ent.mean               True\n",
       "attr_ent.sd                 True\n",
       "                            ... \n",
       "wg_dist.sd                  True\n",
       "worst_node.mean             True\n",
       "worst_node.mean.relative    True\n",
       "worst_node.sd               True\n",
       "worst_node.sd.relative      True\n",
       "Name: 6507, Length: 180, dtype: bool"
      ]
     },
     "execution_count": 207,
     "metadata": {},
     "output_type": "execute_result"
    }
   ],
   "source": [
    "np.isfinite(X_train.fillna(0).iloc[-1])"
   ]
  }
 ],
 "metadata": {
  "kernelspec": {
   "display_name": "Python 3 (ipykernel)",
   "language": "python",
   "name": "python3"
  },
  "language_info": {
   "codemirror_mode": {
    "name": "ipython",
    "version": 3
   },
   "file_extension": ".py",
   "mimetype": "text/x-python",
   "name": "python",
   "nbconvert_exporter": "python",
   "pygments_lexer": "ipython3",
   "version": "3.10.12"
  }
 },
 "nbformat": 4,
 "nbformat_minor": 5
}
