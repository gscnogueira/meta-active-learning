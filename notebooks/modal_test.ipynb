{
 "cells": [
  {
   "cell_type": "markdown",
   "id": "dc71e83f-478d-4b26-9743-b70ff9d7d1d7",
   "metadata": {},
   "source": [
    "# Teste do Framework Modal"
   ]
  },
  {
   "cell_type": "markdown",
   "id": "3f865611-06a2-4e08-8e9b-97c6875d0739",
   "metadata": {},
   "source": [
    "## Instalação de pacotes necessários"
   ]
  },
  {
   "cell_type": "code",
   "execution_count": 1,
   "id": "c40c6039-7dbc-499b-aacf-e290e8dc8109",
   "metadata": {},
   "outputs": [],
   "source": [
    "!pip install -q modAL-python"
   ]
  },
  {
   "cell_type": "code",
   "execution_count": 2,
   "id": "a4fc0ed0-6399-45f4-bd53-30f6e87c462d",
   "metadata": {},
   "outputs": [],
   "source": [
    "!pip install -q openml"
   ]
  },
  {
   "cell_type": "markdown",
   "id": "9ba37abf-6ba8-49e7-b676-d02b6af3598c",
   "metadata": {},
   "source": [
    "## Obtenção de bases"
   ]
  },
  {
   "cell_type": "code",
   "execution_count": 3,
   "id": "43b10252-eb99-4ba3-b8f5-7bbf3adde71d",
   "metadata": {},
   "outputs": [
    {
     "name": "stderr",
     "output_type": "stream",
     "text": [
      "/home/gabrielscn/.local/lib/python3.8/site-packages/openml/datasets/functions.py:447: FutureWarning: Starting from Version 0.15 `download_data`, `download_qualities`, and `download_features_meta_data` will all be ``False`` instead of ``True`` by default to enable lazy loading. To disable this message until version 0.15 explicitly set `download_data`, `download_qualities`, and `download_features_meta_data` to a bool while calling `get_dataset`.\n",
      "  get_dataset(dataset_id, download_data, download_qualities=download_qualities),\n"
     ]
    },
    {
     "name": "stdout",
     "output_type": "stream",
     "text": [
      "CPU times: user 4.25 s, sys: 9 s, total: 13.2 s\n",
      "Wall time: 2.71 s\n"
     ]
    }
   ],
   "source": [
    "%%time\n",
    "import openml\n",
    "\n",
    "from config import dataset_ids\n",
    "\n",
    "datasets = openml.datasets.get_datasets(dataset_ids)"
   ]
  },
  {
   "cell_type": "markdown",
   "id": "4562a71b-5d22-4919-ad9b-443e22c7b111",
   "metadata": {},
   "source": [
    "## Testando modAL em uma das bases obtidas"
   ]
  },
  {
   "cell_type": "markdown",
   "id": "5f7ed1c4-bd3b-431e-b836-0e04202075b6",
   "metadata": {},
   "source": [
    "Para esse experimento será utilizado o primeiro conjunto de dados presente na lista `datasets`"
   ]
  },
  {
   "cell_type": "code",
   "execution_count": 4,
   "id": "6beecb5a-bcc6-4fb2-a509-9954c257e518",
   "metadata": {},
   "outputs": [
    {
     "data": {
      "text/plain": [
       "OpenML Dataset\n",
       "==============\n",
       "Name..........: kr-vs-kp\n",
       "Version.......: 1\n",
       "Format........: ARFF\n",
       "Upload Date...: 2014-04-06 23:19:28\n",
       "Licence.......: Public\n",
       "Download URL..: https://api.openml.org/data/v1/download/3/kr-vs-kp.arff\n",
       "OpenML URL....: https://www.openml.org/d/3\n",
       "# of features.: 37\n",
       "# of instances: 3196"
      ]
     },
     "execution_count": 4,
     "metadata": {},
     "output_type": "execute_result"
    }
   ],
   "source": [
    "dataset = datasets[0]\n",
    "dataset"
   ]
  },
  {
   "cell_type": "markdown",
   "id": "0b78c94d-4efd-4bd8-9e27-0534809c2e76",
   "metadata": {},
   "source": [
    "Primeiramente, é necessário dividir o conjunto de dados em treino e teste"
   ]
  },
  {
   "cell_type": "code",
   "execution_count": 5,
   "id": "4f570847-58b5-49b0-940e-0d015abc9d74",
   "metadata": {},
   "outputs": [
    {
     "name": "stdout",
     "output_type": "stream",
     "text": [
      "(2397, 73) (2397,)\n",
      "(799, 73) (799,)\n"
     ]
    }
   ],
   "source": [
    "from sklearn.model_selection import train_test_split\n",
    "from sklearn.preprocessing import OneHotEncoder\n",
    "from sklearn.compose import ColumnTransformer\n",
    "\n",
    "X, y, categorical_indicator, attribute_names  = dataset.get_data(target=dataset.default_target_attribute)\n",
    "\n",
    "# codificando os dados categóricos:\n",
    "categorical_preprocessor = OneHotEncoder(sparse_output=False,\n",
    "                                         handle_unknown='ignore')\n",
    "preprocessor = ColumnTransformer(\n",
    "    [('one-hot-encoder', categorical_preprocessor, categorical_indicator)], \n",
    "    remainder='passthrough'\n",
    ")\n",
    "\n",
    "\n",
    "X_train_raw, X_test, y_train_raw, y_test = train_test_split(preprocessor.fit_transform(X),\n",
    "                                                    y.to_numpy(),\n",
    "                                                    stratify=y)\n",
    "\n",
    "print(X_train_raw.shape, y_train_raw.shape)\n",
    "print(X_test.shape, y_test.shape)"
   ]
  },
  {
   "cell_type": "markdown",
   "id": "e7242dc8-709f-428d-90a4-2d8a77529d8e",
   "metadata": {},
   "source": [
    "Em seguida, dividir o conjunto de treino em $L$ (Labeled) e $U$ (Unlabeled)"
   ]
  },
  {
   "cell_type": "code",
   "execution_count": 6,
   "id": "c23cb479-0ac4-417d-a731-662680745582",
   "metadata": {},
   "outputs": [
    {
     "name": "stdout",
     "output_type": "stream",
     "text": [
      "L: (20, 73) (20,)\n",
      "U: (2377, 73) (2377,)\n"
     ]
    }
   ],
   "source": [
    "import numpy as np\n",
    "INITIAL_L_SIZE = 20 # número de valores rotulados inicialmente\n",
    "TRAIN_RAW_SIZE = X_train_raw.shape[0]\n",
    "\n",
    "train_index = np.random.choice(TRAIN_RAW_SIZE, INITIAL_L_SIZE)\n",
    "\n",
    "# conjunto rotulado (L)\n",
    "X_train = X_train_raw[train_index]\n",
    "y_train = y_train_raw[train_index]\n",
    "\n",
    "# conjunto não rotulado (U)\n",
    "X_pool = np.delete(X_train_raw, train_index, axis=0)\n",
    "y_pool = np.delete(y_train_raw, train_index, axis=0)\n",
    "\n",
    "print('L:', X_train.shape, y_train.shape)\n",
    "print('U:', X_pool.shape, y_pool.shape)\n"
   ]
  },
  {
   "cell_type": "markdown",
   "id": "1ce43bce-8393-4621-a3ba-262cc651943b",
   "metadata": {},
   "source": [
    "Agora é hora de instânciar um modelo para ser utilizado"
   ]
  },
  {
   "cell_type": "code",
   "execution_count": 7,
   "id": "f4651ba5-94e3-4867-b992-868f9d36a727",
   "metadata": {},
   "outputs": [],
   "source": [
    "from sklearn.svm import SVC\n",
    "from sklearn.metrics import classification_report"
   ]
  },
  {
   "cell_type": "markdown",
   "id": "53f0cc89-4c3f-4634-8e78-453b15343ac0",
   "metadata": {},
   "source": [
    "Treinando e avaliando o modelo"
   ]
  },
  {
   "cell_type": "code",
   "execution_count": 8,
   "id": "3ab602ea-7120-42cc-8a65-ce34a238e6c0",
   "metadata": {},
   "outputs": [
    {
     "name": "stdout",
     "output_type": "stream",
     "text": [
      "              precision    recall  f1-score   support\n",
      "\n",
      "       nowin       0.54      0.88      0.67       382\n",
      "         won       0.75      0.31      0.44       417\n",
      "\n",
      "    accuracy                           0.59       799\n",
      "   macro avg       0.65      0.60      0.56       799\n",
      "weighted avg       0.65      0.59      0.55       799\n",
      "\n"
     ]
    }
   ],
   "source": [
    "model = SVC(probability=True)\n",
    "model.fit(X_train, y_train)\n",
    "y_pred = model.predict(X_test)\n",
    "print(classification_report(y_test, y_pred))"
   ]
  },
  {
   "cell_type": "markdown",
   "id": "35130588-ae97-4794-b726-3db8c8394758",
   "metadata": {},
   "source": [
    "### Implementando Aprendizado Ativo"
   ]
  },
  {
   "cell_type": "markdown",
   "id": "f9433207-791c-4e47-9cc4-0d506616e4e8",
   "metadata": {},
   "source": [
    "Estatégia de sampling: **Ranked Batch**\n",
    "\n",
    "$score = \\alpha(1 - \\Phi(x, X_{labeled})) + (1 - \\alpha) U(x),$"
   ]
  },
  {
   "cell_type": "code",
   "execution_count": 11,
   "id": "2b3e787b-ac93-4c0d-9aff-9e77127b3bf2",
   "metadata": {},
   "outputs": [
    {
     "name": "stdout",
     "output_type": "stream",
     "text": [
      "Automatic pdb calling has been turned OFF\n",
      "Accuracy after query 0: 0.5994993742177722\n",
      "Accuracy after query 1: 0.7434292866082604\n",
      "Accuracy after query 2: 0.7546933667083855\n",
      "Accuracy after query 3: 0.7509386733416771\n",
      "Accuracy after query 4: 0.7571964956195244\n",
      "Accuracy after query 5: 0.7609511889862328\n",
      "Accuracy after query 6: 0.753441802252816\n",
      "Accuracy after query 7: 0.753441802252816\n",
      "Accuracy after query 8: 0.8035043804755945\n",
      "Accuracy after query 9: 0.7847309136420526\n",
      "Accuracy after query 10: 0.8010012515644556\n",
      "Accuracy after query 11: 0.7959949937421777\n",
      "Accuracy after query 12: 0.7984981226533167\n",
      "Accuracy after query 13: 0.8122653316645807\n",
      "Accuracy after query 14: 0.8110137672090113\n",
      "Accuracy after query 15: 0.8210262828535669\n",
      "Accuracy after query 16: 0.8285356695869838\n",
      "Accuracy after query 17: 0.83729662077597\n",
      "Accuracy after query 18: 0.8410513141426783\n",
      "Accuracy after query 19: 0.8360450563204005\n"
     ]
    }
   ],
   "source": [
    "%pdb 0\n",
    "from functools import partial\n",
    "\n",
    "from modAL.models import ActiveLearner\n",
    "from modAL.uncertainty import uncertainty_sampling\n",
    "from modAL.batch import uncertainty_batch_sampling\n",
    "\n",
    "BATCH_SIZE = 3\n",
    "preset_batch = partial(uncertainty_batch_sampling, n_instances=BATCH_SIZE)\n",
    "learner = ActiveLearner(\n",
    "    estimator=model,\n",
    "    query_strategy=preset_batch, \n",
    "    X_training=X_train, \n",
    "    y_training=y_train\n",
    ")\n",
    "\n",
    "N_QUERIES = 20\n",
    "for i in range (N_QUERIES):\n",
    "    query_index, query_instance = learner.query(X_pool)\n",
    "\n",
    "    learner.teach(X=X_pool[query_index], y=y_pool[query_index])\n",
    "\n",
    "    y_pred = learner.predict(X_test)\n",
    "    accuracy = learner.score(X_test, y_test)\n",
    "    print(f'Accuracy after query {i}: {accuracy}')"
   ]
  }
 ],
 "metadata": {
  "kernelspec": {
   "display_name": "jupyter-env",
   "language": "python",
   "name": "jupyter-env"
  },
  "language_info": {
   "codemirror_mode": {
    "name": "ipython",
    "version": 3
   },
   "file_extension": ".py",
   "mimetype": "text/x-python",
   "name": "python",
   "nbconvert_exporter": "python",
   "pygments_lexer": "ipython3",
   "version": "3.8.10"
  }
 },
 "nbformat": 4,
 "nbformat_minor": 5
}
