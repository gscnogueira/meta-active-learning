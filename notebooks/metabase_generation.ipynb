{
 "cells": [
  {
   "cell_type": "markdown",
   "id": "46550f8f-da48-41c3-b3c5-7b8594dc22e6",
   "metadata": {},
   "source": [
    "# Criação de Meta-Base"
   ]
  },
  {
   "cell_type": "markdown",
   "id": "bc034768-48b4-4e09-a32b-e4f2908f1918",
   "metadata": {},
   "source": [
    "## Considerações sobre Aprendizado Ativo"
   ]
  },
  {
   "cell_type": "markdown",
   "id": "113f547b-813f-40a3-bc17-2f71318ff59d",
   "metadata": {},
   "source": [
    "Para que os experimentos sejam executados, é necessária a criação de uma meta-base a respeito do processo de **aprendizado ativo** (AL).  Contudo, algumas variáveis podem influenciar diretamente o processo de aprendizado ativo, sendo elas:\n",
    "\n",
    "- Quantidade Inicial de Dados Rotulados (  $\\vert X^0_{labeled}\\vert$ )\n",
    "- Quantidade de consultas a serem realizados ($q$)\n",
    "- Estratégia de consulta utilizada (*query strategy*)\n",
    "- Quantidade de instâncias retornadas por uma consulta (*batch size*)\n",
    "- Método utilizado para ordenar as instâncias retornadas por uma consulta\n",
    "- Tamanho do conjunto de teste para avaliar o aprendizado\n"
   ]
  },
  {
   "cell_type": "markdown",
   "id": "ae4761ef-4812-442e-8f41-ea26dafb3347",
   "metadata": {},
   "source": [
    "### Quantidade Inicial de Dados Rotulados"
   ]
  },
  {
   "cell_type": "markdown",
   "id": "186072c3-6a2d-491e-ade7-79100b5919d1",
   "metadata": {},
   "source": [
    "Em tese, a ideia principal do AL é tentar popuar esforços de anotação ao rotular as instâncias que melhor descrevem um conjunto de dados. Dessa forma, na maioria dos casos lidamos com situações em que há uma pequena quantidade de instâncias rotuladas, apenas o suficiente para iniciar o processo de aprenzidado ativo"
   ]
  },
  {
   "cell_type": "markdown",
   "id": "745922f8-35f2-44df-81fb-c19dff6de4c3",
   "metadata": {},
   "source": [
    "> Qual a quantidade ideal de dados anotados inicialmente? "
   ]
  },
  {
   "cell_type": "markdown",
   "id": "40fbfd72-93ac-4f2a-b4bc-c91ac854dd5b",
   "metadata": {},
   "source": [
    "Como o nosso objetivo é simular várias configurações diferentes de active learning para cada uma das bases, é necessário pensar em alguma manera de deixar esse processo o mais reprodutível possível, algumas ideias são: \n",
    "\n",
    "1.  $\\vert X_{labeled} \\vert = n$, onde $n$ representa uma constante arbitrária\n",
    "2.  $\\vert X_{labeled} \\vert = c$, onde $c$ representa o número de classes no problema de classificação\n",
    "2.  $\\vert X_{labeled} \\vert = \\alpha\\times\\vert X\\vert$, onde $\\alpha \\in (0, 1]$ representa uma constante de proporcionalidade"
   ]
  },
  {
   "cell_type": "markdown",
   "id": "cf2888e1-7a96-4fcd-baed-a743c5f83fc9",
   "metadata": {},
   "source": [
    "### Quantidade de consultas a serem realizadas"
   ]
  },
  {
   "cell_type": "markdown",
   "id": "84d97b62-6803-4862-ad82-99943b88431e",
   "metadata": {},
   "source": [
    "Como a quantidade de instâncias varia conforme o conjunto de dados, também devemos decidir como escolheremos esse parâmetro. Dessa forma podemos utilizar soluções similares às citadas acima, porém baseado no tamanho do conjunto de dados"
   ]
  },
  {
   "cell_type": "markdown",
   "id": "1062c746-3b60-4e04-9e7a-cc39a0ec56da",
   "metadata": {},
   "source": [
    "### Estratégia de Consulta"
   ]
  },
  {
   "cell_type": "markdown",
   "id": "e1acc331-ff96-47a7-ad89-0482b4684b43",
   "metadata": {},
   "source": [
    "Estratégias baseadas na incerteza de um classificador:\n",
    "- [ ] Classification Uncertainty \n",
    "- [ ] Classification Margin\n",
    "- [ ] Classification Entropy\n"
   ]
  },
  {
   "cell_type": "markdown",
   "id": "e3290dde-cb2c-4c92-909a-1c13bbeb80ab",
   "metadata": {},
   "source": [
    "Estratégias baseadas em discordância entre modelos\n",
    "\n",
    "- [ ] Vote Entropy\n",
    "- [ ] Consensus Entropy\n",
    "- [ ] Max Disagreement"
   ]
  },
  {
   "cell_type": "markdown",
   "id": "8debd384-ce07-4288-a02f-2c54494867f9",
   "metadata": {},
   "source": [
    "### Quantidade de instâncias retornadas por consulta"
   ]
  },
  {
   "cell_type": "markdown",
   "id": "65c2a4ef-2071-44e7-8088-6912bc1dace6",
   "metadata": {},
   "source": [
    "Originalmente, as estratégias de consulta está preocupadas em selecionar a instância mais interessante para ser rotulado, contudo o que ocorre geralmente é que o anotador não está disposto a anotar apenas uma instância e esperar uma próxima iteração do processo de AL ser executado novamente. Muito tempo e recursos podem ser otimizados se mais de uma instância for retornada por consulta.\n",
    "\n",
    "Todavia, simplesmente retornar as $n$ consultas com a maior pontuação, pode não ser uma boa ideia (embora as vezes seja uma alternativa). Sendo assim Cardoso et. al formularam uma maneira de ranquear essas instâncias"
   ]
  },
  {
   "cell_type": "markdown",
   "id": "02851b31-f35f-4042-b407-b87ddd6cbd76",
   "metadata": {},
   "source": [
    "$score = \\alpha(1 - \\Phi(x, X_{labeled})) + (1 - \\alpha) U(x),$ "
   ]
  },
  {
   "cell_type": "markdown",
   "id": "fb926cca-b63a-4447-b7e5-c38861b0c8b7",
   "metadata": {},
   "source": [
    "Onde $\\alpha = \\frac{|X_{unlabeled}|}{|X_{unlabeled}| + |X_{labeled}|}$, $U(x)$ é a incerteza das predições para $x$ e $\\Phi$ é uma função de similaridade. Dessa forma é possível medir o quão bem o espaço de características foi explorado perto de $x$"
   ]
  },
  {
   "cell_type": "markdown",
   "id": "91e0f9cd-937e-4f52-9389-5340952920c2",
   "metadata": {},
   "source": [
    "## Criação de Meta-base"
   ]
  },
  {
   "cell_type": "markdown",
   "id": "6f05694d-39e6-4f6d-aed9-4d44c42df931",
   "metadata": {},
   "source": [
    "### Simulação de Cenário"
   ]
  },
  {
   "cell_type": "code",
   "execution_count": 142,
   "id": "392e1adb-58d8-4240-881b-76cc8e4fe13d",
   "metadata": {},
   "outputs": [],
   "source": [
    "import os\n",
    "import warnings\n",
    "from typing import Union\n",
    "from functools import partial\n",
    "\n",
    "from modAL import ActiveLearner\n",
    "from pymfe.mfe import MFE\n",
    "from sklearn.compose import ColumnTransformer\n",
    "from sklearn.metrics import classification_report\n",
    "from sklearn.model_selection import train_test_split\n",
    "from sklearn.preprocessing import OneHotEncoder\n",
    "from sklearn.exceptions import ConvergenceWarning\n",
    "from tqdm.notebook import tqdm\n",
    "import matplotlib.pyplot as plt\n",
    "import numpy as np\n",
    "import openml\n",
    "import pandas as pd\n",
    "\n",
    "\n",
    "\n",
    "\n",
    "\n",
    "class ActiveLearningSimulator:\n",
    "    def __init__(self, dataset:openml.datasets.OpenMLDataset, test_size=None):\n",
    "\n",
    "        self.dataset = dataset\n",
    "\n",
    "        X, y, categorical_indicator, _ = dataset.get_data(\n",
    "            target=dataset.default_target_attribute)\n",
    "        \n",
    "        encoder = OneHotEncoder(handle_unknown='ignore')\n",
    "\n",
    "        transformers = [('one-hot-encoder', encoder, categorical_indicator)]\n",
    "        \n",
    "        preprocessor = ColumnTransformer(transformers, remainder='passthrough')\n",
    "\n",
    "        self.X = preprocessor.fit_transform(X)\n",
    "        self.y = y.to_numpy()\n",
    "\n",
    "        X_train, X_test, y_train, y_test = train_test_split(\n",
    "            self.X, self.y, stratify=y, test_size=test_size)\n",
    "            \n",
    "        self.training_index = self.gen_initial_training_index(y_train)\n",
    "\n",
    "        self.X_train, self.y_train = X_train, y_train\n",
    "        self.X_test, self.y_test = X_test, y_test\n",
    "\n",
    "        self.results_path = f'{dataset.id}_{dataset.name}'\n",
    "        \n",
    "        try:\n",
    "            os.mkdir(self.results_path)\n",
    "        except FileExistsError:\n",
    "            pass\n",
    "            \n",
    "    def gen_initial_training_index(self, y):\n",
    "        return [np.random.choice(np.where(y == cls)[0])\n",
    "                for cls in np.unique(y)]\n",
    "            \n",
    "    def run(self, model, query_strategy, num_queries: int, batch_size: int = 1, extract_mf=True, plot_result=True):\n",
    "\n",
    "        warnings.simplefilter(action='ignore', category=ConvergenceWarning)\n",
    "\n",
    "        X_training = self.X_train[self.training_index]\n",
    "        y_training = self.y_train[self.training_index]\n",
    "\n",
    "        X_pool = np.delete(self.X_train, self.training_index, axis=0)\n",
    "        y_pool = np.delete(self.y_train, self.training_index, axis=0)\n",
    "        \n",
    "        learner = ActiveLearner(\n",
    "            estimator=model,\n",
    "            query_strategy=partial(query_strategy, n_instances=batch_size),\n",
    "            X_training=X_training,\n",
    "            y_training=y_training)\n",
    "\n",
    "        y_pred = learner.predict(self.X_test)\n",
    "        unqueried_score = classification_report(y_pred, self.y_test, output_dict=True, zero_division=0)\n",
    "        performance_history = [unqueried_score]\n",
    "        \n",
    "        pbar = tqdm(range(num_queries), leave=False)\n",
    "        for i in pbar:\n",
    "            pbar.set_description(\n",
    "                desc=f'{type(model).__name__, query_strategy.__name__}',\n",
    "                refresh=True)\n",
    "\n",
    "            mfs = (self.extract_mf(X_pool, y_pool, supress_warnings=True) \n",
    "                   if extract_mf else dict())\n",
    "            \n",
    "            query_index, query_instance = learner.query(X_pool)\n",
    "            learner.teach(X=X_pool[query_index], y=y_pool[query_index])\n",
    "\n",
    "            X_pool = np.delete(X_pool, query_index, axis=0)\n",
    "            y_pool = np.delete(y_pool, query_index, axis=0)\n",
    "\n",
    "            y_pred = learner.predict(self.X_test)\n",
    "            model_score = classification_report(y_pred, self.y_test, output_dict=True, zero_division=0)\n",
    "            performance_history.append(model_score)\n",
    "            \n",
    "            pbar.set_postfix(\n",
    "                U=len(X_pool),\n",
    "                L=len(learner.X_training),\n",
    "                accuracy=model_score['accuracy'],\n",
    "                f1_score=model_score['weighted avg']['f1-score'],\n",
    "                refresh=True)\n",
    "\n",
    "            self.save_mf(i, mfs, model_score, \n",
    "                        model=model,\n",
    "                        query_strategy=query_strategy,\n",
    "                        num_queries=num_queries,\n",
    "                        batch_size=batch_size)\n",
    "        pbar.close()\n",
    "\n",
    "        if plot_result:\n",
    "            self.plot_result(performance_history)\n",
    "            \n",
    "        return performance_history\n",
    "\n",
    "    def extract_mf(self, X, y, supress_warnings=False):\n",
    "        with warnings.catch_warnings():\n",
    "            if supress_warnings:\n",
    "                warnings.simplefilter(\"ignore\")\n",
    "            extractor = MFE(groups='all') \n",
    "            extractor.fit(X, y, supress_warnings=supress_warnings)\n",
    "            results = extractor.extract(suppress_warnings=supress_warnings)\n",
    "\n",
    "        record = {k: v for k, v in zip(*results)}\n",
    "        return record\n",
    "        \n",
    "    def save_mf(self, q_number, metafeatures, scores, **kwargs):\n",
    "        df = pd.DataFrame.from_records([metafeatures])\n",
    "        df['accuracy'] = scores['accuracy']\n",
    "        df['f1-macro'] = scores['macro avg']['f1-score']\n",
    "        df['f1-weighted'] = scores['weighted avg']['f1-score']\n",
    "        df['query_number'] = q_number\n",
    "\n",
    "        df.set_index('query_number', inplace=True)\n",
    "        \n",
    "        model = type(kwargs['model']).__name__\n",
    "        q_strategy = kwargs['query_strategy'].__name__\n",
    "        n_queries = kwargs['num_queries']\n",
    "        batch_size = kwargs['batch_size']\n",
    "        \n",
    "        file_name = f'{model}_{q_strategy}_{n_queries}_{batch_size}.csv'\n",
    "\n",
    "        file_path = os.path.join(self.results_path, file_name)\n",
    "        \n",
    "        df.to_csv(file_path, mode='a', header=not os.path.exists(file_path))\n",
    "\n",
    "    def plot_result(self, performance_history):\n",
    "        df = pd.DataFrame.from_records([e['weighted avg'] for e in performance_history])\n",
    "        df['accuracy'] = [e['accuracy'] for e in performance_history]\n",
    "        \n",
    "        df.drop(columns=['support'], inplace=True)\n",
    "        \n",
    "        df.plot(subplots=True, layout=(2,2), grid=True,\n",
    "                title = f\"Performance x Query ({dataset.qualities['NumberOfClasses']} classes)\",\n",
    "                ylim=(0,1))\n",
    "        \n",
    "        plt.show()"
   ]
  },
  {
   "cell_type": "markdown",
   "id": "db33f6cb-ad00-438b-8c82-1a1c79dfca4a",
   "metadata": {},
   "source": [
    "Instanciação de base exemplo"
   ]
  },
  {
   "cell_type": "code",
   "execution_count": 94,
   "id": "3a7c0777-c92e-420b-8090-7a2deeb96afb",
   "metadata": {},
   "outputs": [
    {
     "name": "stderr",
     "output_type": "stream",
     "text": [
      "/tmp/ipykernel_720803/3011865225.py:3: FutureWarning: Starting from Version 0.15 `download_data`, `download_qualities`, and `download_features_meta_data` will all be ``False`` instead of ``True`` by default to enable lazy loading. To disable this message until version 0.15 explicitly set `download_data`, `download_qualities`, and `download_features_meta_data` to a bool while calling `get_dataset`.\n",
      "  dataset = openml.datasets.get_dataset(dataset_ids[0])\n"
     ]
    }
   ],
   "source": [
    "from config import dataset_ids\n",
    "\n",
    "dataset = openml.datasets.get_dataset(dataset_ids[0])"
   ]
  },
  {
   "cell_type": "markdown",
   "id": "9c4dc9e1-b311-4105-b837-74e626a7dec7",
   "metadata": {},
   "source": [
    "Testando configuração"
   ]
  },
  {
   "cell_type": "code",
   "execution_count": 115,
   "id": "cb49c590-3be0-4921-b472-8d1410fbd5c1",
   "metadata": {},
   "outputs": [
    {
     "name": "stdout",
     "output_type": "stream",
     "text": [
      "Automatic pdb calling has been turned OFF\n"
     ]
    },
    {
     "data": {
      "application/vnd.jupyter.widget-view+json": {
       "model_id": "cfc259d15ae84f5db32ce011e0916f76",
       "version_major": 2,
       "version_minor": 0
      },
      "text/plain": [
       "  0%|          | 0/100 [00:00<?, ?it/s]"
      ]
     },
     "metadata": {},
     "output_type": "display_data"
    },
    {
     "data": {
      "image/png": "[encoded data removed]",
      "text/plain": [
       "<Figure size 640x480 with 4 Axes>"
      ]
     },
     "metadata": {},
     "output_type": "display_data"
    }
   ],
   "source": [
    "%pdb 0\n",
    "from sklearn.svm import SVC, LinearSVC\n",
    "from sklearn.neighbors import KNeighborsClassifier\n",
    "from modAL.uncertainty import uncertainty_sampling\n",
    "from modAL.batch import uncertainty_batch_sampling\n",
    "\n",
    "\n",
    "\n",
    "simulator = ActiveLearningSimulator(dataset)\n",
    "\n",
    "performance_history = simulator.run(model=SVC(probability=True),\n",
    "                                    query_strategy=uncertainty_sampling,\n",
    "                                    num_queries=100,batch_size=2)"
   ]
  },
  {
   "cell_type": "markdown",
   "id": "c4efa123-82f4-4c76-b792-1b5d821e7675",
   "metadata": {},
   "source": [
    "### Definindo Cenários"
   ]
  },
  {
   "cell_type": "markdown",
   "id": "f1d7c794-d7fc-41ad-8a5c-0505751b0fb4",
   "metadata": {},
   "source": [
    "#### Classificadores"
   ]
  },
  {
   "cell_type": "code",
   "execution_count": 136,
   "id": "49059474-c155-4a93-b1a7-deb29d332e4a",
   "metadata": {},
   "outputs": [],
   "source": [
    "from sklearn.svm import LinearSVC, SVC\n",
    "from sklearn.ensemble import RandomForestClassifier\n",
    "from sklearn.neighbors import KNeighborsClassifier\n",
    "from sklearn.neural_network import MLPClassifier\n",
    "from sklearn.linear_model import LogisticRegression\n",
    "from sklearn.tree import DecisionTreeClassifier\n",
    "from sklearn.naive_bayes import GaussianNB\n",
    "\n",
    "class SVCLinear(SVC):\n",
    "    pass\n",
    "    \n",
    "clf_list = [SVCLinear(kernel='linear', probability=True),\n",
    "            SVC(probability=True),\n",
    "            RandomForestClassifier(),\n",
    "            KNeighborsClassifier(\n",
    "                n_neighbors=int(dataset.qualities[\"NumberOfClasses\"])),\n",
    "            MLPClassifier(),\n",
    "            LogisticRegression(),\n",
    "            DecisionTreeClassifier(),\n",
    "            GaussianNB(),\n",
    "]"
   ]
  },
  {
   "cell_type": "markdown",
   "id": "0e91df1b-23b7-40c8-a14f-41826036f70a",
   "metadata": {},
   "source": [
    "#### Estratégias de consulta"
   ]
  },
  {
   "cell_type": "code",
   "execution_count": 127,
   "id": "42d6c895-f18c-4137-8506-5148286eb9cb",
   "metadata": {},
   "outputs": [],
   "source": [
    "from modAL.uncertainty import uncertainty_sampling, margin_sampling, entropy_sampling\n",
    "from modAL.batch import uncertainty_batch_sampling\n",
    "\n",
    "query_strategies = [ \n",
    "    uncertainty_sampling,\n",
    "    uncertainty_batch_sampling, \n",
    "    margin_sampling,\n",
    "    entropy_sampling\n",
    "]"
   ]
  },
  {
   "cell_type": "markdown",
   "id": "421c18ca-78fe-4a35-a4d0-a4a01fdfd2fb",
   "metadata": {},
   "source": [
    "#### Teste"
   ]
  },
  {
   "cell_type": "code",
   "execution_count": null,
   "id": "9d97fa05-7de4-4ea4-8679-48b0c4a2b24b",
   "metadata": {},
   "outputs": [
    {
     "data": {
      "application/vnd.jupyter.widget-view+json": {
       "model_id": "",
       "version_major": 2,
       "version_minor": 0
      },
      "text/plain": [
       "  0%|          | 0/20 [00:00<?, ?it/s]"
      ]
     },
     "metadata": {},
     "output_type": "display_data"
    },
    {
     "data": {
      "application/vnd.jupyter.widget-view+json": {
       "model_id": "",
       "version_major": 2,
       "version_minor": 0
      },
      "text/plain": [
       "  0%|          | 0/20 [00:00<?, ?it/s]"
      ]
     },
     "metadata": {},
     "output_type": "display_data"
    },
    {
     "data": {
      "application/vnd.jupyter.widget-view+json": {
       "model_id": "",
       "version_major": 2,
       "version_minor": 0
      },
      "text/plain": [
       "  0%|          | 0/20 [00:00<?, ?it/s]"
      ]
     },
     "metadata": {},
     "output_type": "display_data"
    },
    {
     "data": {
      "application/vnd.jupyter.widget-view+json": {
       "model_id": "",
       "version_major": 2,
       "version_minor": 0
      },
      "text/plain": [
       "  0%|          | 0/20 [00:00<?, ?it/s]"
      ]
     },
     "metadata": {},
     "output_type": "display_data"
    },
    {
     "data": {
      "application/vnd.jupyter.widget-view+json": {
       "model_id": "",
       "version_major": 2,
       "version_minor": 0
      },
      "text/plain": [
       "  0%|          | 0/20 [00:00<?, ?it/s]"
      ]
     },
     "metadata": {},
     "output_type": "display_data"
    },
    {
     "data": {
      "application/vnd.jupyter.widget-view+json": {
       "model_id": "",
       "version_major": 2,
       "version_minor": 0
      },
      "text/plain": [
       "  0%|          | 0/20 [00:00<?, ?it/s]"
      ]
     },
     "metadata": {},
     "output_type": "display_data"
    },
    {
     "data": {
      "application/vnd.jupyter.widget-view+json": {
       "model_id": "",
       "version_major": 2,
       "version_minor": 0
      },
      "text/plain": [
       "  0%|          | 0/20 [00:00<?, ?it/s]"
      ]
     },
     "metadata": {},
     "output_type": "display_data"
    },
    {
     "data": {
      "application/vnd.jupyter.widget-view+json": {
       "model_id": "",
       "version_major": 2,
       "version_minor": 0
      },
      "text/plain": [
       "  0%|          | 0/20 [00:00<?, ?it/s]"
      ]
     },
     "metadata": {},
     "output_type": "display_data"
    },
    {
     "data": {
      "application/vnd.jupyter.widget-view+json": {
       "model_id": "",
       "version_major": 2,
       "version_minor": 0
      },
      "text/plain": [
       "  0%|          | 0/20 [00:00<?, ?it/s]"
      ]
     },
     "metadata": {},
     "output_type": "display_data"
    },
    {
     "data": {
      "application/vnd.jupyter.widget-view+json": {
       "model_id": "f8ca6e3d64e948768174764a8bf20d86",
       "version_major": 2,
       "version_minor": 0
      },
      "text/plain": [
       "  0%|          | 0/20 [00:00<?, ?it/s]"
      ]
     },
     "metadata": {},
     "output_type": "display_data"
    }
   ],
   "source": [
    "simulator = ActiveLearningSimulator(dataset)\n",
    "\n",
    "for query_strategy in query_strategies:\n",
    "    for clf in clf_list:\n",
    "        simulator.run(model=clf,\n",
    "                      query_strategy=query_strategy,\n",
    "                      num_queries=20,\n",
    "                      batch_size=5,\n",
    "                      extract_mf=False,plot_result=False)\n",
    "                      "
   ]
  }
 ],
 "metadata": {
  "kernelspec": {
   "display_name": "jupyter-env",
   "language": "python",
   "name": "jupyter-env"
  },
  "language_info": {
   "codemirror_mode": {
    "name": "ipython",
    "version": 3
   },
   "file_extension": ".py",
   "mimetype": "text/x-python",
   "name": "python",
   "nbconvert_exporter": "python",
   "pygments_lexer": "ipython3",
   "version": "3.8.10"
  }
 },
 "nbformat": 4,
 "nbformat_minor": 5
}
