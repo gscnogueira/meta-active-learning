{
 "cells": [
  {
   "cell_type": "markdown",
   "id": "46550f8f-da48-41c3-b3c5-7b8594dc22e6",
   "metadata": {},
   "source": [
    "# Criação de Meta-Base"
   ]
  },
  {
   "cell_type": "markdown",
   "id": "bc034768-48b4-4e09-a32b-e4f2908f1918",
   "metadata": {},
   "source": [
    "## Considerações sobre Aprendizado Ativo"
   ]
  },
  {
   "cell_type": "markdown",
   "id": "113f547b-813f-40a3-bc17-2f71318ff59d",
   "metadata": {},
   "source": [
    "Para que os experimentos sejam executados, é necessária a criação de uma meta-base a respeito do processo de **aprendizado ativo** (AL).  Contudo, algumas variáveis podem influenciar diretamente o processo de aprendizado ativo, sendo elas:\n",
    "\n",
    "- Quantidade Inicial de Dados Rotulados (  $\\vert X^0_{labeled}\\vert$ )\n",
    "- Quantidade de consultas a serem realizados ($q$)\n",
    "- Estratégia de consulta utilizada (*query strategy*)\n",
    "- Quantidade de instâncias retornadas por uma consulta (*batch size*)\n",
    "- Método utilizado para ordenar as instâncias retornadas por uma consulta\n",
    "- Tamanho do conjunto de teste para avaliar o aprendizado\n"
   ]
  },
  {
   "cell_type": "markdown",
   "id": "ae4761ef-4812-442e-8f41-ea26dafb3347",
   "metadata": {},
   "source": [
    "### Quantidade Inicial de Dados Rotulados"
   ]
  },
  {
   "cell_type": "markdown",
   "id": "186072c3-6a2d-491e-ade7-79100b5919d1",
   "metadata": {},
   "source": [
    "Em tese, a ideia principal do AL é tentar popuar esforços de anotação ao rotular as instâncias que melhor descrevem um conjunto de dados. Dessa forma, na maioria dos casos lidamos com situações em que há uma pequena quantidade de instâncias rotuladas, apenas o suficiente para iniciar o processo de aprenzidado ativo"
   ]
  },
  {
   "cell_type": "markdown",
   "id": "745922f8-35f2-44df-81fb-c19dff6de4c3",
   "metadata": {},
   "source": [
    "> Qual a quantidade ideal de dados anotados inicialmente? "
   ]
  },
  {
   "cell_type": "markdown",
   "id": "40fbfd72-93ac-4f2a-b4bc-c91ac854dd5b",
   "metadata": {},
   "source": [
    "Como o nosso objetivo é simular várias configurações diferentes de active learning para cada uma das bases, é necessário pensar em alguma manera de deixar esse processo o mais reprodutível possível, algumas ideias são: \n",
    "\n",
    "1.  $\\vert X_{labeled} \\vert = n$, onde $n$ representa uma constante arbitrária\n",
    "2.  $\\vert X_{labeled} \\vert = c$, onde $c$ representa o número de classes no problema de classificação\n",
    "2.  $\\vert X_{labeled} \\vert = \\alpha\\times\\vert X\\vert$, onde $\\alpha \\in (0, 1]$ representa uma constante de proporcionalidade"
   ]
  },
  {
   "cell_type": "markdown",
   "id": "cf2888e1-7a96-4fcd-baed-a743c5f83fc9",
   "metadata": {},
   "source": [
    "### Quantidade de consultas a serem realizadas"
   ]
  },
  {
   "cell_type": "markdown",
   "id": "84d97b62-6803-4862-ad82-99943b88431e",
   "metadata": {},
   "source": [
    "Como a quantidade de instâncias varia conforme o conjunto de dados, também devemos decidir como escolheremos esse parâmetro. Dessa forma podemos utilizar soluções similares às citadas acima, porém baseado no tamanho do conjunto de dados"
   ]
  },
  {
   "cell_type": "markdown",
   "id": "1062c746-3b60-4e04-9e7a-cc39a0ec56da",
   "metadata": {},
   "source": [
    "### Estratégia de Consulta"
   ]
  },
  {
   "cell_type": "markdown",
   "id": "e1acc331-ff96-47a7-ad89-0482b4684b43",
   "metadata": {},
   "source": [
    "Estratégias baseadas na incerteza de um classificador:\n",
    "- [ ] Classification Uncertainty \n",
    "- [ ] Classification Margin\n",
    "- [ ] Classification Entropy\n"
   ]
  },
  {
   "cell_type": "markdown",
   "id": "e3290dde-cb2c-4c92-909a-1c13bbeb80ab",
   "metadata": {},
   "source": [
    "Estratégias baseadas em discordância entre modelos\n",
    "\n",
    "- [ ] Vote Entropy\n",
    "- [ ] Consensus Entropy\n",
    "- [ ] Max Disagreement"
   ]
  },
  {
   "cell_type": "markdown",
   "id": "8debd384-ce07-4288-a02f-2c54494867f9",
   "metadata": {},
   "source": [
    "### Quantidade de instâncias retornadas por consulta"
   ]
  },
  {
   "cell_type": "markdown",
   "id": "65c2a4ef-2071-44e7-8088-6912bc1dace6",
   "metadata": {},
   "source": [
    "Originalmente, as estratégias de consulta está preocupadas em selecionar a instância mais interessante para ser rotulado, contudo o que ocorre geralmente é que o anotador não está disposto a anotar apenas uma instância e esperar uma próxima iteração do processo de AL ser executado novamente. Muito tempo e recursos podem ser otimizados se mais de uma instância for retornada por consulta.\n",
    "\n",
    "Todavia, simplesmente retornar as $n$ consultas com a maior pontuação, pode não ser uma boa ideia (embora as vezes seja uma alternativa). Sendo assim Cardoso et. al formularam uma maneira de ranquear essas instâncias"
   ]
  },
  {
   "cell_type": "markdown",
   "id": "02851b31-f35f-4042-b407-b87ddd6cbd76",
   "metadata": {},
   "source": [
    "$score = \\alpha(1 - \\Phi(x, X_{labeled})) + (1 - \\alpha) U(x),$ "
   ]
  },
  {
   "cell_type": "markdown",
   "id": "fb926cca-b63a-4447-b7e5-c38861b0c8b7",
   "metadata": {},
   "source": [
    "Onde $\\alpha = \\frac{|X_{unlabeled}|}{|X_{unlabeled}| + |X_{labeled}|}$, $U(x)$ é a incerteza das predições para $x$ e $\\Phi$ é uma função de similaridade. Dessa forma é possível medir o quão bem o espaço de características foi explorado perto de $x$"
   ]
  },
  {
   "cell_type": "markdown",
   "id": "91e0f9cd-937e-4f52-9389-5340952920c2",
   "metadata": {},
   "source": [
    "## Criação de Meta-base"
   ]
  },
  {
   "cell_type": "markdown",
   "id": "6f05694d-39e6-4f6d-aed9-4d44c42df931",
   "metadata": {},
   "source": [
    "### Simulação de Cenário"
   ]
  },
  {
   "cell_type": "code",
   "execution_count": 1,
   "id": "392e1adb-58d8-4240-881b-76cc8e4fe13d",
   "metadata": {
    "scrolled": true
   },
   "outputs": [],
   "source": [
    "from functools import partial\n",
    "from typing import Union\n",
    "import warnings\n",
    "\n",
    "from modAL.models import ActiveLearner, Committee\n",
    "from sklearn import metrics\n",
    "from sklearn.compose import ColumnTransformer\n",
    "from sklearn.exceptions import ConvergenceWarning\n",
    "from sklearn.model_selection import train_test_split\n",
    "from sklearn.preprocessing import OneHotEncoder, LabelEncoder\n",
    "from tqdm.notebook import tqdm\n",
    "import numpy as np\n",
    "import openml\n",
    "import pandas as pd\n",
    "\n",
    "# Query Strategies\n",
    "from modAL.uncertainty import uncertainty_sampling, margin_sampling, entropy_sampling\n",
    "from modAL.disagreement import vote_entropy_sampling, consensus_entropy_sampling, max_disagreement_sampling\n",
    "from modAL.batch import uncertainty_batch_sampling\n",
    "\n",
    "\n",
    "class MetaBaseBuilder:\n",
    "    uncertainty_strategies = [\n",
    "        uncertainty_sampling,\n",
    "        uncertainty_batch_sampling,\n",
    "        margin_sampling,\n",
    "        entropy_sampling,\n",
    "    ]\n",
    "    disagreement_strategies = [\n",
    "        vote_entropy_sampling,\n",
    "        consensus_entropy_sampling,\n",
    "        max_disagreement_sampling\n",
    "    ]\n",
    "    \n",
    "    def __init__(self, estimators,\n",
    "                 query_strategies,\n",
    "                 n_queries=50,\n",
    "                 batch_size=5,\n",
    "                 committee_size=3,\n",
    "                 initial_l_size=-1, ):\n",
    "        self.__estimators = estimators\n",
    "        self.__query_strategies = query_strategies\n",
    "        self.__n_queries = n_queries\n",
    "        self.__batch_size = batch_size\n",
    "        self.__committee_size = committee_size\n",
    "        self.__initial_l_size = initial_l_size\n",
    "\n",
    "    def build(self, dataset: openml.datasets.OpenMLDataset):\n",
    "        # fazer tratamento de dados\n",
    "        X, y = self.__load_data(dataset)\n",
    "\n",
    "        self.classes_ = np.unique(y)\n",
    "        \n",
    "        X_train, X_test, y_train, y_test = train_test_split(X, y, stratify=y)\n",
    "\n",
    "        # Faz com que inicialmente haja uma instância rotulada por classe\n",
    "        labeled_index = [np.random.choice(np.where(y_train == cls)[0])\n",
    "                         for cls in np.unique(y_train)]\n",
    "\n",
    "        if len(labeled_index) < self.__initial_l_size:\n",
    "            additional_index = np.random.choice(len(y_train),\n",
    "                                                    size=self.__initial_l_size,\n",
    "                                                    replace=False)\n",
    "            labeled_index.extend(additional_index.tolist())\n",
    "\n",
    "        l_X_pool = X_train[labeled_index]\n",
    "        l_y_pool = y_train[labeled_index]\n",
    "\n",
    "        u_X_pool = np.delete(X_train, labeled_index, axis=0)\n",
    "        u_y_pool = np.delete(y_train, labeled_index, axis=0)\n",
    "\n",
    "        with warnings.catch_warnings():\n",
    "            \n",
    "            warnings.filterwarnings(\"ignore\", category=ConvergenceWarning)\n",
    "            \n",
    "            learners = self.__build_learners(l_X_pool, l_y_pool)\n",
    "\n",
    "            for learner in learners:\n",
    "                self.__teach_learner(learner, u_X_pool, u_y_pool,\n",
    "                                     X_test, y_test)\n",
    "\n",
    "    def __load_data(self, dataset: openml.datasets.OpenMLDataset):\n",
    "        X, y, categorical_indicator, _ = dataset.get_data(\n",
    "            target=dataset.default_target_attribute)\n",
    "\n",
    "        encoder = OneHotEncoder(handle_unknown='ignore', sparse_output=False)\n",
    "        transformers = [('one-hot-encoder', encoder, categorical_indicator)]\n",
    "\n",
    "        preprocessor = ColumnTransformer(transformers, remainder='passthrough')\n",
    "\n",
    "        le = LabelEncoder()\n",
    "\n",
    "        X, y = preprocessor.fit_transform(X), le.fit_transform(y)\n",
    "\n",
    "        return X, y\n",
    "\n",
    "    def __build_learners(self, X_training, y_training):\n",
    "        return [self.__build_learner(estimator, strategy,\n",
    "                                     X_training, y_training)\n",
    "                for estimator in self.__estimators\n",
    "                for strategy in self.__query_strategies]\n",
    "\n",
    "    def __build_learner(self, estimator, strategy,\n",
    "                        X_training, y_training):\n",
    "\n",
    "        query_strategy = partial(strategy,\n",
    "                                 n_instances=self.__batch_size)\n",
    "\n",
    "        # Copia o nome para facilitar debbug\n",
    "        query_strategy.__name__ = strategy.__name__\n",
    "\n",
    "        args = {\n",
    "            'estimator': estimator,\n",
    "            'query_strategy': query_strategy,\n",
    "            'X_training': X_training,\n",
    "            'y_training': y_training\n",
    "        }\n",
    "\n",
    "        if strategy in self.uncertainty_strategies:\n",
    "            return ActiveLearner(**args)\n",
    "        else:\n",
    "            learner_list = list()\n",
    "\n",
    "            args.pop('query_strategy')\n",
    "            for _ in range(self.__committee_size):\n",
    "                learner = ActiveLearner(**args)\n",
    "                learner_list.append(learner)\n",
    "\n",
    "            committee = Committee(learner_list=learner_list,\n",
    "                                  query_strategy=query_strategy)\n",
    "            return committee\n",
    "\n",
    "    def __teach_learner(self, learner: Union[ActiveLearner, Committee], X_pool, y_pool,\n",
    "                        X_test, y_test):\n",
    "\n",
    "        scores = self.__eval_learner(learner, X_test, y_test)\n",
    "\n",
    "        pbar = tqdm(range(self.__n_queries), leave=False)\n",
    "        estimator = (learner.estimator if isinstance(learner, ActiveLearner)\n",
    "                     else learner.learner_list[0].estimator)\n",
    "\n",
    "        pbar.set_description(\n",
    "            desc=(f'model: {type(estimator).__name__}, '\n",
    "                  f'strategy: {learner.query_strategy.__name__}').rjust(70),\n",
    "            refresh=True)\n",
    "\n",
    "        pbar.set_postfix(\n",
    "            U=X_pool.shape[0],\n",
    "            L=(learner.X_training.shape[0] if not isinstance(learner, Committee)\n",
    "               else learner.learner_list[0].X_training.shape[0]),\n",
    "            **scores,\n",
    "            refresh=True)\n",
    "\n",
    "        for idx in pbar:\n",
    "\n",
    "            query_index, query_instance = learner.query(X_pool)\n",
    "            \n",
    "            learner.teach(X=X_pool[query_index], y=y_pool[query_index])\n",
    "\n",
    "            X_pool = np.delete(X_pool, query_index, axis=0)\n",
    "            y_pool = np.delete(y_pool, query_index, axis=0)\n",
    "\n",
    "            model_score = learner.score(X_test, y_test)\n",
    "\n",
    "            pbar.set_postfix(\n",
    "                U=X_pool.shape[0],\n",
    "                L=(learner.X_training.shape[0] if not isinstance(learner, Committee)\n",
    "                   else learner.learner_list[0].X_training.shape[0]),\n",
    "                accuracy=model_score,\n",
    "                refresh=True)\n",
    "            \n",
    "        pbar.close()\n",
    "        \n",
    "    def __eval_learner(self, learner: ActiveLearner, X, y_true):\n",
    "        y_pred = learner.predict(X)\n",
    "        scores = dict()\n",
    "        scores['accuracy'] = metrics.accuracy_score(y_pred, y_true)\n",
    "\n",
    "        return scores"
   ]
  },
  {
   "cell_type": "markdown",
   "id": "f1d7c794-d7fc-41ad-8a5c-0505751b0fb4",
   "metadata": {},
   "source": [
    "#### Classificadores"
   ]
  },
  {
   "cell_type": "code",
   "execution_count": 10,
   "id": "49059474-c155-4a93-b1a7-deb29d332e4a",
   "metadata": {},
   "outputs": [],
   "source": [
    "from sklearn.svm import LinearSVC, SVC\n",
    "from sklearn.ensemble import RandomForestClassifier\n",
    "from sklearn.neighbors import KNeighborsClassifier\n",
    "from sklearn.neural_network import MLPClassifier\n",
    "from sklearn.linear_model import LogisticRegression\n",
    "from sklearn.tree import DecisionTreeClassifier\n",
    "from sklearn.naive_bayes import GaussianNB\n",
    "\n",
    "class SVCLinear(SVC):\n",
    "    pass\n",
    "    \n",
    "clf_list = [SVCLinear(kernel='linear', probability=True),\n",
    "            SVC(probability=True),\n",
    "            RandomForestClassifier(),\n",
    "            KNeighborsClassifier(),\n",
    "            MLPClassifier(),\n",
    "            LogisticRegression(),\n",
    "            DecisionTreeClassifier(),\n",
    "            GaussianNB(),\n",
    "]\n"
   ]
  },
  {
   "cell_type": "markdown",
   "id": "0e91df1b-23b7-40c8-a14f-41826036f70a",
   "metadata": {},
   "source": [
    "#### Estratégias de consulta"
   ]
  },
  {
   "cell_type": "code",
   "execution_count": 3,
   "id": "42d6c895-f18c-4137-8506-5148286eb9cb",
   "metadata": {},
   "outputs": [],
   "source": [
    "query_strategies = [ \n",
    "    uncertainty_sampling,\n",
    "    uncertainty_batch_sampling, \n",
    "    margin_sampling,\n",
    "    entropy_sampling,\n",
    "    consensus_entropy_sampling,\n",
    "    vote_entropy_sampling,\n",
    "    max_disagreement_sampling\n",
    "]"
   ]
  },
  {
   "cell_type": "markdown",
   "id": "880ac3b4-d643-4367-8b33-e196bde5c41a",
   "metadata": {},
   "source": [
    "### Conjuntos de dados"
   ]
  },
  {
   "cell_type": "code",
   "execution_count": 4,
   "id": "06ddfe0e-a703-4e1e-a328-44f99dd4c89e",
   "metadata": {},
   "outputs": [
    {
     "data": {
      "text/plain": [
       "70"
      ]
     },
     "execution_count": 4,
     "metadata": {},
     "output_type": "execute_result"
    }
   ],
   "source": [
    "from config import dataset_ids\n",
    "\n",
    "with warnings.catch_warnings():\n",
    "    warnings.filterwarnings('ignore')\n",
    "    datasets = openml.datasets.get_datasets(dataset_ids)\n",
    "\n",
    "len(datasets)"
   ]
  },
  {
   "cell_type": "markdown",
   "id": "421c18ca-78fe-4a35-a4d0-a4a01fdfd2fb",
   "metadata": {},
   "source": [
    "#### Teste"
   ]
  },
  {
   "cell_type": "code",
   "execution_count": 11,
   "id": "da331dea-19a7-49cb-9a82-9e4cdf9d9e58",
   "metadata": {},
   "outputs": [
    {
     "data": {
      "application/vnd.jupyter.widget-view+json": {
       "model_id": "",
       "version_major": 2,
       "version_minor": 0
      },
      "text/plain": [
       "  0%|          | 0/5 [00:00<?, ?it/s]"
      ]
     },
     "metadata": {},
     "output_type": "display_data"
    },
    {
     "data": {
      "application/vnd.jupyter.widget-view+json": {
       "model_id": "",
       "version_major": 2,
       "version_minor": 0
      },
      "text/plain": [
       "  0%|          | 0/5 [00:00<?, ?it/s]"
      ]
     },
     "metadata": {},
     "output_type": "display_data"
    },
    {
     "data": {
      "application/vnd.jupyter.widget-view+json": {
       "model_id": "",
       "version_major": 2,
       "version_minor": 0
      },
      "text/plain": [
       "  0%|          | 0/5 [00:00<?, ?it/s]"
      ]
     },
     "metadata": {},
     "output_type": "display_data"
    },
    {
     "data": {
      "application/vnd.jupyter.widget-view+json": {
       "model_id": "",
       "version_major": 2,
       "version_minor": 0
      },
      "text/plain": [
       "  0%|          | 0/5 [00:00<?, ?it/s]"
      ]
     },
     "metadata": {},
     "output_type": "display_data"
    },
    {
     "data": {
      "application/vnd.jupyter.widget-view+json": {
       "model_id": "",
       "version_major": 2,
       "version_minor": 0
      },
      "text/plain": [
       "  0%|          | 0/5 [00:00<?, ?it/s]"
      ]
     },
     "metadata": {},
     "output_type": "display_data"
    },
    {
     "data": {
      "application/vnd.jupyter.widget-view+json": {
       "model_id": "",
       "version_major": 2,
       "version_minor": 0
      },
      "text/plain": [
       "  0%|          | 0/5 [00:00<?, ?it/s]"
      ]
     },
     "metadata": {},
     "output_type": "display_data"
    },
    {
     "data": {
      "application/vnd.jupyter.widget-view+json": {
       "model_id": "",
       "version_major": 2,
       "version_minor": 0
      },
      "text/plain": [
       "  0%|          | 0/5 [00:00<?, ?it/s]"
      ]
     },
     "metadata": {},
     "output_type": "display_data"
    },
    {
     "data": {
      "application/vnd.jupyter.widget-view+json": {
       "model_id": "",
       "version_major": 2,
       "version_minor": 0
      },
      "text/plain": [
       "  0%|          | 0/5 [00:00<?, ?it/s]"
      ]
     },
     "metadata": {},
     "output_type": "display_data"
    },
    {
     "data": {
      "application/vnd.jupyter.widget-view+json": {
       "model_id": "",
       "version_major": 2,
       "version_minor": 0
      },
      "text/plain": [
       "  0%|          | 0/5 [00:00<?, ?it/s]"
      ]
     },
     "metadata": {},
     "output_type": "display_data"
    },
    {
     "data": {
      "application/vnd.jupyter.widget-view+json": {
       "model_id": "",
       "version_major": 2,
       "version_minor": 0
      },
      "text/plain": [
       "  0%|          | 0/5 [00:00<?, ?it/s]"
      ]
     },
     "metadata": {},
     "output_type": "display_data"
    },
    {
     "data": {
      "application/vnd.jupyter.widget-view+json": {
       "model_id": "",
       "version_major": 2,
       "version_minor": 0
      },
      "text/plain": [
       "  0%|          | 0/5 [00:00<?, ?it/s]"
      ]
     },
     "metadata": {},
     "output_type": "display_data"
    },
    {
     "data": {
      "application/vnd.jupyter.widget-view+json": {
       "model_id": "",
       "version_major": 2,
       "version_minor": 0
      },
      "text/plain": [
       "  0%|          | 0/5 [00:00<?, ?it/s]"
      ]
     },
     "metadata": {},
     "output_type": "display_data"
    },
    {
     "data": {
      "application/vnd.jupyter.widget-view+json": {
       "model_id": "",
       "version_major": 2,
       "version_minor": 0
      },
      "text/plain": [
       "  0%|          | 0/5 [00:00<?, ?it/s]"
      ]
     },
     "metadata": {},
     "output_type": "display_data"
    },
    {
     "data": {
      "application/vnd.jupyter.widget-view+json": {
       "model_id": "",
       "version_major": 2,
       "version_minor": 0
      },
      "text/plain": [
       "  0%|          | 0/5 [00:00<?, ?it/s]"
      ]
     },
     "metadata": {},
     "output_type": "display_data"
    },
    {
     "data": {
      "application/vnd.jupyter.widget-view+json": {
       "model_id": "",
       "version_major": 2,
       "version_minor": 0
      },
      "text/plain": [
       "  0%|          | 0/5 [00:00<?, ?it/s]"
      ]
     },
     "metadata": {},
     "output_type": "display_data"
    },
    {
     "data": {
      "application/vnd.jupyter.widget-view+json": {
       "model_id": "",
       "version_major": 2,
       "version_minor": 0
      },
      "text/plain": [
       "  0%|          | 0/5 [00:00<?, ?it/s]"
      ]
     },
     "metadata": {},
     "output_type": "display_data"
    },
    {
     "data": {
      "application/vnd.jupyter.widget-view+json": {
       "model_id": "",
       "version_major": 2,
       "version_minor": 0
      },
      "text/plain": [
       "  0%|          | 0/5 [00:00<?, ?it/s]"
      ]
     },
     "metadata": {},
     "output_type": "display_data"
    },
    {
     "data": {
      "application/vnd.jupyter.widget-view+json": {
       "model_id": "",
       "version_major": 2,
       "version_minor": 0
      },
      "text/plain": [
       "  0%|          | 0/5 [00:00<?, ?it/s]"
      ]
     },
     "metadata": {},
     "output_type": "display_data"
    },
    {
     "data": {
      "application/vnd.jupyter.widget-view+json": {
       "model_id": "",
       "version_major": 2,
       "version_minor": 0
      },
      "text/plain": [
       "  0%|          | 0/5 [00:00<?, ?it/s]"
      ]
     },
     "metadata": {},
     "output_type": "display_data"
    },
    {
     "data": {
      "application/vnd.jupyter.widget-view+json": {
       "model_id": "",
       "version_major": 2,
       "version_minor": 0
      },
      "text/plain": [
       "  0%|          | 0/5 [00:00<?, ?it/s]"
      ]
     },
     "metadata": {},
     "output_type": "display_data"
    },
    {
     "data": {
      "application/vnd.jupyter.widget-view+json": {
       "model_id": "",
       "version_major": 2,
       "version_minor": 0
      },
      "text/plain": [
       "  0%|          | 0/5 [00:00<?, ?it/s]"
      ]
     },
     "metadata": {},
     "output_type": "display_data"
    },
    {
     "data": {
      "application/vnd.jupyter.widget-view+json": {
       "model_id": "",
       "version_major": 2,
       "version_minor": 0
      },
      "text/plain": [
       "  0%|          | 0/5 [00:00<?, ?it/s]"
      ]
     },
     "metadata": {},
     "output_type": "display_data"
    },
    {
     "data": {
      "application/vnd.jupyter.widget-view+json": {
       "model_id": "",
       "version_major": 2,
       "version_minor": 0
      },
      "text/plain": [
       "  0%|          | 0/5 [00:00<?, ?it/s]"
      ]
     },
     "metadata": {},
     "output_type": "display_data"
    },
    {
     "data": {
      "application/vnd.jupyter.widget-view+json": {
       "model_id": "",
       "version_major": 2,
       "version_minor": 0
      },
      "text/plain": [
       "  0%|          | 0/5 [00:00<?, ?it/s]"
      ]
     },
     "metadata": {},
     "output_type": "display_data"
    },
    {
     "data": {
      "application/vnd.jupyter.widget-view+json": {
       "model_id": "",
       "version_major": 2,
       "version_minor": 0
      },
      "text/plain": [
       "  0%|          | 0/5 [00:00<?, ?it/s]"
      ]
     },
     "metadata": {},
     "output_type": "display_data"
    },
    {
     "data": {
      "application/vnd.jupyter.widget-view+json": {
       "model_id": "",
       "version_major": 2,
       "version_minor": 0
      },
      "text/plain": [
       "  0%|          | 0/5 [00:00<?, ?it/s]"
      ]
     },
     "metadata": {},
     "output_type": "display_data"
    },
    {
     "data": {
      "application/vnd.jupyter.widget-view+json": {
       "model_id": "",
       "version_major": 2,
       "version_minor": 0
      },
      "text/plain": [
       "  0%|          | 0/5 [00:00<?, ?it/s]"
      ]
     },
     "metadata": {},
     "output_type": "display_data"
    },
    {
     "data": {
      "application/vnd.jupyter.widget-view+json": {
       "model_id": "",
       "version_major": 2,
       "version_minor": 0
      },
      "text/plain": [
       "  0%|          | 0/5 [00:00<?, ?it/s]"
      ]
     },
     "metadata": {},
     "output_type": "display_data"
    },
    {
     "data": {
      "application/vnd.jupyter.widget-view+json": {
       "model_id": "",
       "version_major": 2,
       "version_minor": 0
      },
      "text/plain": [
       "  0%|          | 0/5 [00:00<?, ?it/s]"
      ]
     },
     "metadata": {},
     "output_type": "display_data"
    },
    {
     "data": {
      "application/vnd.jupyter.widget-view+json": {
       "model_id": "",
       "version_major": 2,
       "version_minor": 0
      },
      "text/plain": [
       "  0%|          | 0/5 [00:00<?, ?it/s]"
      ]
     },
     "metadata": {},
     "output_type": "display_data"
    },
    {
     "data": {
      "application/vnd.jupyter.widget-view+json": {
       "model_id": "",
       "version_major": 2,
       "version_minor": 0
      },
      "text/plain": [
       "  0%|          | 0/5 [00:00<?, ?it/s]"
      ]
     },
     "metadata": {},
     "output_type": "display_data"
    },
    {
     "data": {
      "application/vnd.jupyter.widget-view+json": {
       "model_id": "",
       "version_major": 2,
       "version_minor": 0
      },
      "text/plain": [
       "  0%|          | 0/5 [00:00<?, ?it/s]"
      ]
     },
     "metadata": {},
     "output_type": "display_data"
    },
    {
     "data": {
      "application/vnd.jupyter.widget-view+json": {
       "model_id": "",
       "version_major": 2,
       "version_minor": 0
      },
      "text/plain": [
       "  0%|          | 0/5 [00:00<?, ?it/s]"
      ]
     },
     "metadata": {},
     "output_type": "display_data"
    },
    {
     "data": {
      "application/vnd.jupyter.widget-view+json": {
       "model_id": "",
       "version_major": 2,
       "version_minor": 0
      },
      "text/plain": [
       "  0%|          | 0/5 [00:00<?, ?it/s]"
      ]
     },
     "metadata": {},
     "output_type": "display_data"
    },
    {
     "data": {
      "application/vnd.jupyter.widget-view+json": {
       "model_id": "",
       "version_major": 2,
       "version_minor": 0
      },
      "text/plain": [
       "  0%|          | 0/5 [00:00<?, ?it/s]"
      ]
     },
     "metadata": {},
     "output_type": "display_data"
    },
    {
     "data": {
      "application/vnd.jupyter.widget-view+json": {
       "model_id": "",
       "version_major": 2,
       "version_minor": 0
      },
      "text/plain": [
       "  0%|          | 0/5 [00:00<?, ?it/s]"
      ]
     },
     "metadata": {},
     "output_type": "display_data"
    },
    {
     "data": {
      "application/vnd.jupyter.widget-view+json": {
       "model_id": "",
       "version_major": 2,
       "version_minor": 0
      },
      "text/plain": [
       "  0%|          | 0/5 [00:00<?, ?it/s]"
      ]
     },
     "metadata": {},
     "output_type": "display_data"
    },
    {
     "data": {
      "application/vnd.jupyter.widget-view+json": {
       "model_id": "",
       "version_major": 2,
       "version_minor": 0
      },
      "text/plain": [
       "  0%|          | 0/5 [00:00<?, ?it/s]"
      ]
     },
     "metadata": {},
     "output_type": "display_data"
    },
    {
     "data": {
      "application/vnd.jupyter.widget-view+json": {
       "model_id": "",
       "version_major": 2,
       "version_minor": 0
      },
      "text/plain": [
       "  0%|          | 0/5 [00:00<?, ?it/s]"
      ]
     },
     "metadata": {},
     "output_type": "display_data"
    },
    {
     "data": {
      "application/vnd.jupyter.widget-view+json": {
       "model_id": "",
       "version_major": 2,
       "version_minor": 0
      },
      "text/plain": [
       "  0%|          | 0/5 [00:00<?, ?it/s]"
      ]
     },
     "metadata": {},
     "output_type": "display_data"
    },
    {
     "data": {
      "application/vnd.jupyter.widget-view+json": {
       "model_id": "",
       "version_major": 2,
       "version_minor": 0
      },
      "text/plain": [
       "  0%|          | 0/5 [00:00<?, ?it/s]"
      ]
     },
     "metadata": {},
     "output_type": "display_data"
    },
    {
     "data": {
      "application/vnd.jupyter.widget-view+json": {
       "model_id": "",
       "version_major": 2,
       "version_minor": 0
      },
      "text/plain": [
       "  0%|          | 0/5 [00:00<?, ?it/s]"
      ]
     },
     "metadata": {},
     "output_type": "display_data"
    },
    {
     "data": {
      "application/vnd.jupyter.widget-view+json": {
       "model_id": "",
       "version_major": 2,
       "version_minor": 0
      },
      "text/plain": [
       "  0%|          | 0/5 [00:00<?, ?it/s]"
      ]
     },
     "metadata": {},
     "output_type": "display_data"
    },
    {
     "data": {
      "application/vnd.jupyter.widget-view+json": {
       "model_id": "",
       "version_major": 2,
       "version_minor": 0
      },
      "text/plain": [
       "  0%|          | 0/5 [00:00<?, ?it/s]"
      ]
     },
     "metadata": {},
     "output_type": "display_data"
    },
    {
     "data": {
      "application/vnd.jupyter.widget-view+json": {
       "model_id": "",
       "version_major": 2,
       "version_minor": 0
      },
      "text/plain": [
       "  0%|          | 0/5 [00:00<?, ?it/s]"
      ]
     },
     "metadata": {},
     "output_type": "display_data"
    },
    {
     "data": {
      "application/vnd.jupyter.widget-view+json": {
       "model_id": "",
       "version_major": 2,
       "version_minor": 0
      },
      "text/plain": [
       "  0%|          | 0/5 [00:00<?, ?it/s]"
      ]
     },
     "metadata": {},
     "output_type": "display_data"
    },
    {
     "data": {
      "application/vnd.jupyter.widget-view+json": {
       "model_id": "",
       "version_major": 2,
       "version_minor": 0
      },
      "text/plain": [
       "  0%|          | 0/5 [00:00<?, ?it/s]"
      ]
     },
     "metadata": {},
     "output_type": "display_data"
    },
    {
     "data": {
      "application/vnd.jupyter.widget-view+json": {
       "model_id": "",
       "version_major": 2,
       "version_minor": 0
      },
      "text/plain": [
       "  0%|          | 0/5 [00:00<?, ?it/s]"
      ]
     },
     "metadata": {},
     "output_type": "display_data"
    },
    {
     "data": {
      "application/vnd.jupyter.widget-view+json": {
       "model_id": "",
       "version_major": 2,
       "version_minor": 0
      },
      "text/plain": [
       "  0%|          | 0/5 [00:00<?, ?it/s]"
      ]
     },
     "metadata": {},
     "output_type": "display_data"
    },
    {
     "data": {
      "application/vnd.jupyter.widget-view+json": {
       "model_id": "",
       "version_major": 2,
       "version_minor": 0
      },
      "text/plain": [
       "  0%|          | 0/5 [00:00<?, ?it/s]"
      ]
     },
     "metadata": {},
     "output_type": "display_data"
    },
    {
     "data": {
      "application/vnd.jupyter.widget-view+json": {
       "model_id": "",
       "version_major": 2,
       "version_minor": 0
      },
      "text/plain": [
       "  0%|          | 0/5 [00:00<?, ?it/s]"
      ]
     },
     "metadata": {},
     "output_type": "display_data"
    },
    {
     "data": {
      "application/vnd.jupyter.widget-view+json": {
       "model_id": "",
       "version_major": 2,
       "version_minor": 0
      },
      "text/plain": [
       "  0%|          | 0/5 [00:00<?, ?it/s]"
      ]
     },
     "metadata": {},
     "output_type": "display_data"
    },
    {
     "data": {
      "application/vnd.jupyter.widget-view+json": {
       "model_id": "",
       "version_major": 2,
       "version_minor": 0
      },
      "text/plain": [
       "  0%|          | 0/5 [00:00<?, ?it/s]"
      ]
     },
     "metadata": {},
     "output_type": "display_data"
    },
    {
     "data": {
      "application/vnd.jupyter.widget-view+json": {
       "model_id": "",
       "version_major": 2,
       "version_minor": 0
      },
      "text/plain": [
       "  0%|          | 0/5 [00:00<?, ?it/s]"
      ]
     },
     "metadata": {},
     "output_type": "display_data"
    },
    {
     "data": {
      "application/vnd.jupyter.widget-view+json": {
       "model_id": "",
       "version_major": 2,
       "version_minor": 0
      },
      "text/plain": [
       "  0%|          | 0/5 [00:00<?, ?it/s]"
      ]
     },
     "metadata": {},
     "output_type": "display_data"
    },
    {
     "data": {
      "application/vnd.jupyter.widget-view+json": {
       "model_id": "",
       "version_major": 2,
       "version_minor": 0
      },
      "text/plain": [
       "  0%|          | 0/5 [00:00<?, ?it/s]"
      ]
     },
     "metadata": {},
     "output_type": "display_data"
    }
   ],
   "source": [
    "# %debug \n",
    "import multiprocessing\n",
    "\n",
    "test_builder = MetaBaseBuilder(estimators=clf_list,\n",
    "                               query_strategies=query_strategies,\n",
    "                               n_queries=5,\n",
    "                               initial_l_size=5)\n",
    "\n",
    "\n",
    "test_builder.build(datasets[0])"
   ]
  }
 ],
 "metadata": {
  "kernelspec": {
   "display_name": "jupyter-env",
   "language": "python",
   "name": "jupyter-env"
  },
  "language_info": {
   "codemirror_mode": {
    "name": "ipython",
    "version": 3
   },
   "file_extension": ".py",
   "mimetype": "text/x-python",
   "name": "python",
   "nbconvert_exporter": "python",
   "pygments_lexer": "ipython3",
   "version": "3.8.10"
  }
 },
 "nbformat": 4,
 "nbformat_minor": 5
}
